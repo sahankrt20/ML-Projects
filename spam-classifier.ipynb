{
 "cells": [
  {
   "cell_type": "code",
   "execution_count": 1,
   "id": "35eafccb",
   "metadata": {
    "_cell_guid": "b1076dfc-b9ad-4769-8c92-a6c4dae69d19",
    "_uuid": "8f2839f25d086af736a60e9eeb907d3b93b6e0e5",
    "execution": {
     "iopub.execute_input": "2025-01-28T17:59:10.924468Z",
     "iopub.status.busy": "2025-01-28T17:59:10.923937Z",
     "iopub.status.idle": "2025-01-28T17:59:14.121551Z",
     "shell.execute_reply": "2025-01-28T17:59:14.120233Z"
    },
    "papermill": {
     "duration": 3.210891,
     "end_time": "2025-01-28T17:59:14.123617",
     "exception": false,
     "start_time": "2025-01-28T17:59:10.912726",
     "status": "completed"
    },
    "tags": []
   },
   "outputs": [
    {
     "name": "stdout",
     "output_type": "stream",
     "text": [
      "/kaggle/input/sms-spam-collection-dataset/spam.csv\n"
     ]
    }
   ],
   "source": [
    "\n",
    "import numpy as np # linear algebra\n",
    "import pandas as pd # data processing, CSV file I/O (e.g. pd.read_csv)\n",
    "import seaborn as sns\n",
    "import matplotlib.pyplot as plt\n",
    "\n",
    "import os\n",
    "for dirname, _, filenames in os.walk('/kaggle/input'):\n",
    "    for filename in filenames:\n",
    "        print(os.path.join(dirname, filename))\n",
    "\n",
    "# You can write up to 20GB to the current directory (/kaggle/working/) that gets preserved as output when you create a version using \"Save & Run All\" \n",
    "# You can also write temporary files to /kaggle/temp/, but they won't be saved outside of the current session"
   ]
  },
  {
   "cell_type": "code",
   "execution_count": 2,
   "id": "07973655",
   "metadata": {
    "execution": {
     "iopub.execute_input": "2025-01-28T17:59:14.139637Z",
     "iopub.status.busy": "2025-01-28T17:59:14.139071Z",
     "iopub.status.idle": "2025-01-28T17:59:14.146758Z",
     "shell.execute_reply": "2025-01-28T17:59:14.145655Z"
    },
    "papermill": {
     "duration": 0.017439,
     "end_time": "2025-01-28T17:59:14.148627",
     "exception": false,
     "start_time": "2025-01-28T17:59:14.131188",
     "status": "completed"
    },
    "tags": []
   },
   "outputs": [
    {
     "data": {
      "text/plain": [
       "['__notebook__.ipynb']"
      ]
     },
     "execution_count": 2,
     "metadata": {},
     "output_type": "execute_result"
    }
   ],
   "source": [
    "os.listdir()"
   ]
  },
  {
   "cell_type": "code",
   "execution_count": 3,
   "id": "a842ce45",
   "metadata": {
    "execution": {
     "iopub.execute_input": "2025-01-28T17:59:14.164102Z",
     "iopub.status.busy": "2025-01-28T17:59:14.163691Z",
     "iopub.status.idle": "2025-01-28T17:59:14.227357Z",
     "shell.execute_reply": "2025-01-28T17:59:14.226178Z"
    },
    "papermill": {
     "duration": 0.073455,
     "end_time": "2025-01-28T17:59:14.229377",
     "exception": false,
     "start_time": "2025-01-28T17:59:14.155922",
     "status": "completed"
    },
    "tags": []
   },
   "outputs": [
    {
     "data": {
      "text/html": [
       "<div>\n",
       "<style scoped>\n",
       "    .dataframe tbody tr th:only-of-type {\n",
       "        vertical-align: middle;\n",
       "    }\n",
       "\n",
       "    .dataframe tbody tr th {\n",
       "        vertical-align: top;\n",
       "    }\n",
       "\n",
       "    .dataframe thead th {\n",
       "        text-align: right;\n",
       "    }\n",
       "</style>\n",
       "<table border=\"1\" class=\"dataframe\">\n",
       "  <thead>\n",
       "    <tr style=\"text-align: right;\">\n",
       "      <th></th>\n",
       "      <th>v1</th>\n",
       "      <th>v2</th>\n",
       "      <th>Unnamed: 2</th>\n",
       "      <th>Unnamed: 3</th>\n",
       "      <th>Unnamed: 4</th>\n",
       "    </tr>\n",
       "  </thead>\n",
       "  <tbody>\n",
       "    <tr>\n",
       "      <th>0</th>\n",
       "      <td>ham</td>\n",
       "      <td>Go until jurong point, crazy.. Available only ...</td>\n",
       "      <td>NaN</td>\n",
       "      <td>NaN</td>\n",
       "      <td>NaN</td>\n",
       "    </tr>\n",
       "    <tr>\n",
       "      <th>1</th>\n",
       "      <td>ham</td>\n",
       "      <td>Ok lar... Joking wif u oni...</td>\n",
       "      <td>NaN</td>\n",
       "      <td>NaN</td>\n",
       "      <td>NaN</td>\n",
       "    </tr>\n",
       "    <tr>\n",
       "      <th>2</th>\n",
       "      <td>spam</td>\n",
       "      <td>Free entry in 2 a wkly comp to win FA Cup fina...</td>\n",
       "      <td>NaN</td>\n",
       "      <td>NaN</td>\n",
       "      <td>NaN</td>\n",
       "    </tr>\n",
       "    <tr>\n",
       "      <th>3</th>\n",
       "      <td>ham</td>\n",
       "      <td>U dun say so early hor... U c already then say...</td>\n",
       "      <td>NaN</td>\n",
       "      <td>NaN</td>\n",
       "      <td>NaN</td>\n",
       "    </tr>\n",
       "    <tr>\n",
       "      <th>4</th>\n",
       "      <td>ham</td>\n",
       "      <td>Nah I don't think he goes to usf, he lives aro...</td>\n",
       "      <td>NaN</td>\n",
       "      <td>NaN</td>\n",
       "      <td>NaN</td>\n",
       "    </tr>\n",
       "    <tr>\n",
       "      <th>...</th>\n",
       "      <td>...</td>\n",
       "      <td>...</td>\n",
       "      <td>...</td>\n",
       "      <td>...</td>\n",
       "      <td>...</td>\n",
       "    </tr>\n",
       "    <tr>\n",
       "      <th>5567</th>\n",
       "      <td>spam</td>\n",
       "      <td>This is the 2nd time we have tried 2 contact u...</td>\n",
       "      <td>NaN</td>\n",
       "      <td>NaN</td>\n",
       "      <td>NaN</td>\n",
       "    </tr>\n",
       "    <tr>\n",
       "      <th>5568</th>\n",
       "      <td>ham</td>\n",
       "      <td>Will Ì_ b going to esplanade fr home?</td>\n",
       "      <td>NaN</td>\n",
       "      <td>NaN</td>\n",
       "      <td>NaN</td>\n",
       "    </tr>\n",
       "    <tr>\n",
       "      <th>5569</th>\n",
       "      <td>ham</td>\n",
       "      <td>Pity, * was in mood for that. So...any other s...</td>\n",
       "      <td>NaN</td>\n",
       "      <td>NaN</td>\n",
       "      <td>NaN</td>\n",
       "    </tr>\n",
       "    <tr>\n",
       "      <th>5570</th>\n",
       "      <td>ham</td>\n",
       "      <td>The guy did some bitching but I acted like i'd...</td>\n",
       "      <td>NaN</td>\n",
       "      <td>NaN</td>\n",
       "      <td>NaN</td>\n",
       "    </tr>\n",
       "    <tr>\n",
       "      <th>5571</th>\n",
       "      <td>ham</td>\n",
       "      <td>Rofl. Its true to its name</td>\n",
       "      <td>NaN</td>\n",
       "      <td>NaN</td>\n",
       "      <td>NaN</td>\n",
       "    </tr>\n",
       "  </tbody>\n",
       "</table>\n",
       "<p>5572 rows × 5 columns</p>\n",
       "</div>"
      ],
      "text/plain": [
       "        v1                                                 v2 Unnamed: 2  \\\n",
       "0      ham  Go until jurong point, crazy.. Available only ...        NaN   \n",
       "1      ham                      Ok lar... Joking wif u oni...        NaN   \n",
       "2     spam  Free entry in 2 a wkly comp to win FA Cup fina...        NaN   \n",
       "3      ham  U dun say so early hor... U c already then say...        NaN   \n",
       "4      ham  Nah I don't think he goes to usf, he lives aro...        NaN   \n",
       "...    ...                                                ...        ...   \n",
       "5567  spam  This is the 2nd time we have tried 2 contact u...        NaN   \n",
       "5568   ham              Will Ì_ b going to esplanade fr home?        NaN   \n",
       "5569   ham  Pity, * was in mood for that. So...any other s...        NaN   \n",
       "5570   ham  The guy did some bitching but I acted like i'd...        NaN   \n",
       "5571   ham                         Rofl. Its true to its name        NaN   \n",
       "\n",
       "     Unnamed: 3 Unnamed: 4  \n",
       "0           NaN        NaN  \n",
       "1           NaN        NaN  \n",
       "2           NaN        NaN  \n",
       "3           NaN        NaN  \n",
       "4           NaN        NaN  \n",
       "...         ...        ...  \n",
       "5567        NaN        NaN  \n",
       "5568        NaN        NaN  \n",
       "5569        NaN        NaN  \n",
       "5570        NaN        NaN  \n",
       "5571        NaN        NaN  \n",
       "\n",
       "[5572 rows x 5 columns]"
      ]
     },
     "execution_count": 3,
     "metadata": {},
     "output_type": "execute_result"
    }
   ],
   "source": [
    "df=pd.read_csv(\"/kaggle/input/sms-spam-collection-dataset/spam.csv\",encoding='latin')\n",
    "df"
   ]
  },
  {
   "cell_type": "code",
   "execution_count": 4,
   "id": "73f965af",
   "metadata": {
    "execution": {
     "iopub.execute_input": "2025-01-28T17:59:14.245285Z",
     "iopub.status.busy": "2025-01-28T17:59:14.244846Z",
     "iopub.status.idle": "2025-01-28T17:59:14.251393Z",
     "shell.execute_reply": "2025-01-28T17:59:14.250270Z"
    },
    "papermill": {
     "duration": 0.016675,
     "end_time": "2025-01-28T17:59:14.253443",
     "exception": false,
     "start_time": "2025-01-28T17:59:14.236768",
     "status": "completed"
    },
    "tags": []
   },
   "outputs": [
    {
     "data": {
      "text/plain": [
       "Index(['v1', 'v2', 'Unnamed: 2', 'Unnamed: 3', 'Unnamed: 4'], dtype='object')"
      ]
     },
     "execution_count": 4,
     "metadata": {},
     "output_type": "execute_result"
    }
   ],
   "source": [
    "df.columns"
   ]
  },
  {
   "cell_type": "code",
   "execution_count": 5,
   "id": "228cd396",
   "metadata": {
    "execution": {
     "iopub.execute_input": "2025-01-28T17:59:14.270236Z",
     "iopub.status.busy": "2025-01-28T17:59:14.269790Z",
     "iopub.status.idle": "2025-01-28T17:59:14.284667Z",
     "shell.execute_reply": "2025-01-28T17:59:14.283510Z"
    },
    "papermill": {
     "duration": 0.025291,
     "end_time": "2025-01-28T17:59:14.286400",
     "exception": false,
     "start_time": "2025-01-28T17:59:14.261109",
     "status": "completed"
    },
    "tags": []
   },
   "outputs": [
    {
     "data": {
      "text/html": [
       "<div>\n",
       "<style scoped>\n",
       "    .dataframe tbody tr th:only-of-type {\n",
       "        vertical-align: middle;\n",
       "    }\n",
       "\n",
       "    .dataframe tbody tr th {\n",
       "        vertical-align: top;\n",
       "    }\n",
       "\n",
       "    .dataframe thead th {\n",
       "        text-align: right;\n",
       "    }\n",
       "</style>\n",
       "<table border=\"1\" class=\"dataframe\">\n",
       "  <thead>\n",
       "    <tr style=\"text-align: right;\">\n",
       "      <th></th>\n",
       "      <th>v1</th>\n",
       "      <th>v2</th>\n",
       "    </tr>\n",
       "  </thead>\n",
       "  <tbody>\n",
       "    <tr>\n",
       "      <th>0</th>\n",
       "      <td>ham</td>\n",
       "      <td>Go until jurong point, crazy.. Available only ...</td>\n",
       "    </tr>\n",
       "    <tr>\n",
       "      <th>1</th>\n",
       "      <td>ham</td>\n",
       "      <td>Ok lar... Joking wif u oni...</td>\n",
       "    </tr>\n",
       "    <tr>\n",
       "      <th>2</th>\n",
       "      <td>spam</td>\n",
       "      <td>Free entry in 2 a wkly comp to win FA Cup fina...</td>\n",
       "    </tr>\n",
       "    <tr>\n",
       "      <th>3</th>\n",
       "      <td>ham</td>\n",
       "      <td>U dun say so early hor... U c already then say...</td>\n",
       "    </tr>\n",
       "    <tr>\n",
       "      <th>4</th>\n",
       "      <td>ham</td>\n",
       "      <td>Nah I don't think he goes to usf, he lives aro...</td>\n",
       "    </tr>\n",
       "  </tbody>\n",
       "</table>\n",
       "</div>"
      ],
      "text/plain": [
       "     v1                                                 v2\n",
       "0   ham  Go until jurong point, crazy.. Available only ...\n",
       "1   ham                      Ok lar... Joking wif u oni...\n",
       "2  spam  Free entry in 2 a wkly comp to win FA Cup fina...\n",
       "3   ham  U dun say so early hor... U c already then say...\n",
       "4   ham  Nah I don't think he goes to usf, he lives aro..."
      ]
     },
     "execution_count": 5,
     "metadata": {},
     "output_type": "execute_result"
    }
   ],
   "source": [
    "df.drop(['Unnamed: 2', 'Unnamed: 3', 'Unnamed: 4'], axis=1, inplace=True)\n",
    "df.head()"
   ]
  },
  {
   "cell_type": "code",
   "execution_count": 6,
   "id": "14e774cc",
   "metadata": {
    "execution": {
     "iopub.execute_input": "2025-01-28T17:59:14.303530Z",
     "iopub.status.busy": "2025-01-28T17:59:14.303138Z",
     "iopub.status.idle": "2025-01-28T17:59:14.314294Z",
     "shell.execute_reply": "2025-01-28T17:59:14.313075Z"
    },
    "papermill": {
     "duration": 0.022175,
     "end_time": "2025-01-28T17:59:14.316293",
     "exception": false,
     "start_time": "2025-01-28T17:59:14.294118",
     "status": "completed"
    },
    "tags": []
   },
   "outputs": [
    {
     "data": {
      "text/html": [
       "<div>\n",
       "<style scoped>\n",
       "    .dataframe tbody tr th:only-of-type {\n",
       "        vertical-align: middle;\n",
       "    }\n",
       "\n",
       "    .dataframe tbody tr th {\n",
       "        vertical-align: top;\n",
       "    }\n",
       "\n",
       "    .dataframe thead th {\n",
       "        text-align: right;\n",
       "    }\n",
       "</style>\n",
       "<table border=\"1\" class=\"dataframe\">\n",
       "  <thead>\n",
       "    <tr style=\"text-align: right;\">\n",
       "      <th></th>\n",
       "      <th>class</th>\n",
       "      <th>msg</th>\n",
       "    </tr>\n",
       "  </thead>\n",
       "  <tbody>\n",
       "    <tr>\n",
       "      <th>0</th>\n",
       "      <td>ham</td>\n",
       "      <td>Go until jurong point, crazy.. Available only ...</td>\n",
       "    </tr>\n",
       "    <tr>\n",
       "      <th>1</th>\n",
       "      <td>ham</td>\n",
       "      <td>Ok lar... Joking wif u oni...</td>\n",
       "    </tr>\n",
       "    <tr>\n",
       "      <th>2</th>\n",
       "      <td>spam</td>\n",
       "      <td>Free entry in 2 a wkly comp to win FA Cup fina...</td>\n",
       "    </tr>\n",
       "    <tr>\n",
       "      <th>3</th>\n",
       "      <td>ham</td>\n",
       "      <td>U dun say so early hor... U c already then say...</td>\n",
       "    </tr>\n",
       "    <tr>\n",
       "      <th>4</th>\n",
       "      <td>ham</td>\n",
       "      <td>Nah I don't think he goes to usf, he lives aro...</td>\n",
       "    </tr>\n",
       "    <tr>\n",
       "      <th>...</th>\n",
       "      <td>...</td>\n",
       "      <td>...</td>\n",
       "    </tr>\n",
       "    <tr>\n",
       "      <th>5567</th>\n",
       "      <td>spam</td>\n",
       "      <td>This is the 2nd time we have tried 2 contact u...</td>\n",
       "    </tr>\n",
       "    <tr>\n",
       "      <th>5568</th>\n",
       "      <td>ham</td>\n",
       "      <td>Will Ì_ b going to esplanade fr home?</td>\n",
       "    </tr>\n",
       "    <tr>\n",
       "      <th>5569</th>\n",
       "      <td>ham</td>\n",
       "      <td>Pity, * was in mood for that. So...any other s...</td>\n",
       "    </tr>\n",
       "    <tr>\n",
       "      <th>5570</th>\n",
       "      <td>ham</td>\n",
       "      <td>The guy did some bitching but I acted like i'd...</td>\n",
       "    </tr>\n",
       "    <tr>\n",
       "      <th>5571</th>\n",
       "      <td>ham</td>\n",
       "      <td>Rofl. Its true to its name</td>\n",
       "    </tr>\n",
       "  </tbody>\n",
       "</table>\n",
       "<p>5572 rows × 2 columns</p>\n",
       "</div>"
      ],
      "text/plain": [
       "     class                                                msg\n",
       "0      ham  Go until jurong point, crazy.. Available only ...\n",
       "1      ham                      Ok lar... Joking wif u oni...\n",
       "2     spam  Free entry in 2 a wkly comp to win FA Cup fina...\n",
       "3      ham  U dun say so early hor... U c already then say...\n",
       "4      ham  Nah I don't think he goes to usf, he lives aro...\n",
       "...    ...                                                ...\n",
       "5567  spam  This is the 2nd time we have tried 2 contact u...\n",
       "5568   ham              Will Ì_ b going to esplanade fr home?\n",
       "5569   ham  Pity, * was in mood for that. So...any other s...\n",
       "5570   ham  The guy did some bitching but I acted like i'd...\n",
       "5571   ham                         Rofl. Its true to its name\n",
       "\n",
       "[5572 rows x 2 columns]"
      ]
     },
     "execution_count": 6,
     "metadata": {},
     "output_type": "execute_result"
    }
   ],
   "source": [
    "df.rename(columns={'v1': 'class', 'v2': 'msg'}, inplace=True)\n",
    "df"
   ]
  },
  {
   "cell_type": "code",
   "execution_count": 7,
   "id": "db465793",
   "metadata": {
    "execution": {
     "iopub.execute_input": "2025-01-28T17:59:14.333162Z",
     "iopub.status.busy": "2025-01-28T17:59:14.332748Z",
     "iopub.status.idle": "2025-01-28T17:59:14.593699Z",
     "shell.execute_reply": "2025-01-28T17:59:14.592473Z"
    },
    "papermill": {
     "duration": 0.271583,
     "end_time": "2025-01-28T17:59:14.595782",
     "exception": false,
     "start_time": "2025-01-28T17:59:14.324199",
     "status": "completed"
    },
    "tags": []
   },
   "outputs": [
    {
     "data": {
      "image/png": "[encoded data removed]",
      "text/plain": [
       "<Figure size 640x480 with 1 Axes>"
      ]
     },
     "metadata": {},
     "output_type": "display_data"
    }
   ],
   "source": [
    "sns.countplot(x='class', data=df, palette=\"viridis\")\n",
    "plt.title(\"Class Distribution (Spam vs Non-Spam)\")\n",
    "plt.xlabel(\"class\")\n",
    "plt.ylabel(\"Count\")\n",
    "plt.show()\n"
   ]
  },
  {
   "cell_type": "code",
   "execution_count": 8,
   "id": "14acef40",
   "metadata": {
    "execution": {
     "iopub.execute_input": "2025-01-28T17:59:14.614299Z",
     "iopub.status.busy": "2025-01-28T17:59:14.613852Z",
     "iopub.status.idle": "2025-01-28T17:59:14.796828Z",
     "shell.execute_reply": "2025-01-28T17:59:14.795491Z"
    },
    "papermill": {
     "duration": 0.194901,
     "end_time": "2025-01-28T17:59:14.799162",
     "exception": false,
     "start_time": "2025-01-28T17:59:14.604261",
     "status": "completed"
    },
    "tags": []
   },
   "outputs": [
    {
     "name": "stderr",
     "output_type": "stream",
     "text": [
      "<ipython-input-8-f63618104bdb>:1: UserWarning: Ignoring `palette` because no `hue` variable has been assigned.\n",
      "  sns.histplot(x='class', data=df, palette=\"viridis\")\n",
      "/usr/local/lib/python3.10/dist-packages/seaborn/_oldcore.py:1119: FutureWarning: use_inf_as_na option is deprecated and will be removed in a future version. Convert inf values to NaN before operating instead.\n",
      "  with pd.option_context('mode.use_inf_as_na', True):\n"
     ]
    },
    {
     "data": {
      "image/png": "[encoded data removed]",
      "text/plain": [
       "<Figure size 640x480 with 1 Axes>"
      ]
     },
     "metadata": {},
     "output_type": "display_data"
    }
   ],
   "source": [
    "sns.histplot(x='class', data=df, palette=\"viridis\")\n",
    "plt.title(\"Class Distribution (Spam vs Non-Spam)\")\n",
    "plt.xlabel(\"class\")\n",
    "plt.ylabel(\"Count\")\n",
    "plt.show()"
   ]
  },
  {
   "cell_type": "markdown",
   "id": "cef67bf3",
   "metadata": {
    "papermill": {
     "duration": 0.009961,
     "end_time": "2025-01-28T17:59:14.819403",
     "exception": false,
     "start_time": "2025-01-28T17:59:14.809442",
     "status": "completed"
    },
    "tags": []
   },
   "source": [
    "# FEATURE ENGINEERING"
   ]
  },
  {
   "cell_type": "code",
   "execution_count": 9,
   "id": "e5a2f7e2",
   "metadata": {
    "execution": {
     "iopub.execute_input": "2025-01-28T17:59:14.840125Z",
     "iopub.status.busy": "2025-01-28T17:59:14.839722Z",
     "iopub.status.idle": "2025-01-28T17:59:16.223166Z",
     "shell.execute_reply": "2025-01-28T17:59:16.221627Z"
    },
    "papermill": {
     "duration": 1.396468,
     "end_time": "2025-01-28T17:59:16.225537",
     "exception": false,
     "start_time": "2025-01-28T17:59:14.829069",
     "status": "completed"
    },
    "tags": []
   },
   "outputs": [],
   "source": [
    "import nltk"
   ]
  },
  {
   "cell_type": "code",
   "execution_count": 10,
   "id": "ba186987",
   "metadata": {
    "execution": {
     "iopub.execute_input": "2025-01-28T17:59:16.247654Z",
     "iopub.status.busy": "2025-01-28T17:59:16.247186Z",
     "iopub.status.idle": "2025-01-28T17:59:16.427715Z",
     "shell.execute_reply": "2025-01-28T17:59:16.426379Z"
    },
    "papermill": {
     "duration": 0.194489,
     "end_time": "2025-01-28T17:59:16.429767",
     "exception": false,
     "start_time": "2025-01-28T17:59:16.235278",
     "status": "completed"
    },
    "tags": []
   },
   "outputs": [
    {
     "name": "stdout",
     "output_type": "stream",
     "text": [
      "[nltk_data] Downloading package stopwords to /usr/share/nltk_data...\n",
      "[nltk_data]   Package stopwords is already up-to-date!\n",
      "[nltk_data] Downloading package punkt to /usr/share/nltk_data...\n",
      "[nltk_data]   Package punkt is already up-to-date!\n"
     ]
    },
    {
     "data": {
      "text/plain": [
       "True"
      ]
     },
     "execution_count": 10,
     "metadata": {},
     "output_type": "execute_result"
    }
   ],
   "source": [
    "nltk.download('stopwords')\n",
    "nltk.download('punkt')"
   ]
  },
  {
   "cell_type": "code",
   "execution_count": 11,
   "id": "ad1572a0",
   "metadata": {
    "execution": {
     "iopub.execute_input": "2025-01-28T17:59:16.451788Z",
     "iopub.status.busy": "2025-01-28T17:59:16.451291Z",
     "iopub.status.idle": "2025-01-28T17:59:16.465440Z",
     "shell.execute_reply": "2025-01-28T17:59:16.464173Z"
    },
    "papermill": {
     "duration": 0.027724,
     "end_time": "2025-01-28T17:59:16.467525",
     "exception": false,
     "start_time": "2025-01-28T17:59:16.439801",
     "status": "completed"
    },
    "tags": []
   },
   "outputs": [
    {
     "data": {
      "text/html": [
       "<div>\n",
       "<style scoped>\n",
       "    .dataframe tbody tr th:only-of-type {\n",
       "        vertical-align: middle;\n",
       "    }\n",
       "\n",
       "    .dataframe tbody tr th {\n",
       "        vertical-align: top;\n",
       "    }\n",
       "\n",
       "    .dataframe thead th {\n",
       "        text-align: right;\n",
       "    }\n",
       "</style>\n",
       "<table border=\"1\" class=\"dataframe\">\n",
       "  <thead>\n",
       "    <tr style=\"text-align: right;\">\n",
       "      <th></th>\n",
       "      <th>class</th>\n",
       "      <th>msg</th>\n",
       "      <th>num_chars</th>\n",
       "    </tr>\n",
       "  </thead>\n",
       "  <tbody>\n",
       "    <tr>\n",
       "      <th>0</th>\n",
       "      <td>ham</td>\n",
       "      <td>Go until jurong point, crazy.. Available only ...</td>\n",
       "      <td>111</td>\n",
       "    </tr>\n",
       "    <tr>\n",
       "      <th>1</th>\n",
       "      <td>ham</td>\n",
       "      <td>Ok lar... Joking wif u oni...</td>\n",
       "      <td>29</td>\n",
       "    </tr>\n",
       "    <tr>\n",
       "      <th>2</th>\n",
       "      <td>spam</td>\n",
       "      <td>Free entry in 2 a wkly comp to win FA Cup fina...</td>\n",
       "      <td>155</td>\n",
       "    </tr>\n",
       "    <tr>\n",
       "      <th>3</th>\n",
       "      <td>ham</td>\n",
       "      <td>U dun say so early hor... U c already then say...</td>\n",
       "      <td>49</td>\n",
       "    </tr>\n",
       "    <tr>\n",
       "      <th>4</th>\n",
       "      <td>ham</td>\n",
       "      <td>Nah I don't think he goes to usf, he lives aro...</td>\n",
       "      <td>61</td>\n",
       "    </tr>\n",
       "  </tbody>\n",
       "</table>\n",
       "</div>"
      ],
      "text/plain": [
       "  class                                                msg  num_chars\n",
       "0   ham  Go until jurong point, crazy.. Available only ...        111\n",
       "1   ham                      Ok lar... Joking wif u oni...         29\n",
       "2  spam  Free entry in 2 a wkly comp to win FA Cup fina...        155\n",
       "3   ham  U dun say so early hor... U c already then say...         49\n",
       "4   ham  Nah I don't think he goes to usf, he lives aro...         61"
      ]
     },
     "execution_count": 11,
     "metadata": {},
     "output_type": "execute_result"
    }
   ],
   "source": [
    "df['num_chars'] = df['msg'].apply(len)\n",
    "df.head()"
   ]
  },
  {
   "cell_type": "code",
   "execution_count": 12,
   "id": "ed25a7f0",
   "metadata": {
    "execution": {
     "iopub.execute_input": "2025-01-28T17:59:16.489001Z",
     "iopub.status.busy": "2025-01-28T17:59:16.488547Z",
     "iopub.status.idle": "2025-01-28T17:59:17.690917Z",
     "shell.execute_reply": "2025-01-28T17:59:17.689558Z"
    },
    "papermill": {
     "duration": 1.215856,
     "end_time": "2025-01-28T17:59:17.693416",
     "exception": false,
     "start_time": "2025-01-28T17:59:16.477560",
     "status": "completed"
    },
    "tags": []
   },
   "outputs": [
    {
     "data": {
      "text/html": [
       "<div>\n",
       "<style scoped>\n",
       "    .dataframe tbody tr th:only-of-type {\n",
       "        vertical-align: middle;\n",
       "    }\n",
       "\n",
       "    .dataframe tbody tr th {\n",
       "        vertical-align: top;\n",
       "    }\n",
       "\n",
       "    .dataframe thead th {\n",
       "        text-align: right;\n",
       "    }\n",
       "</style>\n",
       "<table border=\"1\" class=\"dataframe\">\n",
       "  <thead>\n",
       "    <tr style=\"text-align: right;\">\n",
       "      <th></th>\n",
       "      <th>class</th>\n",
       "      <th>msg</th>\n",
       "      <th>num_chars</th>\n",
       "      <th>num_words</th>\n",
       "    </tr>\n",
       "  </thead>\n",
       "  <tbody>\n",
       "    <tr>\n",
       "      <th>0</th>\n",
       "      <td>ham</td>\n",
       "      <td>Go until jurong point, crazy.. Available only ...</td>\n",
       "      <td>111</td>\n",
       "      <td>23</td>\n",
       "    </tr>\n",
       "    <tr>\n",
       "      <th>1</th>\n",
       "      <td>ham</td>\n",
       "      <td>Ok lar... Joking wif u oni...</td>\n",
       "      <td>29</td>\n",
       "      <td>8</td>\n",
       "    </tr>\n",
       "    <tr>\n",
       "      <th>2</th>\n",
       "      <td>spam</td>\n",
       "      <td>Free entry in 2 a wkly comp to win FA Cup fina...</td>\n",
       "      <td>155</td>\n",
       "      <td>37</td>\n",
       "    </tr>\n",
       "    <tr>\n",
       "      <th>3</th>\n",
       "      <td>ham</td>\n",
       "      <td>U dun say so early hor... U c already then say...</td>\n",
       "      <td>49</td>\n",
       "      <td>13</td>\n",
       "    </tr>\n",
       "    <tr>\n",
       "      <th>4</th>\n",
       "      <td>ham</td>\n",
       "      <td>Nah I don't think he goes to usf, he lives aro...</td>\n",
       "      <td>61</td>\n",
       "      <td>15</td>\n",
       "    </tr>\n",
       "  </tbody>\n",
       "</table>\n",
       "</div>"
      ],
      "text/plain": [
       "  class                                                msg  num_chars  \\\n",
       "0   ham  Go until jurong point, crazy.. Available only ...        111   \n",
       "1   ham                      Ok lar... Joking wif u oni...         29   \n",
       "2  spam  Free entry in 2 a wkly comp to win FA Cup fina...        155   \n",
       "3   ham  U dun say so early hor... U c already then say...         49   \n",
       "4   ham  Nah I don't think he goes to usf, he lives aro...         61   \n",
       "\n",
       "   num_words  \n",
       "0         23  \n",
       "1          8  \n",
       "2         37  \n",
       "3         13  \n",
       "4         15  "
      ]
     },
     "execution_count": 12,
     "metadata": {},
     "output_type": "execute_result"
    }
   ],
   "source": [
    "df['num_words'] = df['msg'].apply(lambda x: len(nltk.word_tokenize(x)))\n",
    "df.head()"
   ]
  },
  {
   "cell_type": "code",
   "execution_count": 13,
   "id": "9492663b",
   "metadata": {
    "execution": {
     "iopub.execute_input": "2025-01-28T17:59:17.714667Z",
     "iopub.status.busy": "2025-01-28T17:59:17.714236Z",
     "iopub.status.idle": "2025-01-28T17:59:18.896251Z",
     "shell.execute_reply": "2025-01-28T17:59:18.894917Z"
    },
    "papermill": {
     "duration": 1.195082,
     "end_time": "2025-01-28T17:59:18.898424",
     "exception": false,
     "start_time": "2025-01-28T17:59:17.703342",
     "status": "completed"
    },
    "tags": []
   },
   "outputs": [
    {
     "data": {
      "text/html": [
       "<div>\n",
       "<style scoped>\n",
       "    .dataframe tbody tr th:only-of-type {\n",
       "        vertical-align: middle;\n",
       "    }\n",
       "\n",
       "    .dataframe tbody tr th {\n",
       "        vertical-align: top;\n",
       "    }\n",
       "\n",
       "    .dataframe thead th {\n",
       "        text-align: right;\n",
       "    }\n",
       "</style>\n",
       "<table border=\"1\" class=\"dataframe\">\n",
       "  <thead>\n",
       "    <tr style=\"text-align: right;\">\n",
       "      <th></th>\n",
       "      <th>class</th>\n",
       "      <th>msg</th>\n",
       "      <th>num_chars</th>\n",
       "      <th>num_words</th>\n",
       "      <th>num_sentences</th>\n",
       "    </tr>\n",
       "  </thead>\n",
       "  <tbody>\n",
       "    <tr>\n",
       "      <th>0</th>\n",
       "      <td>ham</td>\n",
       "      <td>Go until jurong point, crazy.. Available only ...</td>\n",
       "      <td>111</td>\n",
       "      <td>23</td>\n",
       "      <td>23</td>\n",
       "    </tr>\n",
       "    <tr>\n",
       "      <th>1</th>\n",
       "      <td>ham</td>\n",
       "      <td>Ok lar... Joking wif u oni...</td>\n",
       "      <td>29</td>\n",
       "      <td>8</td>\n",
       "      <td>8</td>\n",
       "    </tr>\n",
       "    <tr>\n",
       "      <th>2</th>\n",
       "      <td>spam</td>\n",
       "      <td>Free entry in 2 a wkly comp to win FA Cup fina...</td>\n",
       "      <td>155</td>\n",
       "      <td>37</td>\n",
       "      <td>37</td>\n",
       "    </tr>\n",
       "    <tr>\n",
       "      <th>3</th>\n",
       "      <td>ham</td>\n",
       "      <td>U dun say so early hor... U c already then say...</td>\n",
       "      <td>49</td>\n",
       "      <td>13</td>\n",
       "      <td>13</td>\n",
       "    </tr>\n",
       "    <tr>\n",
       "      <th>4</th>\n",
       "      <td>ham</td>\n",
       "      <td>Nah I don't think he goes to usf, he lives aro...</td>\n",
       "      <td>61</td>\n",
       "      <td>15</td>\n",
       "      <td>15</td>\n",
       "    </tr>\n",
       "  </tbody>\n",
       "</table>\n",
       "</div>"
      ],
      "text/plain": [
       "  class                                                msg  num_chars  \\\n",
       "0   ham  Go until jurong point, crazy.. Available only ...        111   \n",
       "1   ham                      Ok lar... Joking wif u oni...         29   \n",
       "2  spam  Free entry in 2 a wkly comp to win FA Cup fina...        155   \n",
       "3   ham  U dun say so early hor... U c already then say...         49   \n",
       "4   ham  Nah I don't think he goes to usf, he lives aro...         61   \n",
       "\n",
       "   num_words  num_sentences  \n",
       "0         23             23  \n",
       "1          8              8  \n",
       "2         37             37  \n",
       "3         13             13  \n",
       "4         15             15  "
      ]
     },
     "execution_count": 13,
     "metadata": {},
     "output_type": "execute_result"
    }
   ],
   "source": [
    "df['num_sentences']=df['msg'].apply(lambda x:len(nltk.word_tokenize(x)))\n",
    "df.head()"
   ]
  },
  {
   "cell_type": "code",
   "execution_count": 14,
   "id": "e9569495",
   "metadata": {
    "execution": {
     "iopub.execute_input": "2025-01-28T17:59:18.921418Z",
     "iopub.status.busy": "2025-01-28T17:59:18.920906Z",
     "iopub.status.idle": "2025-01-28T17:59:18.936003Z",
     "shell.execute_reply": "2025-01-28T17:59:18.934773Z"
    },
    "papermill": {
     "duration": 0.028725,
     "end_time": "2025-01-28T17:59:18.938213",
     "exception": false,
     "start_time": "2025-01-28T17:59:18.909488",
     "status": "completed"
    },
    "tags": []
   },
   "outputs": [
    {
     "data": {
      "text/html": [
       "<div>\n",
       "<style scoped>\n",
       "    .dataframe tbody tr th:only-of-type {\n",
       "        vertical-align: middle;\n",
       "    }\n",
       "\n",
       "    .dataframe tbody tr th {\n",
       "        vertical-align: top;\n",
       "    }\n",
       "\n",
       "    .dataframe thead th {\n",
       "        text-align: right;\n",
       "    }\n",
       "</style>\n",
       "<table border=\"1\" class=\"dataframe\">\n",
       "  <thead>\n",
       "    <tr style=\"text-align: right;\">\n",
       "      <th></th>\n",
       "      <th>num_chars</th>\n",
       "      <th>num_words</th>\n",
       "      <th>num_sentences</th>\n",
       "    </tr>\n",
       "  </thead>\n",
       "  <tbody>\n",
       "    <tr>\n",
       "      <th>0</th>\n",
       "      <td>111</td>\n",
       "      <td>23</td>\n",
       "      <td>23</td>\n",
       "    </tr>\n",
       "    <tr>\n",
       "      <th>1</th>\n",
       "      <td>29</td>\n",
       "      <td>8</td>\n",
       "      <td>8</td>\n",
       "    </tr>\n",
       "    <tr>\n",
       "      <th>2</th>\n",
       "      <td>155</td>\n",
       "      <td>37</td>\n",
       "      <td>37</td>\n",
       "    </tr>\n",
       "    <tr>\n",
       "      <th>3</th>\n",
       "      <td>49</td>\n",
       "      <td>13</td>\n",
       "      <td>13</td>\n",
       "    </tr>\n",
       "    <tr>\n",
       "      <th>4</th>\n",
       "      <td>61</td>\n",
       "      <td>15</td>\n",
       "      <td>15</td>\n",
       "    </tr>\n",
       "    <tr>\n",
       "      <th>...</th>\n",
       "      <td>...</td>\n",
       "      <td>...</td>\n",
       "      <td>...</td>\n",
       "    </tr>\n",
       "    <tr>\n",
       "      <th>5567</th>\n",
       "      <td>161</td>\n",
       "      <td>35</td>\n",
       "      <td>35</td>\n",
       "    </tr>\n",
       "    <tr>\n",
       "      <th>5568</th>\n",
       "      <td>37</td>\n",
       "      <td>9</td>\n",
       "      <td>9</td>\n",
       "    </tr>\n",
       "    <tr>\n",
       "      <th>5569</th>\n",
       "      <td>57</td>\n",
       "      <td>15</td>\n",
       "      <td>15</td>\n",
       "    </tr>\n",
       "    <tr>\n",
       "      <th>5570</th>\n",
       "      <td>125</td>\n",
       "      <td>27</td>\n",
       "      <td>27</td>\n",
       "    </tr>\n",
       "    <tr>\n",
       "      <th>5571</th>\n",
       "      <td>26</td>\n",
       "      <td>7</td>\n",
       "      <td>7</td>\n",
       "    </tr>\n",
       "  </tbody>\n",
       "</table>\n",
       "<p>5572 rows × 3 columns</p>\n",
       "</div>"
      ],
      "text/plain": [
       "      num_chars  num_words  num_sentences\n",
       "0           111         23             23\n",
       "1            29          8              8\n",
       "2           155         37             37\n",
       "3            49         13             13\n",
       "4            61         15             15\n",
       "...         ...        ...            ...\n",
       "5567        161         35             35\n",
       "5568         37          9              9\n",
       "5569         57         15             15\n",
       "5570        125         27             27\n",
       "5571         26          7              7\n",
       "\n",
       "[5572 rows x 3 columns]"
      ]
     },
     "execution_count": 14,
     "metadata": {},
     "output_type": "execute_result"
    }
   ],
   "source": [
    "numeric_columns=df.select_dtypes(include=[np.number])\n",
    "numeric_columns"
   ]
  },
  {
   "cell_type": "code",
   "execution_count": 15,
   "id": "67dfbd02",
   "metadata": {
    "execution": {
     "iopub.execute_input": "2025-01-28T17:59:18.960361Z",
     "iopub.status.busy": "2025-01-28T17:59:18.959865Z",
     "iopub.status.idle": "2025-01-28T17:59:19.230208Z",
     "shell.execute_reply": "2025-01-28T17:59:19.229102Z"
    },
    "papermill": {
     "duration": 0.283643,
     "end_time": "2025-01-28T17:59:19.232315",
     "exception": false,
     "start_time": "2025-01-28T17:59:18.948672",
     "status": "completed"
    },
    "tags": []
   },
   "outputs": [
    {
     "data": {
      "text/plain": [
       "<Axes: >"
      ]
     },
     "execution_count": 15,
     "metadata": {},
     "output_type": "execute_result"
    },
    {
     "data": {
      "image/png": "[encoded data removed]",
      "text/plain": [
       "<Figure size 640x480 with 2 Axes>"
      ]
     },
     "metadata": {},
     "output_type": "display_data"
    }
   ],
   "source": [
    "sns.heatmap(numeric_columns.corr(), annot=True, cmap='crest')"
   ]
  },
  {
   "cell_type": "code",
   "execution_count": 16,
   "id": "a76678a1",
   "metadata": {
    "execution": {
     "iopub.execute_input": "2025-01-28T17:59:19.254309Z",
     "iopub.status.busy": "2025-01-28T17:59:19.253881Z",
     "iopub.status.idle": "2025-01-28T17:59:19.358350Z",
     "shell.execute_reply": "2025-01-28T17:59:19.357063Z"
    },
    "papermill": {
     "duration": 0.117328,
     "end_time": "2025-01-28T17:59:19.360175",
     "exception": false,
     "start_time": "2025-01-28T17:59:19.242847",
     "status": "completed"
    },
    "tags": []
   },
   "outputs": [
    {
     "data": {
      "image/png": "[encoded data removed]",
      "text/plain": [
       "<Figure size 640x480 with 1 Axes>"
      ]
     },
     "metadata": {},
     "output_type": "display_data"
    }
   ],
   "source": [
    "plt.pie(df['class'].value_counts(),labels=['Ham','Spam'])\n",
    "plt.show()"
   ]
  },
  {
   "cell_type": "code",
   "execution_count": 17,
   "id": "10be5aae",
   "metadata": {
    "execution": {
     "iopub.execute_input": "2025-01-28T17:59:19.381910Z",
     "iopub.status.busy": "2025-01-28T17:59:19.381574Z",
     "iopub.status.idle": "2025-01-28T17:59:19.642990Z",
     "shell.execute_reply": "2025-01-28T17:59:19.641876Z"
    },
    "papermill": {
     "duration": 0.274364,
     "end_time": "2025-01-28T17:59:19.644829",
     "exception": false,
     "start_time": "2025-01-28T17:59:19.370465",
     "status": "completed"
    },
    "tags": []
   },
   "outputs": [
    {
     "data": {
      "image/png": "[encoded data removed]",
      "text/plain": [
       "<Figure size 640x480 with 1 Axes>"
      ]
     },
     "metadata": {},
     "output_type": "display_data"
    }
   ],
   "source": [
    "from wordcloud import WordCloud\n",
    "text=str(df[df[\"class\"]==1][\"msg\"])\n",
    "wordcloud = WordCloud().generate(text)\n",
    "\n",
    "plt.imshow(wordcloud)\n",
    "plt.axis('off')\n",
    "plt.show()"
   ]
  },
  {
   "cell_type": "code",
   "execution_count": 18,
   "id": "9c2066f0",
   "metadata": {
    "execution": {
     "iopub.execute_input": "2025-01-28T17:59:19.671617Z",
     "iopub.status.busy": "2025-01-28T17:59:19.670840Z",
     "iopub.status.idle": "2025-01-28T17:59:19.676369Z",
     "shell.execute_reply": "2025-01-28T17:59:19.675163Z"
    },
    "papermill": {
     "duration": 0.022214,
     "end_time": "2025-01-28T17:59:19.678828",
     "exception": false,
     "start_time": "2025-01-28T17:59:19.656614",
     "status": "completed"
    },
    "tags": []
   },
   "outputs": [],
   "source": [
    "from nltk.corpus import stopwords"
   ]
  },
  {
   "cell_type": "code",
   "execution_count": 19,
   "id": "eecd2068",
   "metadata": {
    "execution": {
     "iopub.execute_input": "2025-01-28T17:59:19.711838Z",
     "iopub.status.busy": "2025-01-28T17:59:19.711265Z",
     "iopub.status.idle": "2025-01-28T17:59:19.720077Z",
     "shell.execute_reply": "2025-01-28T17:59:19.718895Z"
    },
    "papermill": {
     "duration": 0.0262,
     "end_time": "2025-01-28T17:59:19.722316",
     "exception": false,
     "start_time": "2025-01-28T17:59:19.696116",
     "status": "completed"
    },
    "tags": []
   },
   "outputs": [],
   "source": [
    "sw=stopwords.words('english')\n",
    "import string \n",
    "punc=string.punctuation \n",
    "from nltk.stem.porter import PorterStemmer\n",
    "\n",
    "ps=PorterStemmer()"
   ]
  },
  {
   "cell_type": "code",
   "execution_count": 20,
   "id": "e939bf7a",
   "metadata": {
    "execution": {
     "iopub.execute_input": "2025-01-28T17:59:19.752778Z",
     "iopub.status.busy": "2025-01-28T17:59:19.752280Z",
     "iopub.status.idle": "2025-01-28T17:59:19.759726Z",
     "shell.execute_reply": "2025-01-28T17:59:19.758421Z"
    },
    "papermill": {
     "duration": 0.022603,
     "end_time": "2025-01-28T17:59:19.761919",
     "exception": false,
     "start_time": "2025-01-28T17:59:19.739316",
     "status": "completed"
    },
    "tags": []
   },
   "outputs": [],
   "source": [
    "def transform_text(text):\n",
    "    l=[]\n",
    "    text=text.lower()\n",
    "    text=nltk.word_tokenize(text)\n",
    "    for i in text:\n",
    "        if i.isalnum():\n",
    "            l.append(i)\n",
    "    text=l[:]#clone of list above\n",
    "    l.clear()\n",
    "    for i in text:\n",
    "        if i not in sw and i not in punc:\n",
    "            l.append(ps.stem(i))\n",
    "    return \"\".join(l)"
   ]
  },
  {
   "cell_type": "code",
   "execution_count": 21,
   "id": "3a5e1298",
   "metadata": {
    "execution": {
     "iopub.execute_input": "2025-01-28T17:59:19.792191Z",
     "iopub.status.busy": "2025-01-28T17:59:19.791678Z",
     "iopub.status.idle": "2025-01-28T17:59:19.799303Z",
     "shell.execute_reply": "2025-01-28T17:59:19.798148Z"
    },
    "papermill": {
     "duration": 0.023829,
     "end_time": "2025-01-28T17:59:19.801387",
     "exception": false,
     "start_time": "2025-01-28T17:59:19.777558",
     "status": "completed"
    },
    "tags": []
   },
   "outputs": [
    {
     "data": {
      "text/plain": [
       "'hinamesahan'"
      ]
     },
     "execution_count": 21,
     "metadata": {},
     "output_type": "execute_result"
    }
   ],
   "source": [
    "transform_text(\"Hi my name is Sahan . How are you doing?\")"
   ]
  },
  {
   "cell_type": "code",
   "execution_count": 22,
   "id": "2a3345d4",
   "metadata": {
    "execution": {
     "iopub.execute_input": "2025-01-28T17:59:19.828242Z",
     "iopub.status.busy": "2025-01-28T17:59:19.827736Z",
     "iopub.status.idle": "2025-01-28T17:59:22.227793Z",
     "shell.execute_reply": "2025-01-28T17:59:22.226766Z"
    },
    "papermill": {
     "duration": 2.4158,
     "end_time": "2025-01-28T17:59:22.229703",
     "exception": false,
     "start_time": "2025-01-28T17:59:19.813903",
     "status": "completed"
    },
    "tags": []
   },
   "outputs": [
    {
     "data": {
      "text/html": [
       "<div>\n",
       "<style scoped>\n",
       "    .dataframe tbody tr th:only-of-type {\n",
       "        vertical-align: middle;\n",
       "    }\n",
       "\n",
       "    .dataframe tbody tr th {\n",
       "        vertical-align: top;\n",
       "    }\n",
       "\n",
       "    .dataframe thead th {\n",
       "        text-align: right;\n",
       "    }\n",
       "</style>\n",
       "<table border=\"1\" class=\"dataframe\">\n",
       "  <thead>\n",
       "    <tr style=\"text-align: right;\">\n",
       "      <th></th>\n",
       "      <th>class</th>\n",
       "      <th>msg</th>\n",
       "      <th>num_chars</th>\n",
       "      <th>num_words</th>\n",
       "      <th>num_sentences</th>\n",
       "      <th>trf_text</th>\n",
       "    </tr>\n",
       "  </thead>\n",
       "  <tbody>\n",
       "    <tr>\n",
       "      <th>0</th>\n",
       "      <td>ham</td>\n",
       "      <td>Go until jurong point, crazy.. Available only ...</td>\n",
       "      <td>111</td>\n",
       "      <td>23</td>\n",
       "      <td>23</td>\n",
       "      <td>gojurongpointavailbugingreatworldlaebuffetcine...</td>\n",
       "    </tr>\n",
       "    <tr>\n",
       "      <th>1</th>\n",
       "      <td>ham</td>\n",
       "      <td>Ok lar... Joking wif u oni...</td>\n",
       "      <td>29</td>\n",
       "      <td>8</td>\n",
       "      <td>8</td>\n",
       "      <td>oklarjokewifuoni</td>\n",
       "    </tr>\n",
       "    <tr>\n",
       "      <th>2</th>\n",
       "      <td>spam</td>\n",
       "      <td>Free entry in 2 a wkly comp to win FA Cup fina...</td>\n",
       "      <td>155</td>\n",
       "      <td>37</td>\n",
       "      <td>37</td>\n",
       "      <td>freeentri2wklicompwinfacupfinaltkt21stmaytextf...</td>\n",
       "    </tr>\n",
       "    <tr>\n",
       "      <th>3</th>\n",
       "      <td>ham</td>\n",
       "      <td>U dun say so early hor... U c already then say...</td>\n",
       "      <td>49</td>\n",
       "      <td>13</td>\n",
       "      <td>13</td>\n",
       "      <td>udunsayearlihorucalreadisay</td>\n",
       "    </tr>\n",
       "    <tr>\n",
       "      <th>4</th>\n",
       "      <td>ham</td>\n",
       "      <td>Nah I don't think he goes to usf, he lives aro...</td>\n",
       "      <td>61</td>\n",
       "      <td>15</td>\n",
       "      <td>15</td>\n",
       "      <td>nahthinkgoeusflivearoundthough</td>\n",
       "    </tr>\n",
       "    <tr>\n",
       "      <th>...</th>\n",
       "      <td>...</td>\n",
       "      <td>...</td>\n",
       "      <td>...</td>\n",
       "      <td>...</td>\n",
       "      <td>...</td>\n",
       "      <td>...</td>\n",
       "    </tr>\n",
       "    <tr>\n",
       "      <th>5567</th>\n",
       "      <td>spam</td>\n",
       "      <td>This is the 2nd time we have tried 2 contact u...</td>\n",
       "      <td>161</td>\n",
       "      <td>35</td>\n",
       "      <td>35</td>\n",
       "      <td>2ndtimetri2contactupoundprize2claimeasicall087...</td>\n",
       "    </tr>\n",
       "    <tr>\n",
       "      <th>5568</th>\n",
       "      <td>ham</td>\n",
       "      <td>Will Ì_ b going to esplanade fr home?</td>\n",
       "      <td>37</td>\n",
       "      <td>9</td>\n",
       "      <td>9</td>\n",
       "      <td>bgoesplanadfrhome</td>\n",
       "    </tr>\n",
       "    <tr>\n",
       "      <th>5569</th>\n",
       "      <td>ham</td>\n",
       "      <td>Pity, * was in mood for that. So...any other s...</td>\n",
       "      <td>57</td>\n",
       "      <td>15</td>\n",
       "      <td>15</td>\n",
       "      <td>pitimoodsuggest</td>\n",
       "    </tr>\n",
       "    <tr>\n",
       "      <th>5570</th>\n",
       "      <td>ham</td>\n",
       "      <td>The guy did some bitching but I acted like i'd...</td>\n",
       "      <td>125</td>\n",
       "      <td>27</td>\n",
       "      <td>27</td>\n",
       "      <td>guybitchactlikeinterestbuysomethelsnextweekgav...</td>\n",
       "    </tr>\n",
       "    <tr>\n",
       "      <th>5571</th>\n",
       "      <td>ham</td>\n",
       "      <td>Rofl. Its true to its name</td>\n",
       "      <td>26</td>\n",
       "      <td>7</td>\n",
       "      <td>7</td>\n",
       "      <td>rofltruename</td>\n",
       "    </tr>\n",
       "  </tbody>\n",
       "</table>\n",
       "<p>5572 rows × 6 columns</p>\n",
       "</div>"
      ],
      "text/plain": [
       "     class                                                msg  num_chars  \\\n",
       "0      ham  Go until jurong point, crazy.. Available only ...        111   \n",
       "1      ham                      Ok lar... Joking wif u oni...         29   \n",
       "2     spam  Free entry in 2 a wkly comp to win FA Cup fina...        155   \n",
       "3      ham  U dun say so early hor... U c already then say...         49   \n",
       "4      ham  Nah I don't think he goes to usf, he lives aro...         61   \n",
       "...    ...                                                ...        ...   \n",
       "5567  spam  This is the 2nd time we have tried 2 contact u...        161   \n",
       "5568   ham              Will Ì_ b going to esplanade fr home?         37   \n",
       "5569   ham  Pity, * was in mood for that. So...any other s...         57   \n",
       "5570   ham  The guy did some bitching but I acted like i'd...        125   \n",
       "5571   ham                         Rofl. Its true to its name         26   \n",
       "\n",
       "      num_words  num_sentences  \\\n",
       "0            23             23   \n",
       "1             8              8   \n",
       "2            37             37   \n",
       "3            13             13   \n",
       "4            15             15   \n",
       "...         ...            ...   \n",
       "5567         35             35   \n",
       "5568          9              9   \n",
       "5569         15             15   \n",
       "5570         27             27   \n",
       "5571          7              7   \n",
       "\n",
       "                                               trf_text  \n",
       "0     gojurongpointavailbugingreatworldlaebuffetcine...  \n",
       "1                                      oklarjokewifuoni  \n",
       "2     freeentri2wklicompwinfacupfinaltkt21stmaytextf...  \n",
       "3                           udunsayearlihorucalreadisay  \n",
       "4                        nahthinkgoeusflivearoundthough  \n",
       "...                                                 ...  \n",
       "5567  2ndtimetri2contactupoundprize2claimeasicall087...  \n",
       "5568                                  bgoesplanadfrhome  \n",
       "5569                                    pitimoodsuggest  \n",
       "5570  guybitchactlikeinterestbuysomethelsnextweekgav...  \n",
       "5571                                       rofltruename  \n",
       "\n",
       "[5572 rows x 6 columns]"
      ]
     },
     "execution_count": 22,
     "metadata": {},
     "output_type": "execute_result"
    }
   ],
   "source": [
    "df['trf_text'] = df['msg'].apply(transform_text)\n",
    "df"
   ]
  },
  {
   "cell_type": "code",
   "execution_count": 23,
   "id": "08175396",
   "metadata": {
    "execution": {
     "iopub.execute_input": "2025-01-28T17:59:22.255450Z",
     "iopub.status.busy": "2025-01-28T17:59:22.255094Z",
     "iopub.status.idle": "2025-01-28T17:59:22.259966Z",
     "shell.execute_reply": "2025-01-28T17:59:22.258813Z"
    },
    "papermill": {
     "duration": 0.019914,
     "end_time": "2025-01-28T17:59:22.261979",
     "exception": false,
     "start_time": "2025-01-28T17:59:22.242065",
     "status": "completed"
    },
    "tags": []
   },
   "outputs": [],
   "source": [
    "wc=WordCloud(width=500,background_color='green',height=500,min_font_size=1)"
   ]
  },
  {
   "cell_type": "code",
   "execution_count": 24,
   "id": "4bb2b4b2",
   "metadata": {
    "execution": {
     "iopub.execute_input": "2025-01-28T17:59:22.287173Z",
     "iopub.status.busy": "2025-01-28T17:59:22.286687Z",
     "iopub.status.idle": "2025-01-28T17:59:22.294299Z",
     "shell.execute_reply": "2025-01-28T17:59:22.293147Z"
    },
    "papermill": {
     "duration": 0.021852,
     "end_time": "2025-01-28T17:59:22.295929",
     "exception": false,
     "start_time": "2025-01-28T17:59:22.274077",
     "status": "completed"
    },
    "tags": []
   },
   "outputs": [
    {
     "name": "stdout",
     "output_type": "stream",
     "text": [
      "Spam text length: 0\n",
      "\n"
     ]
    }
   ],
   "source": [
    "spam_text = df[df['class'] == 1]['trf_text'].str.cat(sep=\" \")\n",
    "print(f\"Spam text length: {len(spam_text)}\")\n",
    "print(spam_text)\n"
   ]
  },
  {
   "cell_type": "markdown",
   "id": "f6766f51",
   "metadata": {
    "papermill": {
     "duration": 0.011591,
     "end_time": "2025-01-28T17:59:22.319993",
     "exception": false,
     "start_time": "2025-01-28T17:59:22.308402",
     "status": "completed"
    },
    "tags": []
   },
   "source": [
    "# MODEL SELECTION"
   ]
  },
  {
   "cell_type": "code",
   "execution_count": 25,
   "id": "d976dc50",
   "metadata": {
    "execution": {
     "iopub.execute_input": "2025-01-28T17:59:22.345596Z",
     "iopub.status.busy": "2025-01-28T17:59:22.345217Z",
     "iopub.status.idle": "2025-01-28T17:59:22.349281Z",
     "shell.execute_reply": "2025-01-28T17:59:22.348194Z"
    },
    "papermill": {
     "duration": 0.019,
     "end_time": "2025-01-28T17:59:22.351105",
     "exception": false,
     "start_time": "2025-01-28T17:59:22.332105",
     "status": "completed"
    },
    "tags": []
   },
   "outputs": [],
   "source": [
    "from sklearn.feature_extraction.text import CountVectorizer, TfidfVectorizer\n",
    "    "
   ]
  },
  {
   "cell_type": "code",
   "execution_count": 26,
   "id": "701e907d",
   "metadata": {
    "execution": {
     "iopub.execute_input": "2025-01-28T17:59:22.377111Z",
     "iopub.status.busy": "2025-01-28T17:59:22.376717Z",
     "iopub.status.idle": "2025-01-28T17:59:22.381152Z",
     "shell.execute_reply": "2025-01-28T17:59:22.380085Z"
    },
    "papermill": {
     "duration": 0.018938,
     "end_time": "2025-01-28T17:59:22.382798",
     "exception": false,
     "start_time": "2025-01-28T17:59:22.363860",
     "status": "completed"
    },
    "tags": []
   },
   "outputs": [],
   "source": [
    "cv = CountVectorizer()  \n",
    "tfid = TfidfVectorizer(max_features=3000) \n",
    "\n",
    "    "
   ]
  },
  {
   "cell_type": "code",
   "execution_count": 27,
   "id": "f316df66",
   "metadata": {
    "execution": {
     "iopub.execute_input": "2025-01-28T17:59:22.408002Z",
     "iopub.status.busy": "2025-01-28T17:59:22.407572Z",
     "iopub.status.idle": "2025-01-28T17:59:22.481216Z",
     "shell.execute_reply": "2025-01-28T17:59:22.479966Z"
    },
    "papermill": {
     "duration": 0.088405,
     "end_time": "2025-01-28T17:59:22.483320",
     "exception": false,
     "start_time": "2025-01-28T17:59:22.394915",
     "status": "completed"
    },
    "tags": []
   },
   "outputs": [],
   "source": [
    "X = tfid.fit_transform(df['trf_text']).toarray()\n",
    "y=df['class']\n"
   ]
  },
  {
   "cell_type": "code",
   "execution_count": 28,
   "id": "f592dd88",
   "metadata": {
    "execution": {
     "iopub.execute_input": "2025-01-28T17:59:22.508825Z",
     "iopub.status.busy": "2025-01-28T17:59:22.508442Z",
     "iopub.status.idle": "2025-01-28T17:59:22.619869Z",
     "shell.execute_reply": "2025-01-28T17:59:22.618679Z"
    },
    "papermill": {
     "duration": 0.126505,
     "end_time": "2025-01-28T17:59:22.621995",
     "exception": false,
     "start_time": "2025-01-28T17:59:22.495490",
     "status": "completed"
    },
    "tags": []
   },
   "outputs": [],
   "source": [
    "from sklearn.model_selection import train_test_split\n",
    "X_train, X_test, y_train, y_test = train_test_split(X, y, test_size=0.20, random_state=2)\n"
   ]
  },
  {
   "cell_type": "code",
   "execution_count": 29,
   "id": "583797fc",
   "metadata": {
    "execution": {
     "iopub.execute_input": "2025-01-28T17:59:22.647057Z",
     "iopub.status.busy": "2025-01-28T17:59:22.646658Z",
     "iopub.status.idle": "2025-01-28T17:59:22.825643Z",
     "shell.execute_reply": "2025-01-28T17:59:22.824514Z"
    },
    "papermill": {
     "duration": 0.1936,
     "end_time": "2025-01-28T17:59:22.827492",
     "exception": false,
     "start_time": "2025-01-28T17:59:22.633892",
     "status": "completed"
    },
    "tags": []
   },
   "outputs": [
    {
     "data": {
      "text/html": [
       "<style>#sk-container-id-1 {color: black;background-color: white;}#sk-container-id-1 pre{padding: 0;}#sk-container-id-1 div.sk-toggleable {background-color: white;}#sk-container-id-1 label.sk-toggleable__label {cursor: pointer;display: block;width: 100%;margin-bottom: 0;padding: 0.3em;box-sizing: border-box;text-align: center;}#sk-container-id-1 label.sk-toggleable__label-arrow:before {content: \"▸\";float: left;margin-right: 0.25em;color: #696969;}#sk-container-id-1 label.sk-toggleable__label-arrow:hover:before {color: black;}#sk-container-id-1 div.sk-estimator:hover label.sk-toggleable__label-arrow:before {color: black;}#sk-container-id-1 div.sk-toggleable__content {max-height: 0;max-width: 0;overflow: hidden;text-align: left;background-color: #f0f8ff;}#sk-container-id-1 div.sk-toggleable__content pre {margin: 0.2em;color: black;border-radius: 0.25em;background-color: #f0f8ff;}#sk-container-id-1 input.sk-toggleable__control:checked~div.sk-toggleable__content {max-height: 200px;max-width: 100%;overflow: auto;}#sk-container-id-1 input.sk-toggleable__control:checked~label.sk-toggleable__label-arrow:before {content: \"▾\";}#sk-container-id-1 div.sk-estimator input.sk-toggleable__control:checked~label.sk-toggleable__label {background-color: #d4ebff;}#sk-container-id-1 div.sk-label input.sk-toggleable__control:checked~label.sk-toggleable__label {background-color: #d4ebff;}#sk-container-id-1 input.sk-hidden--visually {border: 0;clip: rect(1px 1px 1px 1px);clip: rect(1px, 1px, 1px, 1px);height: 1px;margin: -1px;overflow: hidden;padding: 0;position: absolute;width: 1px;}#sk-container-id-1 div.sk-estimator {font-family: monospace;background-color: #f0f8ff;border: 1px dotted black;border-radius: 0.25em;box-sizing: border-box;margin-bottom: 0.5em;}#sk-container-id-1 div.sk-estimator:hover {background-color: #d4ebff;}#sk-container-id-1 div.sk-parallel-item::after {content: \"\";width: 100%;border-bottom: 1px solid gray;flex-grow: 1;}#sk-container-id-1 div.sk-label:hover label.sk-toggleable__label {background-color: #d4ebff;}#sk-container-id-1 div.sk-serial::before {content: \"\";position: absolute;border-left: 1px solid gray;box-sizing: border-box;top: 0;bottom: 0;left: 50%;z-index: 0;}#sk-container-id-1 div.sk-serial {display: flex;flex-direction: column;align-items: center;background-color: white;padding-right: 0.2em;padding-left: 0.2em;position: relative;}#sk-container-id-1 div.sk-item {position: relative;z-index: 1;}#sk-container-id-1 div.sk-parallel {display: flex;align-items: stretch;justify-content: center;background-color: white;position: relative;}#sk-container-id-1 div.sk-item::before, #sk-container-id-1 div.sk-parallel-item::before {content: \"\";position: absolute;border-left: 1px solid gray;box-sizing: border-box;top: 0;bottom: 0;left: 50%;z-index: -1;}#sk-container-id-1 div.sk-parallel-item {display: flex;flex-direction: column;z-index: 1;position: relative;background-color: white;}#sk-container-id-1 div.sk-parallel-item:first-child::after {align-self: flex-end;width: 50%;}#sk-container-id-1 div.sk-parallel-item:last-child::after {align-self: flex-start;width: 50%;}#sk-container-id-1 div.sk-parallel-item:only-child::after {width: 0;}#sk-container-id-1 div.sk-dashed-wrapped {border: 1px dashed gray;margin: 0 0.4em 0.5em 0.4em;box-sizing: border-box;padding-bottom: 0.4em;background-color: white;}#sk-container-id-1 div.sk-label label {font-family: monospace;font-weight: bold;display: inline-block;line-height: 1.2em;}#sk-container-id-1 div.sk-label-container {text-align: center;}#sk-container-id-1 div.sk-container {/* jupyter's `normalize.less` sets `[hidden] { display: none; }` but bootstrap.min.css set `[hidden] { display: none !important; }` so we also need the `!important` here to be able to override the default hidden behavior on the sphinx rendered scikit-learn.org. See: https://github.com/scikit-learn/scikit-learn/issues/21755 */display: inline-block !important;position: relative;}#sk-container-id-1 div.sk-text-repr-fallback {display: none;}</style><div id=\"sk-container-id-1\" class=\"sk-top-container\"><div class=\"sk-text-repr-fallback\"><pre>BernoulliNB()</pre><b>In a Jupyter environment, please rerun this cell to show the HTML representation or trust the notebook. <br />On GitHub, the HTML representation is unable to render, please try loading this page with nbviewer.org.</b></div><div class=\"sk-container\" hidden><div class=\"sk-item\"><div class=\"sk-estimator sk-toggleable\"><input class=\"sk-toggleable__control sk-hidden--visually\" id=\"sk-estimator-id-1\" type=\"checkbox\" checked><label for=\"sk-estimator-id-1\" class=\"sk-toggleable__label sk-toggleable__label-arrow\">BernoulliNB</label><div class=\"sk-toggleable__content\"><pre>BernoulliNB()</pre></div></div></div></div></div>"
      ],
      "text/plain": [
       "BernoulliNB()"
      ]
     },
     "execution_count": 29,
     "metadata": {},
     "output_type": "execute_result"
    }
   ],
   "source": [
    "from sklearn.metrics import accuracy_score, precision_score, recall_score, f1_score\n",
    "from sklearn.naive_bayes import BernoulliNB\n",
    "bnb_model=BernoulliNB()\n",
    "bnb_model.fit(X_train, y_train)"
   ]
  },
  {
   "cell_type": "code",
   "execution_count": 30,
   "id": "de640416",
   "metadata": {
    "execution": {
     "iopub.execute_input": "2025-01-28T17:59:22.854997Z",
     "iopub.status.busy": "2025-01-28T17:59:22.854533Z",
     "iopub.status.idle": "2025-01-28T17:59:22.927918Z",
     "shell.execute_reply": "2025-01-28T17:59:22.926697Z"
    },
    "papermill": {
     "duration": 0.088743,
     "end_time": "2025-01-28T17:59:22.929744",
     "exception": false,
     "start_time": "2025-01-28T17:59:22.841001",
     "status": "completed"
    },
    "tags": []
   },
   "outputs": [
    {
     "name": "stdout",
     "output_type": "stream",
     "text": [
      "Accuracy: 85.83%\n",
      "Precision: 0.00%\n",
      "Recall: 0.00%\n",
      "F1-Score: 0.00%\n"
     ]
    },
    {
     "name": "stderr",
     "output_type": "stream",
     "text": [
      "/usr/local/lib/python3.10/dist-packages/sklearn/metrics/_classification.py:1344: UndefinedMetricWarning: Precision is ill-defined and being set to 0.0 due to no predicted samples. Use `zero_division` parameter to control this behavior.\n",
      "  _warn_prf(average, modifier, msg_start, len(result))\n"
     ]
    }
   ],
   "source": [
    "from sklearn.metrics import accuracy_score, precision_score, recall_score, f1_score\n",
    "\n",
    "Y_pred = bnb_model.predict(X_test)\n",
    "\n",
    "# Accuracy\n",
    "accuracy = accuracy_score(y_test, Y_pred)\n",
    "\n",
    "# Precision, Recall, F1-Score\n",
    "precision = precision_score(y_test, Y_pred, pos_label=\"spam\")\n",
    "recall = recall_score(y_test, Y_pred, pos_label=\"spam\")\n",
    "f1 = f1_score(y_test, Y_pred, pos_label=\"spam\")\n",
    "\n",
    "print(f\"Accuracy: {accuracy * 100:.2f}%\")\n",
    "print(f\"Precision: {precision * 100:.2f}%\")\n",
    "print(f\"Recall: {recall * 100:.2f}%\")\n",
    "print(f\"F1-Score: {f1 * 100:.2f}%\")\n",
    "\n"
   ]
  },
  {
   "cell_type": "code",
   "execution_count": 31,
   "id": "e00bca04",
   "metadata": {
    "execution": {
     "iopub.execute_input": "2025-01-28T17:59:22.956619Z",
     "iopub.status.busy": "2025-01-28T17:59:22.956270Z",
     "iopub.status.idle": "2025-01-28T17:59:22.972144Z",
     "shell.execute_reply": "2025-01-28T17:59:22.970984Z"
    },
    "papermill": {
     "duration": 0.031904,
     "end_time": "2025-01-28T17:59:22.974176",
     "exception": false,
     "start_time": "2025-01-28T17:59:22.942272",
     "status": "completed"
    },
    "tags": []
   },
   "outputs": [
    {
     "data": {
      "text/plain": [
       "0.0"
      ]
     },
     "execution_count": 31,
     "metadata": {},
     "output_type": "execute_result"
    }
   ],
   "source": [
    "f1 = f1_score(y_test, Y_pred,pos_label=\"spam\")\n",
    "f1"
   ]
  },
  {
   "cell_type": "code",
   "execution_count": 32,
   "id": "79a450fc",
   "metadata": {
    "execution": {
     "iopub.execute_input": "2025-01-28T17:59:23.001194Z",
     "iopub.status.busy": "2025-01-28T17:59:23.000782Z",
     "iopub.status.idle": "2025-01-28T17:59:23.010861Z",
     "shell.execute_reply": "2025-01-28T17:59:23.009651Z"
    },
    "papermill": {
     "duration": 0.026017,
     "end_time": "2025-01-28T17:59:23.012926",
     "exception": false,
     "start_time": "2025-01-28T17:59:22.986909",
     "status": "completed"
    },
    "tags": []
   },
   "outputs": [],
   "source": [
    "from sklearn.metrics import confusion_matrix\n",
    "\n",
    "conf_matrix = confusion_matrix(y_test, Y_pred)\n"
   ]
  },
  {
   "cell_type": "code",
   "execution_count": 33,
   "id": "317bd054",
   "metadata": {
    "execution": {
     "iopub.execute_input": "2025-01-28T17:59:23.039580Z",
     "iopub.status.busy": "2025-01-28T17:59:23.039203Z",
     "iopub.status.idle": "2025-01-28T17:59:23.186083Z",
     "shell.execute_reply": "2025-01-28T17:59:23.184920Z"
    },
    "papermill": {
     "duration": 0.162216,
     "end_time": "2025-01-28T17:59:23.187888",
     "exception": false,
     "start_time": "2025-01-28T17:59:23.025672",
     "status": "completed"
    },
    "tags": []
   },
   "outputs": [
    {
     "data": {
      "text/plain": [
       "Text(0.5, 102.72222222222219, 'Predicted Labels')"
      ]
     },
     "execution_count": 33,
     "metadata": {},
     "output_type": "execute_result"
    },
    {
     "data": {
      "image/png": "[encoded data removed]",
      "text/plain": [
       "<Figure size 1600x1200 with 1 Axes>"
      ]
     },
     "metadata": {},
     "output_type": "display_data"
    }
   ],
   "source": [
    "plt.figure(figsize=(16, 12))\n",
    "plt.subplot(2, 2, 3)\n",
    "sns.heatmap(conf_matrix, annot=True, fmt='d', cmap='Blues', cbar=False)\n",
    "plt.title('Confusion Matrix (Test Set)', fontsize=14)\n",
    "plt.ylabel('True Labels', fontsize=12)\n",
    "plt.xlabel('Predicted Labels', fontsize=12)"
   ]
  }
 ],
 "metadata": {
  "kaggle": {
   "accelerator": "none",
   "dataSources": [
    {
     "datasetId": 483,
     "sourceId": 982,
     "sourceType": "datasetVersion"
    }
   ],
   "dockerImageVersionId": 30839,
   "isGpuEnabled": false,
   "isInternetEnabled": true,
   "language": "python",
   "sourceType": "notebook"
  },
  "kernelspec": {
   "display_name": "Python 3",
   "language": "python",
   "name": "python3"
  },
  "language_info": {
   "codemirror_mode": {
    "name": "ipython",
    "version": 3
   },
   "file_extension": ".py",
   "mimetype": "text/x-python",
   "name": "python",
   "nbconvert_exporter": "python",
   "pygments_lexer": "ipython3",
   "version": "3.10.12"
  },
  "papermill": {
   "default_parameters": {},
   "duration": 16.166809,
   "end_time": "2025-01-28T17:59:24.124791",
   "environment_variables": {},
   "exception": null,
   "input_path": "__notebook__.ipynb",
   "output_path": "__notebook__.ipynb",
   "parameters": {},
   "start_time": "2025-01-28T17:59:07.957982",
   "version": "2.6.0"
  }
 },
 "nbformat": 4,
 "nbformat_minor": 5
}
