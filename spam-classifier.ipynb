{
 "cells": [
  {
   "cell_type": "code",
   "execution_count": 1,
   "id": "3a874ffd",
   "metadata": {
    "_cell_guid": "b1076dfc-b9ad-4769-8c92-a6c4dae69d19",
    "_uuid": "8f2839f25d086af736a60e9eeb907d3b93b6e0e5",
    "execution": {
     "iopub.execute_input": "2025-01-28T17:49:26.032476Z",
     "iopub.status.busy": "2025-01-28T17:49:26.032024Z",
     "iopub.status.idle": "2025-01-28T17:49:28.505654Z",
     "shell.execute_reply": "2025-01-28T17:49:28.504398Z"
    },
    "papermill": {
     "duration": 2.484607,
     "end_time": "2025-01-28T17:49:28.507474",
     "exception": false,
     "start_time": "2025-01-28T17:49:26.022867",
     "status": "completed"
    },
    "tags": []
   },
   "outputs": [
    {
     "name": "stdout",
     "output_type": "stream",
     "text": [
      "/kaggle/input/sms-spam-collection-dataset/spam.csv\n"
     ]
    }
   ],
   "source": [
    "\n",
    "import numpy as np # linear algebra\n",
    "import pandas as pd # data processing, CSV file I/O (e.g. pd.read_csv)\n",
    "import seaborn as sns\n",
    "import matplotlib.pyplot as plt\n",
    "\n",
    "import os\n",
    "for dirname, _, filenames in os.walk('/kaggle/input'):\n",
    "    for filename in filenames:\n",
    "        print(os.path.join(dirname, filename))\n",
    "\n",
    "# You can write up to 20GB to the current directory (/kaggle/working/) that gets preserved as output when you create a version using \"Save & Run All\" \n",
    "# You can also write temporary files to /kaggle/temp/, but they won't be saved outside of the current session"
   ]
  },
  {
   "cell_type": "code",
   "execution_count": 2,
   "id": "bd004ef0",
   "metadata": {
    "execution": {
     "iopub.execute_input": "2025-01-28T17:49:28.521205Z",
     "iopub.status.busy": "2025-01-28T17:49:28.520733Z",
     "iopub.status.idle": "2025-01-28T17:49:28.527397Z",
     "shell.execute_reply": "2025-01-28T17:49:28.526448Z"
    },
    "papermill": {
     "duration": 0.015092,
     "end_time": "2025-01-28T17:49:28.528888",
     "exception": false,
     "start_time": "2025-01-28T17:49:28.513796",
     "status": "completed"
    },
    "tags": []
   },
   "outputs": [
    {
     "data": {
      "text/plain": [
       "['__notebook__.ipynb']"
      ]
     },
     "execution_count": 2,
     "metadata": {},
     "output_type": "execute_result"
    }
   ],
   "source": [
    "os.listdir()"
   ]
  },
  {
   "cell_type": "code",
   "execution_count": 3,
   "id": "549f87d0",
   "metadata": {
    "execution": {
     "iopub.execute_input": "2025-01-28T17:49:28.542479Z",
     "iopub.status.busy": "2025-01-28T17:49:28.542109Z",
     "iopub.status.idle": "2025-01-28T17:49:28.596701Z",
     "shell.execute_reply": "2025-01-28T17:49:28.595658Z"
    },
    "papermill": {
     "duration": 0.063174,
     "end_time": "2025-01-28T17:49:28.598322",
     "exception": false,
     "start_time": "2025-01-28T17:49:28.535148",
     "status": "completed"
    },
    "tags": []
   },
   "outputs": [
    {
     "data": {
      "text/html": [
       "<div>\n",
       "<style scoped>\n",
       "    .dataframe tbody tr th:only-of-type {\n",
       "        vertical-align: middle;\n",
       "    }\n",
       "\n",
       "    .dataframe tbody tr th {\n",
       "        vertical-align: top;\n",
       "    }\n",
       "\n",
       "    .dataframe thead th {\n",
       "        text-align: right;\n",
       "    }\n",
       "</style>\n",
       "<table border=\"1\" class=\"dataframe\">\n",
       "  <thead>\n",
       "    <tr style=\"text-align: right;\">\n",
       "      <th></th>\n",
       "      <th>v1</th>\n",
       "      <th>v2</th>\n",
       "      <th>Unnamed: 2</th>\n",
       "      <th>Unnamed: 3</th>\n",
       "      <th>Unnamed: 4</th>\n",
       "    </tr>\n",
       "  </thead>\n",
       "  <tbody>\n",
       "    <tr>\n",
       "      <th>0</th>\n",
       "      <td>ham</td>\n",
       "      <td>Go until jurong point, crazy.. Available only ...</td>\n",
       "      <td>NaN</td>\n",
       "      <td>NaN</td>\n",
       "      <td>NaN</td>\n",
       "    </tr>\n",
       "    <tr>\n",
       "      <th>1</th>\n",
       "      <td>ham</td>\n",
       "      <td>Ok lar... Joking wif u oni...</td>\n",
       "      <td>NaN</td>\n",
       "      <td>NaN</td>\n",
       "      <td>NaN</td>\n",
       "    </tr>\n",
       "    <tr>\n",
       "      <th>2</th>\n",
       "      <td>spam</td>\n",
       "      <td>Free entry in 2 a wkly comp to win FA Cup fina...</td>\n",
       "      <td>NaN</td>\n",
       "      <td>NaN</td>\n",
       "      <td>NaN</td>\n",
       "    </tr>\n",
       "    <tr>\n",
       "      <th>3</th>\n",
       "      <td>ham</td>\n",
       "      <td>U dun say so early hor... U c already then say...</td>\n",
       "      <td>NaN</td>\n",
       "      <td>NaN</td>\n",
       "      <td>NaN</td>\n",
       "    </tr>\n",
       "    <tr>\n",
       "      <th>4</th>\n",
       "      <td>ham</td>\n",
       "      <td>Nah I don't think he goes to usf, he lives aro...</td>\n",
       "      <td>NaN</td>\n",
       "      <td>NaN</td>\n",
       "      <td>NaN</td>\n",
       "    </tr>\n",
       "    <tr>\n",
       "      <th>...</th>\n",
       "      <td>...</td>\n",
       "      <td>...</td>\n",
       "      <td>...</td>\n",
       "      <td>...</td>\n",
       "      <td>...</td>\n",
       "    </tr>\n",
       "    <tr>\n",
       "      <th>5567</th>\n",
       "      <td>spam</td>\n",
       "      <td>This is the 2nd time we have tried 2 contact u...</td>\n",
       "      <td>NaN</td>\n",
       "      <td>NaN</td>\n",
       "      <td>NaN</td>\n",
       "    </tr>\n",
       "    <tr>\n",
       "      <th>5568</th>\n",
       "      <td>ham</td>\n",
       "      <td>Will Ì_ b going to esplanade fr home?</td>\n",
       "      <td>NaN</td>\n",
       "      <td>NaN</td>\n",
       "      <td>NaN</td>\n",
       "    </tr>\n",
       "    <tr>\n",
       "      <th>5569</th>\n",
       "      <td>ham</td>\n",
       "      <td>Pity, * was in mood for that. So...any other s...</td>\n",
       "      <td>NaN</td>\n",
       "      <td>NaN</td>\n",
       "      <td>NaN</td>\n",
       "    </tr>\n",
       "    <tr>\n",
       "      <th>5570</th>\n",
       "      <td>ham</td>\n",
       "      <td>The guy did some bitching but I acted like i'd...</td>\n",
       "      <td>NaN</td>\n",
       "      <td>NaN</td>\n",
       "      <td>NaN</td>\n",
       "    </tr>\n",
       "    <tr>\n",
       "      <th>5571</th>\n",
       "      <td>ham</td>\n",
       "      <td>Rofl. Its true to its name</td>\n",
       "      <td>NaN</td>\n",
       "      <td>NaN</td>\n",
       "      <td>NaN</td>\n",
       "    </tr>\n",
       "  </tbody>\n",
       "</table>\n",
       "<p>5572 rows × 5 columns</p>\n",
       "</div>"
      ],
      "text/plain": [
       "        v1                                                 v2 Unnamed: 2  \\\n",
       "0      ham  Go until jurong point, crazy.. Available only ...        NaN   \n",
       "1      ham                      Ok lar... Joking wif u oni...        NaN   \n",
       "2     spam  Free entry in 2 a wkly comp to win FA Cup fina...        NaN   \n",
       "3      ham  U dun say so early hor... U c already then say...        NaN   \n",
       "4      ham  Nah I don't think he goes to usf, he lives aro...        NaN   \n",
       "...    ...                                                ...        ...   \n",
       "5567  spam  This is the 2nd time we have tried 2 contact u...        NaN   \n",
       "5568   ham              Will Ì_ b going to esplanade fr home?        NaN   \n",
       "5569   ham  Pity, * was in mood for that. So...any other s...        NaN   \n",
       "5570   ham  The guy did some bitching but I acted like i'd...        NaN   \n",
       "5571   ham                         Rofl. Its true to its name        NaN   \n",
       "\n",
       "     Unnamed: 3 Unnamed: 4  \n",
       "0           NaN        NaN  \n",
       "1           NaN        NaN  \n",
       "2           NaN        NaN  \n",
       "3           NaN        NaN  \n",
       "4           NaN        NaN  \n",
       "...         ...        ...  \n",
       "5567        NaN        NaN  \n",
       "5568        NaN        NaN  \n",
       "5569        NaN        NaN  \n",
       "5570        NaN        NaN  \n",
       "5571        NaN        NaN  \n",
       "\n",
       "[5572 rows x 5 columns]"
      ]
     },
     "execution_count": 3,
     "metadata": {},
     "output_type": "execute_result"
    }
   ],
   "source": [
    "df=pd.read_csv(\"/kaggle/input/sms-spam-collection-dataset/spam.csv\",encoding='latin')\n",
    "df"
   ]
  },
  {
   "cell_type": "code",
   "execution_count": 4,
   "id": "f0cd42b8",
   "metadata": {
    "execution": {
     "iopub.execute_input": "2025-01-28T17:49:28.612147Z",
     "iopub.status.busy": "2025-01-28T17:49:28.611825Z",
     "iopub.status.idle": "2025-01-28T17:49:28.617521Z",
     "shell.execute_reply": "2025-01-28T17:49:28.616480Z"
    },
    "papermill": {
     "duration": 0.01431,
     "end_time": "2025-01-28T17:49:28.619178",
     "exception": false,
     "start_time": "2025-01-28T17:49:28.604868",
     "status": "completed"
    },
    "tags": []
   },
   "outputs": [
    {
     "data": {
      "text/plain": [
       "Index(['v1', 'v2', 'Unnamed: 2', 'Unnamed: 3', 'Unnamed: 4'], dtype='object')"
      ]
     },
     "execution_count": 4,
     "metadata": {},
     "output_type": "execute_result"
    }
   ],
   "source": [
    "df.columns"
   ]
  },
  {
   "cell_type": "code",
   "execution_count": 5,
   "id": "c8438a4c",
   "metadata": {
    "execution": {
     "iopub.execute_input": "2025-01-28T17:49:28.633581Z",
     "iopub.status.busy": "2025-01-28T17:49:28.633157Z",
     "iopub.status.idle": "2025-01-28T17:49:28.646572Z",
     "shell.execute_reply": "2025-01-28T17:49:28.645512Z"
    },
    "papermill": {
     "duration": 0.022253,
     "end_time": "2025-01-28T17:49:28.648165",
     "exception": false,
     "start_time": "2025-01-28T17:49:28.625912",
     "status": "completed"
    },
    "tags": []
   },
   "outputs": [
    {
     "data": {
      "text/html": [
       "<div>\n",
       "<style scoped>\n",
       "    .dataframe tbody tr th:only-of-type {\n",
       "        vertical-align: middle;\n",
       "    }\n",
       "\n",
       "    .dataframe tbody tr th {\n",
       "        vertical-align: top;\n",
       "    }\n",
       "\n",
       "    .dataframe thead th {\n",
       "        text-align: right;\n",
       "    }\n",
       "</style>\n",
       "<table border=\"1\" class=\"dataframe\">\n",
       "  <thead>\n",
       "    <tr style=\"text-align: right;\">\n",
       "      <th></th>\n",
       "      <th>v1</th>\n",
       "      <th>v2</th>\n",
       "    </tr>\n",
       "  </thead>\n",
       "  <tbody>\n",
       "    <tr>\n",
       "      <th>0</th>\n",
       "      <td>ham</td>\n",
       "      <td>Go until jurong point, crazy.. Available only ...</td>\n",
       "    </tr>\n",
       "    <tr>\n",
       "      <th>1</th>\n",
       "      <td>ham</td>\n",
       "      <td>Ok lar... Joking wif u oni...</td>\n",
       "    </tr>\n",
       "    <tr>\n",
       "      <th>2</th>\n",
       "      <td>spam</td>\n",
       "      <td>Free entry in 2 a wkly comp to win FA Cup fina...</td>\n",
       "    </tr>\n",
       "    <tr>\n",
       "      <th>3</th>\n",
       "      <td>ham</td>\n",
       "      <td>U dun say so early hor... U c already then say...</td>\n",
       "    </tr>\n",
       "    <tr>\n",
       "      <th>4</th>\n",
       "      <td>ham</td>\n",
       "      <td>Nah I don't think he goes to usf, he lives aro...</td>\n",
       "    </tr>\n",
       "  </tbody>\n",
       "</table>\n",
       "</div>"
      ],
      "text/plain": [
       "     v1                                                 v2\n",
       "0   ham  Go until jurong point, crazy.. Available only ...\n",
       "1   ham                      Ok lar... Joking wif u oni...\n",
       "2  spam  Free entry in 2 a wkly comp to win FA Cup fina...\n",
       "3   ham  U dun say so early hor... U c already then say...\n",
       "4   ham  Nah I don't think he goes to usf, he lives aro..."
      ]
     },
     "execution_count": 5,
     "metadata": {},
     "output_type": "execute_result"
    }
   ],
   "source": [
    "df.drop(['Unnamed: 2', 'Unnamed: 3', 'Unnamed: 4'], axis=1, inplace=True)\n",
    "df.head()"
   ]
  },
  {
   "cell_type": "code",
   "execution_count": 6,
   "id": "e62e95df",
   "metadata": {
    "execution": {
     "iopub.execute_input": "2025-01-28T17:49:28.663023Z",
     "iopub.status.busy": "2025-01-28T17:49:28.662698Z",
     "iopub.status.idle": "2025-01-28T17:49:28.672647Z",
     "shell.execute_reply": "2025-01-28T17:49:28.671657Z"
    },
    "papermill": {
     "duration": 0.01901,
     "end_time": "2025-01-28T17:49:28.674041",
     "exception": false,
     "start_time": "2025-01-28T17:49:28.655031",
     "status": "completed"
    },
    "tags": []
   },
   "outputs": [
    {
     "data": {
      "text/html": [
       "<div>\n",
       "<style scoped>\n",
       "    .dataframe tbody tr th:only-of-type {\n",
       "        vertical-align: middle;\n",
       "    }\n",
       "\n",
       "    .dataframe tbody tr th {\n",
       "        vertical-align: top;\n",
       "    }\n",
       "\n",
       "    .dataframe thead th {\n",
       "        text-align: right;\n",
       "    }\n",
       "</style>\n",
       "<table border=\"1\" class=\"dataframe\">\n",
       "  <thead>\n",
       "    <tr style=\"text-align: right;\">\n",
       "      <th></th>\n",
       "      <th>class</th>\n",
       "      <th>msg</th>\n",
       "    </tr>\n",
       "  </thead>\n",
       "  <tbody>\n",
       "    <tr>\n",
       "      <th>0</th>\n",
       "      <td>ham</td>\n",
       "      <td>Go until jurong point, crazy.. Available only ...</td>\n",
       "    </tr>\n",
       "    <tr>\n",
       "      <th>1</th>\n",
       "      <td>ham</td>\n",
       "      <td>Ok lar... Joking wif u oni...</td>\n",
       "    </tr>\n",
       "    <tr>\n",
       "      <th>2</th>\n",
       "      <td>spam</td>\n",
       "      <td>Free entry in 2 a wkly comp to win FA Cup fina...</td>\n",
       "    </tr>\n",
       "    <tr>\n",
       "      <th>3</th>\n",
       "      <td>ham</td>\n",
       "      <td>U dun say so early hor... U c already then say...</td>\n",
       "    </tr>\n",
       "    <tr>\n",
       "      <th>4</th>\n",
       "      <td>ham</td>\n",
       "      <td>Nah I don't think he goes to usf, he lives aro...</td>\n",
       "    </tr>\n",
       "    <tr>\n",
       "      <th>...</th>\n",
       "      <td>...</td>\n",
       "      <td>...</td>\n",
       "    </tr>\n",
       "    <tr>\n",
       "      <th>5567</th>\n",
       "      <td>spam</td>\n",
       "      <td>This is the 2nd time we have tried 2 contact u...</td>\n",
       "    </tr>\n",
       "    <tr>\n",
       "      <th>5568</th>\n",
       "      <td>ham</td>\n",
       "      <td>Will Ì_ b going to esplanade fr home?</td>\n",
       "    </tr>\n",
       "    <tr>\n",
       "      <th>5569</th>\n",
       "      <td>ham</td>\n",
       "      <td>Pity, * was in mood for that. So...any other s...</td>\n",
       "    </tr>\n",
       "    <tr>\n",
       "      <th>5570</th>\n",
       "      <td>ham</td>\n",
       "      <td>The guy did some bitching but I acted like i'd...</td>\n",
       "    </tr>\n",
       "    <tr>\n",
       "      <th>5571</th>\n",
       "      <td>ham</td>\n",
       "      <td>Rofl. Its true to its name</td>\n",
       "    </tr>\n",
       "  </tbody>\n",
       "</table>\n",
       "<p>5572 rows × 2 columns</p>\n",
       "</div>"
      ],
      "text/plain": [
       "     class                                                msg\n",
       "0      ham  Go until jurong point, crazy.. Available only ...\n",
       "1      ham                      Ok lar... Joking wif u oni...\n",
       "2     spam  Free entry in 2 a wkly comp to win FA Cup fina...\n",
       "3      ham  U dun say so early hor... U c already then say...\n",
       "4      ham  Nah I don't think he goes to usf, he lives aro...\n",
       "...    ...                                                ...\n",
       "5567  spam  This is the 2nd time we have tried 2 contact u...\n",
       "5568   ham              Will Ì_ b going to esplanade fr home?\n",
       "5569   ham  Pity, * was in mood for that. So...any other s...\n",
       "5570   ham  The guy did some bitching but I acted like i'd...\n",
       "5571   ham                         Rofl. Its true to its name\n",
       "\n",
       "[5572 rows x 2 columns]"
      ]
     },
     "execution_count": 6,
     "metadata": {},
     "output_type": "execute_result"
    }
   ],
   "source": [
    "df.rename(columns={'v1': 'class', 'v2': 'msg'}, inplace=True)\n",
    "df"
   ]
  },
  {
   "cell_type": "code",
   "execution_count": 7,
   "id": "ad8fa104",
   "metadata": {
    "execution": {
     "iopub.execute_input": "2025-01-28T17:49:28.689750Z",
     "iopub.status.busy": "2025-01-28T17:49:28.689397Z",
     "iopub.status.idle": "2025-01-28T17:49:28.930361Z",
     "shell.execute_reply": "2025-01-28T17:49:28.929308Z"
    },
    "papermill": {
     "duration": 0.251064,
     "end_time": "2025-01-28T17:49:28.932040",
     "exception": false,
     "start_time": "2025-01-28T17:49:28.680976",
     "status": "completed"
    },
    "tags": []
   },
   "outputs": [
    {
     "data": {
      "image/png": "[encoded data removed]",
      "text/plain": [
       "<Figure size 640x480 with 1 Axes>"
      ]
     },
     "metadata": {},
     "output_type": "display_data"
    }
   ],
   "source": [
    "sns.countplot(x='class', data=df, palette=\"viridis\")\n",
    "plt.title(\"Class Distribution (Spam vs Non-Spam)\")\n",
    "plt.xlabel(\"class\")\n",
    "plt.ylabel(\"Count\")\n",
    "plt.show()\n"
   ]
  },
  {
   "cell_type": "code",
   "execution_count": 8,
   "id": "d1f776fc",
   "metadata": {
    "execution": {
     "iopub.execute_input": "2025-01-28T17:49:28.948081Z",
     "iopub.status.busy": "2025-01-28T17:49:28.947763Z",
     "iopub.status.idle": "2025-01-28T17:49:29.110775Z",
     "shell.execute_reply": "2025-01-28T17:49:29.109619Z"
    },
    "papermill": {
     "duration": 0.1728,
     "end_time": "2025-01-28T17:49:29.112299",
     "exception": false,
     "start_time": "2025-01-28T17:49:28.939499",
     "status": "completed"
    },
    "tags": []
   },
   "outputs": [
    {
     "name": "stderr",
     "output_type": "stream",
     "text": [
      "<ipython-input-8-f63618104bdb>:1: UserWarning: Ignoring `palette` because no `hue` variable has been assigned.\n",
      "  sns.histplot(x='class', data=df, palette=\"viridis\")\n",
      "/usr/local/lib/python3.10/dist-packages/seaborn/_oldcore.py:1119: FutureWarning: use_inf_as_na option is deprecated and will be removed in a future version. Convert inf values to NaN before operating instead.\n",
      "  with pd.option_context('mode.use_inf_as_na', True):\n"
     ]
    },
    {
     "data": {
      "image/png": "[encoded data removed]",
      "text/plain": [
       "<Figure size 640x480 with 1 Axes>"
      ]
     },
     "metadata": {},
     "output_type": "display_data"
    }
   ],
   "source": [
    "sns.histplot(x='class', data=df, palette=\"viridis\")\n",
    "plt.title(\"Class Distribution (Spam vs Non-Spam)\")\n",
    "plt.xlabel(\"class\")\n",
    "plt.ylabel(\"Count\")\n",
    "plt.show()"
   ]
  },
  {
   "cell_type": "markdown",
   "id": "6f80e910",
   "metadata": {
    "papermill": {
     "duration": 0.007388,
     "end_time": "2025-01-28T17:49:29.127261",
     "exception": false,
     "start_time": "2025-01-28T17:49:29.119873",
     "status": "completed"
    },
    "tags": []
   },
   "source": [
    "# FEATURE ENGINEERING"
   ]
  },
  {
   "cell_type": "code",
   "execution_count": 9,
   "id": "638e672b",
   "metadata": {
    "execution": {
     "iopub.execute_input": "2025-01-28T17:49:29.143800Z",
     "iopub.status.busy": "2025-01-28T17:49:29.143391Z",
     "iopub.status.idle": "2025-01-28T17:49:30.106118Z",
     "shell.execute_reply": "2025-01-28T17:49:30.105281Z"
    },
    "papermill": {
     "duration": 0.973171,
     "end_time": "2025-01-28T17:49:30.108029",
     "exception": false,
     "start_time": "2025-01-28T17:49:29.134858",
     "status": "completed"
    },
    "tags": []
   },
   "outputs": [],
   "source": [
    "import nltk"
   ]
  },
  {
   "cell_type": "code",
   "execution_count": 10,
   "id": "895db171",
   "metadata": {
    "execution": {
     "iopub.execute_input": "2025-01-28T17:49:30.125114Z",
     "iopub.status.busy": "2025-01-28T17:49:30.124751Z",
     "iopub.status.idle": "2025-01-28T17:49:30.287329Z",
     "shell.execute_reply": "2025-01-28T17:49:30.286302Z"
    },
    "papermill": {
     "duration": 0.172794,
     "end_time": "2025-01-28T17:49:30.288862",
     "exception": false,
     "start_time": "2025-01-28T17:49:30.116068",
     "status": "completed"
    },
    "tags": []
   },
   "outputs": [
    {
     "name": "stdout",
     "output_type": "stream",
     "text": [
      "[nltk_data] Downloading package stopwords to /usr/share/nltk_data...\n",
      "[nltk_data]   Package stopwords is already up-to-date!\n",
      "[nltk_data] Downloading package punkt to /usr/share/nltk_data...\n",
      "[nltk_data]   Package punkt is already up-to-date!\n"
     ]
    },
    {
     "data": {
      "text/plain": [
       "True"
      ]
     },
     "execution_count": 10,
     "metadata": {},
     "output_type": "execute_result"
    }
   ],
   "source": [
    "nltk.download('stopwords')\n",
    "nltk.download('punkt')"
   ]
  },
  {
   "cell_type": "code",
   "execution_count": 11,
   "id": "f1b4aa0a",
   "metadata": {
    "execution": {
     "iopub.execute_input": "2025-01-28T17:49:30.305928Z",
     "iopub.status.busy": "2025-01-28T17:49:30.305554Z",
     "iopub.status.idle": "2025-01-28T17:49:30.317570Z",
     "shell.execute_reply": "2025-01-28T17:49:30.316554Z"
    },
    "papermill": {
     "duration": 0.022639,
     "end_time": "2025-01-28T17:49:30.319366",
     "exception": false,
     "start_time": "2025-01-28T17:49:30.296727",
     "status": "completed"
    },
    "tags": []
   },
   "outputs": [
    {
     "data": {
      "text/html": [
       "<div>\n",
       "<style scoped>\n",
       "    .dataframe tbody tr th:only-of-type {\n",
       "        vertical-align: middle;\n",
       "    }\n",
       "\n",
       "    .dataframe tbody tr th {\n",
       "        vertical-align: top;\n",
       "    }\n",
       "\n",
       "    .dataframe thead th {\n",
       "        text-align: right;\n",
       "    }\n",
       "</style>\n",
       "<table border=\"1\" class=\"dataframe\">\n",
       "  <thead>\n",
       "    <tr style=\"text-align: right;\">\n",
       "      <th></th>\n",
       "      <th>class</th>\n",
       "      <th>msg</th>\n",
       "      <th>num_chars</th>\n",
       "    </tr>\n",
       "  </thead>\n",
       "  <tbody>\n",
       "    <tr>\n",
       "      <th>0</th>\n",
       "      <td>ham</td>\n",
       "      <td>Go until jurong point, crazy.. Available only ...</td>\n",
       "      <td>111</td>\n",
       "    </tr>\n",
       "    <tr>\n",
       "      <th>1</th>\n",
       "      <td>ham</td>\n",
       "      <td>Ok lar... Joking wif u oni...</td>\n",
       "      <td>29</td>\n",
       "    </tr>\n",
       "    <tr>\n",
       "      <th>2</th>\n",
       "      <td>spam</td>\n",
       "      <td>Free entry in 2 a wkly comp to win FA Cup fina...</td>\n",
       "      <td>155</td>\n",
       "    </tr>\n",
       "    <tr>\n",
       "      <th>3</th>\n",
       "      <td>ham</td>\n",
       "      <td>U dun say so early hor... U c already then say...</td>\n",
       "      <td>49</td>\n",
       "    </tr>\n",
       "    <tr>\n",
       "      <th>4</th>\n",
       "      <td>ham</td>\n",
       "      <td>Nah I don't think he goes to usf, he lives aro...</td>\n",
       "      <td>61</td>\n",
       "    </tr>\n",
       "  </tbody>\n",
       "</table>\n",
       "</div>"
      ],
      "text/plain": [
       "  class                                                msg  num_chars\n",
       "0   ham  Go until jurong point, crazy.. Available only ...        111\n",
       "1   ham                      Ok lar... Joking wif u oni...         29\n",
       "2  spam  Free entry in 2 a wkly comp to win FA Cup fina...        155\n",
       "3   ham  U dun say so early hor... U c already then say...         49\n",
       "4   ham  Nah I don't think he goes to usf, he lives aro...         61"
      ]
     },
     "execution_count": 11,
     "metadata": {},
     "output_type": "execute_result"
    }
   ],
   "source": [
    "df['num_chars'] = df['msg'].apply(len)\n",
    "df.head()"
   ]
  },
  {
   "cell_type": "code",
   "execution_count": 12,
   "id": "61b076e3",
   "metadata": {
    "execution": {
     "iopub.execute_input": "2025-01-28T17:49:30.336993Z",
     "iopub.status.busy": "2025-01-28T17:49:30.336604Z",
     "iopub.status.idle": "2025-01-28T17:49:31.572260Z",
     "shell.execute_reply": "2025-01-28T17:49:31.571201Z"
    },
    "papermill": {
     "duration": 1.246163,
     "end_time": "2025-01-28T17:49:31.573808",
     "exception": false,
     "start_time": "2025-01-28T17:49:30.327645",
     "status": "completed"
    },
    "tags": []
   },
   "outputs": [
    {
     "data": {
      "text/html": [
       "<div>\n",
       "<style scoped>\n",
       "    .dataframe tbody tr th:only-of-type {\n",
       "        vertical-align: middle;\n",
       "    }\n",
       "\n",
       "    .dataframe tbody tr th {\n",
       "        vertical-align: top;\n",
       "    }\n",
       "\n",
       "    .dataframe thead th {\n",
       "        text-align: right;\n",
       "    }\n",
       "</style>\n",
       "<table border=\"1\" class=\"dataframe\">\n",
       "  <thead>\n",
       "    <tr style=\"text-align: right;\">\n",
       "      <th></th>\n",
       "      <th>class</th>\n",
       "      <th>msg</th>\n",
       "      <th>num_chars</th>\n",
       "      <th>num_words</th>\n",
       "    </tr>\n",
       "  </thead>\n",
       "  <tbody>\n",
       "    <tr>\n",
       "      <th>0</th>\n",
       "      <td>ham</td>\n",
       "      <td>Go until jurong point, crazy.. Available only ...</td>\n",
       "      <td>111</td>\n",
       "      <td>23</td>\n",
       "    </tr>\n",
       "    <tr>\n",
       "      <th>1</th>\n",
       "      <td>ham</td>\n",
       "      <td>Ok lar... Joking wif u oni...</td>\n",
       "      <td>29</td>\n",
       "      <td>8</td>\n",
       "    </tr>\n",
       "    <tr>\n",
       "      <th>2</th>\n",
       "      <td>spam</td>\n",
       "      <td>Free entry in 2 a wkly comp to win FA Cup fina...</td>\n",
       "      <td>155</td>\n",
       "      <td>37</td>\n",
       "    </tr>\n",
       "    <tr>\n",
       "      <th>3</th>\n",
       "      <td>ham</td>\n",
       "      <td>U dun say so early hor... U c already then say...</td>\n",
       "      <td>49</td>\n",
       "      <td>13</td>\n",
       "    </tr>\n",
       "    <tr>\n",
       "      <th>4</th>\n",
       "      <td>ham</td>\n",
       "      <td>Nah I don't think he goes to usf, he lives aro...</td>\n",
       "      <td>61</td>\n",
       "      <td>15</td>\n",
       "    </tr>\n",
       "  </tbody>\n",
       "</table>\n",
       "</div>"
      ],
      "text/plain": [
       "  class                                                msg  num_chars  \\\n",
       "0   ham  Go until jurong point, crazy.. Available only ...        111   \n",
       "1   ham                      Ok lar... Joking wif u oni...         29   \n",
       "2  spam  Free entry in 2 a wkly comp to win FA Cup fina...        155   \n",
       "3   ham  U dun say so early hor... U c already then say...         49   \n",
       "4   ham  Nah I don't think he goes to usf, he lives aro...         61   \n",
       "\n",
       "   num_words  \n",
       "0         23  \n",
       "1          8  \n",
       "2         37  \n",
       "3         13  \n",
       "4         15  "
      ]
     },
     "execution_count": 12,
     "metadata": {},
     "output_type": "execute_result"
    }
   ],
   "source": [
    "df['num_words'] = df['msg'].apply(lambda x: len(nltk.word_tokenize(x)))\n",
    "df.head()"
   ]
  },
  {
   "cell_type": "code",
   "execution_count": 13,
   "id": "3a91d21c",
   "metadata": {
    "execution": {
     "iopub.execute_input": "2025-01-28T17:49:31.591467Z",
     "iopub.status.busy": "2025-01-28T17:49:31.591068Z",
     "iopub.status.idle": "2025-01-28T17:49:32.737876Z",
     "shell.execute_reply": "2025-01-28T17:49:32.736838Z"
    },
    "papermill": {
     "duration": 1.157575,
     "end_time": "2025-01-28T17:49:32.739769",
     "exception": false,
     "start_time": "2025-01-28T17:49:31.582194",
     "status": "completed"
    },
    "tags": []
   },
   "outputs": [
    {
     "data": {
      "text/html": [
       "<div>\n",
       "<style scoped>\n",
       "    .dataframe tbody tr th:only-of-type {\n",
       "        vertical-align: middle;\n",
       "    }\n",
       "\n",
       "    .dataframe tbody tr th {\n",
       "        vertical-align: top;\n",
       "    }\n",
       "\n",
       "    .dataframe thead th {\n",
       "        text-align: right;\n",
       "    }\n",
       "</style>\n",
       "<table border=\"1\" class=\"dataframe\">\n",
       "  <thead>\n",
       "    <tr style=\"text-align: right;\">\n",
       "      <th></th>\n",
       "      <th>class</th>\n",
       "      <th>msg</th>\n",
       "      <th>num_chars</th>\n",
       "      <th>num_words</th>\n",
       "      <th>num_sentences</th>\n",
       "    </tr>\n",
       "  </thead>\n",
       "  <tbody>\n",
       "    <tr>\n",
       "      <th>0</th>\n",
       "      <td>ham</td>\n",
       "      <td>Go until jurong point, crazy.. Available only ...</td>\n",
       "      <td>111</td>\n",
       "      <td>23</td>\n",
       "      <td>23</td>\n",
       "    </tr>\n",
       "    <tr>\n",
       "      <th>1</th>\n",
       "      <td>ham</td>\n",
       "      <td>Ok lar... Joking wif u oni...</td>\n",
       "      <td>29</td>\n",
       "      <td>8</td>\n",
       "      <td>8</td>\n",
       "    </tr>\n",
       "    <tr>\n",
       "      <th>2</th>\n",
       "      <td>spam</td>\n",
       "      <td>Free entry in 2 a wkly comp to win FA Cup fina...</td>\n",
       "      <td>155</td>\n",
       "      <td>37</td>\n",
       "      <td>37</td>\n",
       "    </tr>\n",
       "    <tr>\n",
       "      <th>3</th>\n",
       "      <td>ham</td>\n",
       "      <td>U dun say so early hor... U c already then say...</td>\n",
       "      <td>49</td>\n",
       "      <td>13</td>\n",
       "      <td>13</td>\n",
       "    </tr>\n",
       "    <tr>\n",
       "      <th>4</th>\n",
       "      <td>ham</td>\n",
       "      <td>Nah I don't think he goes to usf, he lives aro...</td>\n",
       "      <td>61</td>\n",
       "      <td>15</td>\n",
       "      <td>15</td>\n",
       "    </tr>\n",
       "  </tbody>\n",
       "</table>\n",
       "</div>"
      ],
      "text/plain": [
       "  class                                                msg  num_chars  \\\n",
       "0   ham  Go until jurong point, crazy.. Available only ...        111   \n",
       "1   ham                      Ok lar... Joking wif u oni...         29   \n",
       "2  spam  Free entry in 2 a wkly comp to win FA Cup fina...        155   \n",
       "3   ham  U dun say so early hor... U c already then say...         49   \n",
       "4   ham  Nah I don't think he goes to usf, he lives aro...         61   \n",
       "\n",
       "   num_words  num_sentences  \n",
       "0         23             23  \n",
       "1          8              8  \n",
       "2         37             37  \n",
       "3         13             13  \n",
       "4         15             15  "
      ]
     },
     "execution_count": 13,
     "metadata": {},
     "output_type": "execute_result"
    }
   ],
   "source": [
    "df['num_sentences']=df['msg'].apply(lambda x:len(nltk.word_tokenize(x)))\n",
    "df.head()"
   ]
  },
  {
   "cell_type": "code",
   "execution_count": 14,
   "id": "95a078a5",
   "metadata": {
    "execution": {
     "iopub.execute_input": "2025-01-28T17:49:32.758225Z",
     "iopub.status.busy": "2025-01-28T17:49:32.757896Z",
     "iopub.status.idle": "2025-01-28T17:49:32.770608Z",
     "shell.execute_reply": "2025-01-28T17:49:32.769305Z"
    },
    "papermill": {
     "duration": 0.023832,
     "end_time": "2025-01-28T17:49:32.772449",
     "exception": false,
     "start_time": "2025-01-28T17:49:32.748617",
     "status": "completed"
    },
    "tags": []
   },
   "outputs": [
    {
     "data": {
      "text/html": [
       "<div>\n",
       "<style scoped>\n",
       "    .dataframe tbody tr th:only-of-type {\n",
       "        vertical-align: middle;\n",
       "    }\n",
       "\n",
       "    .dataframe tbody tr th {\n",
       "        vertical-align: top;\n",
       "    }\n",
       "\n",
       "    .dataframe thead th {\n",
       "        text-align: right;\n",
       "    }\n",
       "</style>\n",
       "<table border=\"1\" class=\"dataframe\">\n",
       "  <thead>\n",
       "    <tr style=\"text-align: right;\">\n",
       "      <th></th>\n",
       "      <th>num_chars</th>\n",
       "      <th>num_words</th>\n",
       "      <th>num_sentences</th>\n",
       "    </tr>\n",
       "  </thead>\n",
       "  <tbody>\n",
       "    <tr>\n",
       "      <th>0</th>\n",
       "      <td>111</td>\n",
       "      <td>23</td>\n",
       "      <td>23</td>\n",
       "    </tr>\n",
       "    <tr>\n",
       "      <th>1</th>\n",
       "      <td>29</td>\n",
       "      <td>8</td>\n",
       "      <td>8</td>\n",
       "    </tr>\n",
       "    <tr>\n",
       "      <th>2</th>\n",
       "      <td>155</td>\n",
       "      <td>37</td>\n",
       "      <td>37</td>\n",
       "    </tr>\n",
       "    <tr>\n",
       "      <th>3</th>\n",
       "      <td>49</td>\n",
       "      <td>13</td>\n",
       "      <td>13</td>\n",
       "    </tr>\n",
       "    <tr>\n",
       "      <th>4</th>\n",
       "      <td>61</td>\n",
       "      <td>15</td>\n",
       "      <td>15</td>\n",
       "    </tr>\n",
       "    <tr>\n",
       "      <th>...</th>\n",
       "      <td>...</td>\n",
       "      <td>...</td>\n",
       "      <td>...</td>\n",
       "    </tr>\n",
       "    <tr>\n",
       "      <th>5567</th>\n",
       "      <td>161</td>\n",
       "      <td>35</td>\n",
       "      <td>35</td>\n",
       "    </tr>\n",
       "    <tr>\n",
       "      <th>5568</th>\n",
       "      <td>37</td>\n",
       "      <td>9</td>\n",
       "      <td>9</td>\n",
       "    </tr>\n",
       "    <tr>\n",
       "      <th>5569</th>\n",
       "      <td>57</td>\n",
       "      <td>15</td>\n",
       "      <td>15</td>\n",
       "    </tr>\n",
       "    <tr>\n",
       "      <th>5570</th>\n",
       "      <td>125</td>\n",
       "      <td>27</td>\n",
       "      <td>27</td>\n",
       "    </tr>\n",
       "    <tr>\n",
       "      <th>5571</th>\n",
       "      <td>26</td>\n",
       "      <td>7</td>\n",
       "      <td>7</td>\n",
       "    </tr>\n",
       "  </tbody>\n",
       "</table>\n",
       "<p>5572 rows × 3 columns</p>\n",
       "</div>"
      ],
      "text/plain": [
       "      num_chars  num_words  num_sentences\n",
       "0           111         23             23\n",
       "1            29          8              8\n",
       "2           155         37             37\n",
       "3            49         13             13\n",
       "4            61         15             15\n",
       "...         ...        ...            ...\n",
       "5567        161         35             35\n",
       "5568         37          9              9\n",
       "5569         57         15             15\n",
       "5570        125         27             27\n",
       "5571         26          7              7\n",
       "\n",
       "[5572 rows x 3 columns]"
      ]
     },
     "execution_count": 14,
     "metadata": {},
     "output_type": "execute_result"
    }
   ],
   "source": [
    "numeric_columns=df.select_dtypes(include=[np.number])\n",
    "numeric_columns"
   ]
  },
  {
   "cell_type": "code",
   "execution_count": 15,
   "id": "6d327757",
   "metadata": {
    "execution": {
     "iopub.execute_input": "2025-01-28T17:49:32.791720Z",
     "iopub.status.busy": "2025-01-28T17:49:32.791345Z",
     "iopub.status.idle": "2025-01-28T17:49:33.032550Z",
     "shell.execute_reply": "2025-01-28T17:49:33.031489Z"
    },
    "papermill": {
     "duration": 0.252356,
     "end_time": "2025-01-28T17:49:33.034128",
     "exception": false,
     "start_time": "2025-01-28T17:49:32.781772",
     "status": "completed"
    },
    "tags": []
   },
   "outputs": [
    {
     "data": {
      "text/plain": [
       "<Axes: >"
      ]
     },
     "execution_count": 15,
     "metadata": {},
     "output_type": "execute_result"
    },
    {
     "data": {
      "image/png": "[encoded data removed]",
      "text/plain": [
       "<Figure size 640x480 with 2 Axes>"
      ]
     },
     "metadata": {},
     "output_type": "display_data"
    }
   ],
   "source": [
    "sns.heatmap(numeric_columns.corr(), annot=True, cmap='crest')"
   ]
  },
  {
   "cell_type": "code",
   "execution_count": 16,
   "id": "0e38092d",
   "metadata": {
    "execution": {
     "iopub.execute_input": "2025-01-28T17:49:33.054056Z",
     "iopub.status.busy": "2025-01-28T17:49:33.053716Z",
     "iopub.status.idle": "2025-01-28T17:49:33.152299Z",
     "shell.execute_reply": "2025-01-28T17:49:33.151217Z"
    },
    "papermill": {
     "duration": 0.110608,
     "end_time": "2025-01-28T17:49:33.154301",
     "exception": false,
     "start_time": "2025-01-28T17:49:33.043693",
     "status": "completed"
    },
    "tags": []
   },
   "outputs": [
    {
     "data": {
      "image/png": "[encoded data removed]",
      "text/plain": [
       "<Figure size 640x480 with 1 Axes>"
      ]
     },
     "metadata": {},
     "output_type": "display_data"
    }
   ],
   "source": [
    "plt.pie(df['class'].value_counts(),labels=['Ham','Spam'])\n",
    "plt.show()"
   ]
  },
  {
   "cell_type": "code",
   "execution_count": 17,
   "id": "256518c6",
   "metadata": {
    "execution": {
     "iopub.execute_input": "2025-01-28T17:49:33.175230Z",
     "iopub.status.busy": "2025-01-28T17:49:33.174854Z",
     "iopub.status.idle": "2025-01-28T17:49:33.415797Z",
     "shell.execute_reply": "2025-01-28T17:49:33.414757Z"
    },
    "papermill": {
     "duration": 0.253213,
     "end_time": "2025-01-28T17:49:33.417541",
     "exception": false,
     "start_time": "2025-01-28T17:49:33.164328",
     "status": "completed"
    },
    "tags": []
   },
   "outputs": [
    {
     "data": {
      "image/png": "[encoded data removed]",
      "text/plain": [
       "<Figure size 640x480 with 1 Axes>"
      ]
     },
     "metadata": {},
     "output_type": "display_data"
    }
   ],
   "source": [
    "from wordcloud import WordCloud\n",
    "text=str(df[df[\"class\"]==1][\"msg\"])\n",
    "wordcloud = WordCloud().generate(text)\n",
    "\n",
    "plt.imshow(wordcloud)\n",
    "plt.axis('off')\n",
    "plt.show()"
   ]
  },
  {
   "cell_type": "code",
   "execution_count": 18,
   "id": "2b74819e",
   "metadata": {
    "execution": {
     "iopub.execute_input": "2025-01-28T17:49:33.440751Z",
     "iopub.status.busy": "2025-01-28T17:49:33.440216Z",
     "iopub.status.idle": "2025-01-28T17:49:33.444225Z",
     "shell.execute_reply": "2025-01-28T17:49:33.443385Z"
    },
    "papermill": {
     "duration": 0.017225,
     "end_time": "2025-01-28T17:49:33.445849",
     "exception": false,
     "start_time": "2025-01-28T17:49:33.428624",
     "status": "completed"
    },
    "tags": []
   },
   "outputs": [],
   "source": [
    "from nltk.corpus import stopwords"
   ]
  },
  {
   "cell_type": "code",
   "execution_count": 19,
   "id": "e2bdece0",
   "metadata": {
    "execution": {
     "iopub.execute_input": "2025-01-28T17:49:33.468363Z",
     "iopub.status.busy": "2025-01-28T17:49:33.467955Z",
     "iopub.status.idle": "2025-01-28T17:49:33.474632Z",
     "shell.execute_reply": "2025-01-28T17:49:33.473641Z"
    },
    "papermill": {
     "duration": 0.019687,
     "end_time": "2025-01-28T17:49:33.476209",
     "exception": false,
     "start_time": "2025-01-28T17:49:33.456522",
     "status": "completed"
    },
    "tags": []
   },
   "outputs": [],
   "source": [
    "sw=stopwords.words('english')\n",
    "import string \n",
    "punc=string.punctuation \n",
    "from nltk.stem.porter import PorterStemmer\n",
    "\n",
    "ps=PorterStemmer()"
   ]
  },
  {
   "cell_type": "code",
   "execution_count": 20,
   "id": "8c5ff842",
   "metadata": {
    "execution": {
     "iopub.execute_input": "2025-01-28T17:49:33.499082Z",
     "iopub.status.busy": "2025-01-28T17:49:33.498732Z",
     "iopub.status.idle": "2025-01-28T17:49:33.503840Z",
     "shell.execute_reply": "2025-01-28T17:49:33.502826Z"
    },
    "papermill": {
     "duration": 0.018588,
     "end_time": "2025-01-28T17:49:33.505775",
     "exception": false,
     "start_time": "2025-01-28T17:49:33.487187",
     "status": "completed"
    },
    "tags": []
   },
   "outputs": [],
   "source": [
    "def transform_text(text):\n",
    "    l=[]\n",
    "    text=text.lower()\n",
    "    text=nltk.word_tokenize(text)\n",
    "    for i in text:\n",
    "        if i.isalnum():\n",
    "            l.append(i)\n",
    "    text=l[:]#clone of list above\n",
    "    l.clear()\n",
    "    for i in text:\n",
    "        if i not in sw and i not in punc:\n",
    "            l.append(ps.stem(i))\n",
    "    return \"\".join(l)"
   ]
  },
  {
   "cell_type": "code",
   "execution_count": 21,
   "id": "866546c3",
   "metadata": {
    "execution": {
     "iopub.execute_input": "2025-01-28T17:49:33.529151Z",
     "iopub.status.busy": "2025-01-28T17:49:33.528811Z",
     "iopub.status.idle": "2025-01-28T17:49:33.534471Z",
     "shell.execute_reply": "2025-01-28T17:49:33.533527Z"
    },
    "papermill": {
     "duration": 0.018729,
     "end_time": "2025-01-28T17:49:33.535911",
     "exception": false,
     "start_time": "2025-01-28T17:49:33.517182",
     "status": "completed"
    },
    "tags": []
   },
   "outputs": [
    {
     "data": {
      "text/plain": [
       "'hinamesahan'"
      ]
     },
     "execution_count": 21,
     "metadata": {},
     "output_type": "execute_result"
    }
   ],
   "source": [
    "transform_text(\"Hi my name is Sahan . How are you doing?\")"
   ]
  },
  {
   "cell_type": "code",
   "execution_count": 22,
   "id": "b4299410",
   "metadata": {
    "execution": {
     "iopub.execute_input": "2025-01-28T17:49:33.558775Z",
     "iopub.status.busy": "2025-01-28T17:49:33.558399Z",
     "iopub.status.idle": "2025-01-28T17:49:35.840127Z",
     "shell.execute_reply": "2025-01-28T17:49:35.839071Z"
    },
    "papermill": {
     "duration": 2.2949,
     "end_time": "2025-01-28T17:49:35.841893",
     "exception": false,
     "start_time": "2025-01-28T17:49:33.546993",
     "status": "completed"
    },
    "tags": []
   },
   "outputs": [
    {
     "data": {
      "text/html": [
       "<div>\n",
       "<style scoped>\n",
       "    .dataframe tbody tr th:only-of-type {\n",
       "        vertical-align: middle;\n",
       "    }\n",
       "\n",
       "    .dataframe tbody tr th {\n",
       "        vertical-align: top;\n",
       "    }\n",
       "\n",
       "    .dataframe thead th {\n",
       "        text-align: right;\n",
       "    }\n",
       "</style>\n",
       "<table border=\"1\" class=\"dataframe\">\n",
       "  <thead>\n",
       "    <tr style=\"text-align: right;\">\n",
       "      <th></th>\n",
       "      <th>class</th>\n",
       "      <th>msg</th>\n",
       "      <th>num_chars</th>\n",
       "      <th>num_words</th>\n",
       "      <th>num_sentences</th>\n",
       "      <th>trf_text</th>\n",
       "    </tr>\n",
       "  </thead>\n",
       "  <tbody>\n",
       "    <tr>\n",
       "      <th>0</th>\n",
       "      <td>ham</td>\n",
       "      <td>Go until jurong point, crazy.. Available only ...</td>\n",
       "      <td>111</td>\n",
       "      <td>23</td>\n",
       "      <td>23</td>\n",
       "      <td>gojurongpointavailbugingreatworldlaebuffetcine...</td>\n",
       "    </tr>\n",
       "    <tr>\n",
       "      <th>1</th>\n",
       "      <td>ham</td>\n",
       "      <td>Ok lar... Joking wif u oni...</td>\n",
       "      <td>29</td>\n",
       "      <td>8</td>\n",
       "      <td>8</td>\n",
       "      <td>oklarjokewifuoni</td>\n",
       "    </tr>\n",
       "    <tr>\n",
       "      <th>2</th>\n",
       "      <td>spam</td>\n",
       "      <td>Free entry in 2 a wkly comp to win FA Cup fina...</td>\n",
       "      <td>155</td>\n",
       "      <td>37</td>\n",
       "      <td>37</td>\n",
       "      <td>freeentri2wklicompwinfacupfinaltkt21stmaytextf...</td>\n",
       "    </tr>\n",
       "    <tr>\n",
       "      <th>3</th>\n",
       "      <td>ham</td>\n",
       "      <td>U dun say so early hor... U c already then say...</td>\n",
       "      <td>49</td>\n",
       "      <td>13</td>\n",
       "      <td>13</td>\n",
       "      <td>udunsayearlihorucalreadisay</td>\n",
       "    </tr>\n",
       "    <tr>\n",
       "      <th>4</th>\n",
       "      <td>ham</td>\n",
       "      <td>Nah I don't think he goes to usf, he lives aro...</td>\n",
       "      <td>61</td>\n",
       "      <td>15</td>\n",
       "      <td>15</td>\n",
       "      <td>nahthinkgoeusflivearoundthough</td>\n",
       "    </tr>\n",
       "    <tr>\n",
       "      <th>...</th>\n",
       "      <td>...</td>\n",
       "      <td>...</td>\n",
       "      <td>...</td>\n",
       "      <td>...</td>\n",
       "      <td>...</td>\n",
       "      <td>...</td>\n",
       "    </tr>\n",
       "    <tr>\n",
       "      <th>5567</th>\n",
       "      <td>spam</td>\n",
       "      <td>This is the 2nd time we have tried 2 contact u...</td>\n",
       "      <td>161</td>\n",
       "      <td>35</td>\n",
       "      <td>35</td>\n",
       "      <td>2ndtimetri2contactupoundprize2claimeasicall087...</td>\n",
       "    </tr>\n",
       "    <tr>\n",
       "      <th>5568</th>\n",
       "      <td>ham</td>\n",
       "      <td>Will Ì_ b going to esplanade fr home?</td>\n",
       "      <td>37</td>\n",
       "      <td>9</td>\n",
       "      <td>9</td>\n",
       "      <td>bgoesplanadfrhome</td>\n",
       "    </tr>\n",
       "    <tr>\n",
       "      <th>5569</th>\n",
       "      <td>ham</td>\n",
       "      <td>Pity, * was in mood for that. So...any other s...</td>\n",
       "      <td>57</td>\n",
       "      <td>15</td>\n",
       "      <td>15</td>\n",
       "      <td>pitimoodsuggest</td>\n",
       "    </tr>\n",
       "    <tr>\n",
       "      <th>5570</th>\n",
       "      <td>ham</td>\n",
       "      <td>The guy did some bitching but I acted like i'd...</td>\n",
       "      <td>125</td>\n",
       "      <td>27</td>\n",
       "      <td>27</td>\n",
       "      <td>guybitchactlikeinterestbuysomethelsnextweekgav...</td>\n",
       "    </tr>\n",
       "    <tr>\n",
       "      <th>5571</th>\n",
       "      <td>ham</td>\n",
       "      <td>Rofl. Its true to its name</td>\n",
       "      <td>26</td>\n",
       "      <td>7</td>\n",
       "      <td>7</td>\n",
       "      <td>rofltruename</td>\n",
       "    </tr>\n",
       "  </tbody>\n",
       "</table>\n",
       "<p>5572 rows × 6 columns</p>\n",
       "</div>"
      ],
      "text/plain": [
       "     class                                                msg  num_chars  \\\n",
       "0      ham  Go until jurong point, crazy.. Available only ...        111   \n",
       "1      ham                      Ok lar... Joking wif u oni...         29   \n",
       "2     spam  Free entry in 2 a wkly comp to win FA Cup fina...        155   \n",
       "3      ham  U dun say so early hor... U c already then say...         49   \n",
       "4      ham  Nah I don't think he goes to usf, he lives aro...         61   \n",
       "...    ...                                                ...        ...   \n",
       "5567  spam  This is the 2nd time we have tried 2 contact u...        161   \n",
       "5568   ham              Will Ì_ b going to esplanade fr home?         37   \n",
       "5569   ham  Pity, * was in mood for that. So...any other s...         57   \n",
       "5570   ham  The guy did some bitching but I acted like i'd...        125   \n",
       "5571   ham                         Rofl. Its true to its name         26   \n",
       "\n",
       "      num_words  num_sentences  \\\n",
       "0            23             23   \n",
       "1             8              8   \n",
       "2            37             37   \n",
       "3            13             13   \n",
       "4            15             15   \n",
       "...         ...            ...   \n",
       "5567         35             35   \n",
       "5568          9              9   \n",
       "5569         15             15   \n",
       "5570         27             27   \n",
       "5571          7              7   \n",
       "\n",
       "                                               trf_text  \n",
       "0     gojurongpointavailbugingreatworldlaebuffetcine...  \n",
       "1                                      oklarjokewifuoni  \n",
       "2     freeentri2wklicompwinfacupfinaltkt21stmaytextf...  \n",
       "3                           udunsayearlihorucalreadisay  \n",
       "4                        nahthinkgoeusflivearoundthough  \n",
       "...                                                 ...  \n",
       "5567  2ndtimetri2contactupoundprize2claimeasicall087...  \n",
       "5568                                  bgoesplanadfrhome  \n",
       "5569                                    pitimoodsuggest  \n",
       "5570  guybitchactlikeinterestbuysomethelsnextweekgav...  \n",
       "5571                                       rofltruename  \n",
       "\n",
       "[5572 rows x 6 columns]"
      ]
     },
     "execution_count": 22,
     "metadata": {},
     "output_type": "execute_result"
    }
   ],
   "source": [
    "df['trf_text'] = df['msg'].apply(transform_text)\n",
    "df"
   ]
  },
  {
   "cell_type": "code",
   "execution_count": 23,
   "id": "552b30ac",
   "metadata": {
    "execution": {
     "iopub.execute_input": "2025-01-28T17:49:35.866025Z",
     "iopub.status.busy": "2025-01-28T17:49:35.865684Z",
     "iopub.status.idle": "2025-01-28T17:49:35.870166Z",
     "shell.execute_reply": "2025-01-28T17:49:35.869070Z"
    },
    "papermill": {
     "duration": 0.018769,
     "end_time": "2025-01-28T17:49:35.871985",
     "exception": false,
     "start_time": "2025-01-28T17:49:35.853216",
     "status": "completed"
    },
    "tags": []
   },
   "outputs": [],
   "source": [
    "wc=WordCloud(width=500,background_color='green',height=500,min_font_size=1)"
   ]
  },
  {
   "cell_type": "code",
   "execution_count": 24,
   "id": "bcf469a4",
   "metadata": {
    "execution": {
     "iopub.execute_input": "2025-01-28T17:49:35.896632Z",
     "iopub.status.busy": "2025-01-28T17:49:35.896222Z",
     "iopub.status.idle": "2025-01-28T17:49:35.903044Z",
     "shell.execute_reply": "2025-01-28T17:49:35.901781Z"
    },
    "papermill": {
     "duration": 0.021002,
     "end_time": "2025-01-28T17:49:35.904685",
     "exception": false,
     "start_time": "2025-01-28T17:49:35.883683",
     "status": "completed"
    },
    "tags": []
   },
   "outputs": [
    {
     "name": "stdout",
     "output_type": "stream",
     "text": [
      "Spam text length: 0\n",
      "\n"
     ]
    }
   ],
   "source": [
    "spam_text = df[df['class'] == 1]['trf_text'].str.cat(sep=\" \")\n",
    "print(f\"Spam text length: {len(spam_text)}\")\n",
    "print(spam_text)\n"
   ]
  },
  {
   "cell_type": "markdown",
   "id": "8340eb8e",
   "metadata": {
    "papermill": {
     "duration": 0.010914,
     "end_time": "2025-01-28T17:49:35.926995",
     "exception": false,
     "start_time": "2025-01-28T17:49:35.916081",
     "status": "completed"
    },
    "tags": []
   },
   "source": [
    "# MODEL SELECTION"
   ]
  },
  {
   "cell_type": "code",
   "execution_count": 25,
   "id": "8cc2c55a",
   "metadata": {
    "execution": {
     "iopub.execute_input": "2025-01-28T17:49:35.950577Z",
     "iopub.status.busy": "2025-01-28T17:49:35.950163Z",
     "iopub.status.idle": "2025-01-28T17:49:35.954285Z",
     "shell.execute_reply": "2025-01-28T17:49:35.953231Z"
    },
    "papermill": {
     "duration": 0.017885,
     "end_time": "2025-01-28T17:49:35.955959",
     "exception": false,
     "start_time": "2025-01-28T17:49:35.938074",
     "status": "completed"
    },
    "tags": []
   },
   "outputs": [],
   "source": [
    "from sklearn.feature_extraction.text import CountVectorizer, TfidfVectorizer\n",
    "    "
   ]
  },
  {
   "cell_type": "code",
   "execution_count": 26,
   "id": "429749f4",
   "metadata": {
    "execution": {
     "iopub.execute_input": "2025-01-28T17:49:35.979469Z",
     "iopub.status.busy": "2025-01-28T17:49:35.979102Z",
     "iopub.status.idle": "2025-01-28T17:49:35.983378Z",
     "shell.execute_reply": "2025-01-28T17:49:35.982456Z"
    },
    "papermill": {
     "duration": 0.017667,
     "end_time": "2025-01-28T17:49:35.984881",
     "exception": false,
     "start_time": "2025-01-28T17:49:35.967214",
     "status": "completed"
    },
    "tags": []
   },
   "outputs": [],
   "source": [
    "cv = CountVectorizer()  \n",
    "tfid = TfidfVectorizer(max_features=3000) \n",
    "\n",
    "    "
   ]
  },
  {
   "cell_type": "code",
   "execution_count": 27,
   "id": "d12fe93c",
   "metadata": {
    "execution": {
     "iopub.execute_input": "2025-01-28T17:49:36.008207Z",
     "iopub.status.busy": "2025-01-28T17:49:36.007859Z",
     "iopub.status.idle": "2025-01-28T17:49:36.077685Z",
     "shell.execute_reply": "2025-01-28T17:49:36.076811Z"
    },
    "papermill": {
     "duration": 0.083419,
     "end_time": "2025-01-28T17:49:36.079505",
     "exception": false,
     "start_time": "2025-01-28T17:49:35.996086",
     "status": "completed"
    },
    "tags": []
   },
   "outputs": [],
   "source": [
    "X = tfid.fit_transform(df['trf_text']).toarray()\n",
    "y=df['class']\n"
   ]
  },
  {
   "cell_type": "code",
   "execution_count": 28,
   "id": "376104fc",
   "metadata": {
    "execution": {
     "iopub.execute_input": "2025-01-28T17:49:36.103109Z",
     "iopub.status.busy": "2025-01-28T17:49:36.102760Z",
     "iopub.status.idle": "2025-01-28T17:49:36.213901Z",
     "shell.execute_reply": "2025-01-28T17:49:36.212737Z"
    },
    "papermill": {
     "duration": 0.125185,
     "end_time": "2025-01-28T17:49:36.215976",
     "exception": false,
     "start_time": "2025-01-28T17:49:36.090791",
     "status": "completed"
    },
    "tags": []
   },
   "outputs": [],
   "source": [
    "from sklearn.model_selection import train_test_split\n",
    "X_train, X_test, y_train, y_test = train_test_split(X, y, test_size=0.20, random_state=2)\n"
   ]
  },
  {
   "cell_type": "code",
   "execution_count": 29,
   "id": "5e084117",
   "metadata": {
    "execution": {
     "iopub.execute_input": "2025-01-28T17:49:36.239949Z",
     "iopub.status.busy": "2025-01-28T17:49:36.239597Z",
     "iopub.status.idle": "2025-01-28T17:49:36.408718Z",
     "shell.execute_reply": "2025-01-28T17:49:36.407694Z"
    },
    "papermill": {
     "duration": 0.182952,
     "end_time": "2025-01-28T17:49:36.410265",
     "exception": false,
     "start_time": "2025-01-28T17:49:36.227313",
     "status": "completed"
    },
    "tags": []
   },
   "outputs": [
    {
     "data": {
      "text/html": [
       "<style>#sk-container-id-1 {color: black;background-color: white;}#sk-container-id-1 pre{padding: 0;}#sk-container-id-1 div.sk-toggleable {background-color: white;}#sk-container-id-1 label.sk-toggleable__label {cursor: pointer;display: block;width: 100%;margin-bottom: 0;padding: 0.3em;box-sizing: border-box;text-align: center;}#sk-container-id-1 label.sk-toggleable__label-arrow:before {content: \"▸\";float: left;margin-right: 0.25em;color: #696969;}#sk-container-id-1 label.sk-toggleable__label-arrow:hover:before {color: black;}#sk-container-id-1 div.sk-estimator:hover label.sk-toggleable__label-arrow:before {color: black;}#sk-container-id-1 div.sk-toggleable__content {max-height: 0;max-width: 0;overflow: hidden;text-align: left;background-color: #f0f8ff;}#sk-container-id-1 div.sk-toggleable__content pre {margin: 0.2em;color: black;border-radius: 0.25em;background-color: #f0f8ff;}#sk-container-id-1 input.sk-toggleable__control:checked~div.sk-toggleable__content {max-height: 200px;max-width: 100%;overflow: auto;}#sk-container-id-1 input.sk-toggleable__control:checked~label.sk-toggleable__label-arrow:before {content: \"▾\";}#sk-container-id-1 div.sk-estimator input.sk-toggleable__control:checked~label.sk-toggleable__label {background-color: #d4ebff;}#sk-container-id-1 div.sk-label input.sk-toggleable__control:checked~label.sk-toggleable__label {background-color: #d4ebff;}#sk-container-id-1 input.sk-hidden--visually {border: 0;clip: rect(1px 1px 1px 1px);clip: rect(1px, 1px, 1px, 1px);height: 1px;margin: -1px;overflow: hidden;padding: 0;position: absolute;width: 1px;}#sk-container-id-1 div.sk-estimator {font-family: monospace;background-color: #f0f8ff;border: 1px dotted black;border-radius: 0.25em;box-sizing: border-box;margin-bottom: 0.5em;}#sk-container-id-1 div.sk-estimator:hover {background-color: #d4ebff;}#sk-container-id-1 div.sk-parallel-item::after {content: \"\";width: 100%;border-bottom: 1px solid gray;flex-grow: 1;}#sk-container-id-1 div.sk-label:hover label.sk-toggleable__label {background-color: #d4ebff;}#sk-container-id-1 div.sk-serial::before {content: \"\";position: absolute;border-left: 1px solid gray;box-sizing: border-box;top: 0;bottom: 0;left: 50%;z-index: 0;}#sk-container-id-1 div.sk-serial {display: flex;flex-direction: column;align-items: center;background-color: white;padding-right: 0.2em;padding-left: 0.2em;position: relative;}#sk-container-id-1 div.sk-item {position: relative;z-index: 1;}#sk-container-id-1 div.sk-parallel {display: flex;align-items: stretch;justify-content: center;background-color: white;position: relative;}#sk-container-id-1 div.sk-item::before, #sk-container-id-1 div.sk-parallel-item::before {content: \"\";position: absolute;border-left: 1px solid gray;box-sizing: border-box;top: 0;bottom: 0;left: 50%;z-index: -1;}#sk-container-id-1 div.sk-parallel-item {display: flex;flex-direction: column;z-index: 1;position: relative;background-color: white;}#sk-container-id-1 div.sk-parallel-item:first-child::after {align-self: flex-end;width: 50%;}#sk-container-id-1 div.sk-parallel-item:last-child::after {align-self: flex-start;width: 50%;}#sk-container-id-1 div.sk-parallel-item:only-child::after {width: 0;}#sk-container-id-1 div.sk-dashed-wrapped {border: 1px dashed gray;margin: 0 0.4em 0.5em 0.4em;box-sizing: border-box;padding-bottom: 0.4em;background-color: white;}#sk-container-id-1 div.sk-label label {font-family: monospace;font-weight: bold;display: inline-block;line-height: 1.2em;}#sk-container-id-1 div.sk-label-container {text-align: center;}#sk-container-id-1 div.sk-container {/* jupyter's `normalize.less` sets `[hidden] { display: none; }` but bootstrap.min.css set `[hidden] { display: none !important; }` so we also need the `!important` here to be able to override the default hidden behavior on the sphinx rendered scikit-learn.org. See: https://github.com/scikit-learn/scikit-learn/issues/21755 */display: inline-block !important;position: relative;}#sk-container-id-1 div.sk-text-repr-fallback {display: none;}</style><div id=\"sk-container-id-1\" class=\"sk-top-container\"><div class=\"sk-text-repr-fallback\"><pre>BernoulliNB()</pre><b>In a Jupyter environment, please rerun this cell to show the HTML representation or trust the notebook. <br />On GitHub, the HTML representation is unable to render, please try loading this page with nbviewer.org.</b></div><div class=\"sk-container\" hidden><div class=\"sk-item\"><div class=\"sk-estimator sk-toggleable\"><input class=\"sk-toggleable__control sk-hidden--visually\" id=\"sk-estimator-id-1\" type=\"checkbox\" checked><label for=\"sk-estimator-id-1\" class=\"sk-toggleable__label sk-toggleable__label-arrow\">BernoulliNB</label><div class=\"sk-toggleable__content\"><pre>BernoulliNB()</pre></div></div></div></div></div>"
      ],
      "text/plain": [
       "BernoulliNB()"
      ]
     },
     "execution_count": 29,
     "metadata": {},
     "output_type": "execute_result"
    }
   ],
   "source": [
    "from sklearn.metrics import accuracy_score, precision_score, recall_score, f1_score\n",
    "from sklearn.naive_bayes import BernoulliNB\n",
    "bnb_model=BernoulliNB()\n",
    "bnb_model.fit(X_train, y_train)"
   ]
  }
 ],
 "metadata": {
  "kaggle": {
   "accelerator": "none",
   "dataSources": [
    {
     "datasetId": 483,
     "sourceId": 982,
     "sourceType": "datasetVersion"
    }
   ],
   "dockerImageVersionId": 30839,
   "isGpuEnabled": false,
   "isInternetEnabled": true,
   "language": "python",
   "sourceType": "notebook"
  },
  "kernelspec": {
   "display_name": "Python 3",
   "language": "python",
   "name": "python3"
  },
  "language_info": {
   "codemirror_mode": {
    "name": "ipython",
    "version": 3
   },
   "file_extension": ".py",
   "mimetype": "text/x-python",
   "name": "python",
   "nbconvert_exporter": "python",
   "pygments_lexer": "ipython3",
   "version": "3.10.12"
  },
  "papermill": {
   "default_parameters": {},
   "duration": 13.938815,
   "end_time": "2025-01-28T17:49:37.243424",
   "environment_variables": {},
   "exception": null,
   "input_path": "__notebook__.ipynb",
   "output_path": "__notebook__.ipynb",
   "parameters": {},
   "start_time": "2025-01-28T17:49:23.304609",
   "version": "2.6.0"
  }
 },
 "nbformat": 4,
 "nbformat_minor": 5
}
