{
 "cells": [
  {
   "cell_type": "code",
   "execution_count": 1,
   "id": "81705543",
   "metadata": {
    "_cell_guid": "b1076dfc-b9ad-4769-8c92-a6c4dae69d19",
    "_uuid": "8f2839f25d086af736a60e9eeb907d3b93b6e0e5",
    "execution": {
     "iopub.execute_input": "2025-01-28T17:51:33.760600Z",
     "iopub.status.busy": "2025-01-28T17:51:33.760249Z",
     "iopub.status.idle": "2025-01-28T17:51:36.315130Z",
     "shell.execute_reply": "2025-01-28T17:51:36.313971Z"
    },
    "papermill": {
     "duration": 2.565787,
     "end_time": "2025-01-28T17:51:36.316854",
     "exception": false,
     "start_time": "2025-01-28T17:51:33.751067",
     "status": "completed"
    },
    "tags": []
   },
   "outputs": [
    {
     "name": "stdout",
     "output_type": "stream",
     "text": [
      "/kaggle/input/sms-spam-collection-dataset/spam.csv\n"
     ]
    }
   ],
   "source": [
    "\n",
    "import numpy as np # linear algebra\n",
    "import pandas as pd # data processing, CSV file I/O (e.g. pd.read_csv)\n",
    "import seaborn as sns\n",
    "import matplotlib.pyplot as plt\n",
    "\n",
    "import os\n",
    "for dirname, _, filenames in os.walk('/kaggle/input'):\n",
    "    for filename in filenames:\n",
    "        print(os.path.join(dirname, filename))\n",
    "\n",
    "# You can write up to 20GB to the current directory (/kaggle/working/) that gets preserved as output when you create a version using \"Save & Run All\" \n",
    "# You can also write temporary files to /kaggle/temp/, but they won't be saved outside of the current session"
   ]
  },
  {
   "cell_type": "code",
   "execution_count": 2,
   "id": "613dc9b2",
   "metadata": {
    "execution": {
     "iopub.execute_input": "2025-01-28T17:51:36.330887Z",
     "iopub.status.busy": "2025-01-28T17:51:36.330398Z",
     "iopub.status.idle": "2025-01-28T17:51:36.337098Z",
     "shell.execute_reply": "2025-01-28T17:51:36.336268Z"
    },
    "papermill": {
     "duration": 0.01506,
     "end_time": "2025-01-28T17:51:36.338519",
     "exception": false,
     "start_time": "2025-01-28T17:51:36.323459",
     "status": "completed"
    },
    "tags": []
   },
   "outputs": [
    {
     "data": {
      "text/plain": [
       "['__notebook__.ipynb']"
      ]
     },
     "execution_count": 2,
     "metadata": {},
     "output_type": "execute_result"
    }
   ],
   "source": [
    "os.listdir()"
   ]
  },
  {
   "cell_type": "code",
   "execution_count": 3,
   "id": "896f1876",
   "metadata": {
    "execution": {
     "iopub.execute_input": "2025-01-28T17:51:36.352153Z",
     "iopub.status.busy": "2025-01-28T17:51:36.351826Z",
     "iopub.status.idle": "2025-01-28T17:51:36.419240Z",
     "shell.execute_reply": "2025-01-28T17:51:36.418248Z"
    },
    "papermill": {
     "duration": 0.075873,
     "end_time": "2025-01-28T17:51:36.420788",
     "exception": false,
     "start_time": "2025-01-28T17:51:36.344915",
     "status": "completed"
    },
    "tags": []
   },
   "outputs": [
    {
     "data": {
      "text/html": [
       "<div>\n",
       "<style scoped>\n",
       "    .dataframe tbody tr th:only-of-type {\n",
       "        vertical-align: middle;\n",
       "    }\n",
       "\n",
       "    .dataframe tbody tr th {\n",
       "        vertical-align: top;\n",
       "    }\n",
       "\n",
       "    .dataframe thead th {\n",
       "        text-align: right;\n",
       "    }\n",
       "</style>\n",
       "<table border=\"1\" class=\"dataframe\">\n",
       "  <thead>\n",
       "    <tr style=\"text-align: right;\">\n",
       "      <th></th>\n",
       "      <th>v1</th>\n",
       "      <th>v2</th>\n",
       "      <th>Unnamed: 2</th>\n",
       "      <th>Unnamed: 3</th>\n",
       "      <th>Unnamed: 4</th>\n",
       "    </tr>\n",
       "  </thead>\n",
       "  <tbody>\n",
       "    <tr>\n",
       "      <th>0</th>\n",
       "      <td>ham</td>\n",
       "      <td>Go until jurong point, crazy.. Available only ...</td>\n",
       "      <td>NaN</td>\n",
       "      <td>NaN</td>\n",
       "      <td>NaN</td>\n",
       "    </tr>\n",
       "    <tr>\n",
       "      <th>1</th>\n",
       "      <td>ham</td>\n",
       "      <td>Ok lar... Joking wif u oni...</td>\n",
       "      <td>NaN</td>\n",
       "      <td>NaN</td>\n",
       "      <td>NaN</td>\n",
       "    </tr>\n",
       "    <tr>\n",
       "      <th>2</th>\n",
       "      <td>spam</td>\n",
       "      <td>Free entry in 2 a wkly comp to win FA Cup fina...</td>\n",
       "      <td>NaN</td>\n",
       "      <td>NaN</td>\n",
       "      <td>NaN</td>\n",
       "    </tr>\n",
       "    <tr>\n",
       "      <th>3</th>\n",
       "      <td>ham</td>\n",
       "      <td>U dun say so early hor... U c already then say...</td>\n",
       "      <td>NaN</td>\n",
       "      <td>NaN</td>\n",
       "      <td>NaN</td>\n",
       "    </tr>\n",
       "    <tr>\n",
       "      <th>4</th>\n",
       "      <td>ham</td>\n",
       "      <td>Nah I don't think he goes to usf, he lives aro...</td>\n",
       "      <td>NaN</td>\n",
       "      <td>NaN</td>\n",
       "      <td>NaN</td>\n",
       "    </tr>\n",
       "    <tr>\n",
       "      <th>...</th>\n",
       "      <td>...</td>\n",
       "      <td>...</td>\n",
       "      <td>...</td>\n",
       "      <td>...</td>\n",
       "      <td>...</td>\n",
       "    </tr>\n",
       "    <tr>\n",
       "      <th>5567</th>\n",
       "      <td>spam</td>\n",
       "      <td>This is the 2nd time we have tried 2 contact u...</td>\n",
       "      <td>NaN</td>\n",
       "      <td>NaN</td>\n",
       "      <td>NaN</td>\n",
       "    </tr>\n",
       "    <tr>\n",
       "      <th>5568</th>\n",
       "      <td>ham</td>\n",
       "      <td>Will Ì_ b going to esplanade fr home?</td>\n",
       "      <td>NaN</td>\n",
       "      <td>NaN</td>\n",
       "      <td>NaN</td>\n",
       "    </tr>\n",
       "    <tr>\n",
       "      <th>5569</th>\n",
       "      <td>ham</td>\n",
       "      <td>Pity, * was in mood for that. So...any other s...</td>\n",
       "      <td>NaN</td>\n",
       "      <td>NaN</td>\n",
       "      <td>NaN</td>\n",
       "    </tr>\n",
       "    <tr>\n",
       "      <th>5570</th>\n",
       "      <td>ham</td>\n",
       "      <td>The guy did some bitching but I acted like i'd...</td>\n",
       "      <td>NaN</td>\n",
       "      <td>NaN</td>\n",
       "      <td>NaN</td>\n",
       "    </tr>\n",
       "    <tr>\n",
       "      <th>5571</th>\n",
       "      <td>ham</td>\n",
       "      <td>Rofl. Its true to its name</td>\n",
       "      <td>NaN</td>\n",
       "      <td>NaN</td>\n",
       "      <td>NaN</td>\n",
       "    </tr>\n",
       "  </tbody>\n",
       "</table>\n",
       "<p>5572 rows × 5 columns</p>\n",
       "</div>"
      ],
      "text/plain": [
       "        v1                                                 v2 Unnamed: 2  \\\n",
       "0      ham  Go until jurong point, crazy.. Available only ...        NaN   \n",
       "1      ham                      Ok lar... Joking wif u oni...        NaN   \n",
       "2     spam  Free entry in 2 a wkly comp to win FA Cup fina...        NaN   \n",
       "3      ham  U dun say so early hor... U c already then say...        NaN   \n",
       "4      ham  Nah I don't think he goes to usf, he lives aro...        NaN   \n",
       "...    ...                                                ...        ...   \n",
       "5567  spam  This is the 2nd time we have tried 2 contact u...        NaN   \n",
       "5568   ham              Will Ì_ b going to esplanade fr home?        NaN   \n",
       "5569   ham  Pity, * was in mood for that. So...any other s...        NaN   \n",
       "5570   ham  The guy did some bitching but I acted like i'd...        NaN   \n",
       "5571   ham                         Rofl. Its true to its name        NaN   \n",
       "\n",
       "     Unnamed: 3 Unnamed: 4  \n",
       "0           NaN        NaN  \n",
       "1           NaN        NaN  \n",
       "2           NaN        NaN  \n",
       "3           NaN        NaN  \n",
       "4           NaN        NaN  \n",
       "...         ...        ...  \n",
       "5567        NaN        NaN  \n",
       "5568        NaN        NaN  \n",
       "5569        NaN        NaN  \n",
       "5570        NaN        NaN  \n",
       "5571        NaN        NaN  \n",
       "\n",
       "[5572 rows x 5 columns]"
      ]
     },
     "execution_count": 3,
     "metadata": {},
     "output_type": "execute_result"
    }
   ],
   "source": [
    "df=pd.read_csv(\"/kaggle/input/sms-spam-collection-dataset/spam.csv\",encoding='latin')\n",
    "df"
   ]
  },
  {
   "cell_type": "code",
   "execution_count": 4,
   "id": "65282f23",
   "metadata": {
    "execution": {
     "iopub.execute_input": "2025-01-28T17:51:36.435093Z",
     "iopub.status.busy": "2025-01-28T17:51:36.434755Z",
     "iopub.status.idle": "2025-01-28T17:51:36.440078Z",
     "shell.execute_reply": "2025-01-28T17:51:36.439194Z"
    },
    "papermill": {
     "duration": 0.013978,
     "end_time": "2025-01-28T17:51:36.441472",
     "exception": false,
     "start_time": "2025-01-28T17:51:36.427494",
     "status": "completed"
    },
    "tags": []
   },
   "outputs": [
    {
     "data": {
      "text/plain": [
       "Index(['v1', 'v2', 'Unnamed: 2', 'Unnamed: 3', 'Unnamed: 4'], dtype='object')"
      ]
     },
     "execution_count": 4,
     "metadata": {},
     "output_type": "execute_result"
    }
   ],
   "source": [
    "df.columns"
   ]
  },
  {
   "cell_type": "code",
   "execution_count": 5,
   "id": "cda1dd5c",
   "metadata": {
    "execution": {
     "iopub.execute_input": "2025-01-28T17:51:36.455430Z",
     "iopub.status.busy": "2025-01-28T17:51:36.455109Z",
     "iopub.status.idle": "2025-01-28T17:51:36.466602Z",
     "shell.execute_reply": "2025-01-28T17:51:36.465679Z"
    },
    "papermill": {
     "duration": 0.019968,
     "end_time": "2025-01-28T17:51:36.467964",
     "exception": false,
     "start_time": "2025-01-28T17:51:36.447996",
     "status": "completed"
    },
    "tags": []
   },
   "outputs": [
    {
     "data": {
      "text/html": [
       "<div>\n",
       "<style scoped>\n",
       "    .dataframe tbody tr th:only-of-type {\n",
       "        vertical-align: middle;\n",
       "    }\n",
       "\n",
       "    .dataframe tbody tr th {\n",
       "        vertical-align: top;\n",
       "    }\n",
       "\n",
       "    .dataframe thead th {\n",
       "        text-align: right;\n",
       "    }\n",
       "</style>\n",
       "<table border=\"1\" class=\"dataframe\">\n",
       "  <thead>\n",
       "    <tr style=\"text-align: right;\">\n",
       "      <th></th>\n",
       "      <th>v1</th>\n",
       "      <th>v2</th>\n",
       "    </tr>\n",
       "  </thead>\n",
       "  <tbody>\n",
       "    <tr>\n",
       "      <th>0</th>\n",
       "      <td>ham</td>\n",
       "      <td>Go until jurong point, crazy.. Available only ...</td>\n",
       "    </tr>\n",
       "    <tr>\n",
       "      <th>1</th>\n",
       "      <td>ham</td>\n",
       "      <td>Ok lar... Joking wif u oni...</td>\n",
       "    </tr>\n",
       "    <tr>\n",
       "      <th>2</th>\n",
       "      <td>spam</td>\n",
       "      <td>Free entry in 2 a wkly comp to win FA Cup fina...</td>\n",
       "    </tr>\n",
       "    <tr>\n",
       "      <th>3</th>\n",
       "      <td>ham</td>\n",
       "      <td>U dun say so early hor... U c already then say...</td>\n",
       "    </tr>\n",
       "    <tr>\n",
       "      <th>4</th>\n",
       "      <td>ham</td>\n",
       "      <td>Nah I don't think he goes to usf, he lives aro...</td>\n",
       "    </tr>\n",
       "  </tbody>\n",
       "</table>\n",
       "</div>"
      ],
      "text/plain": [
       "     v1                                                 v2\n",
       "0   ham  Go until jurong point, crazy.. Available only ...\n",
       "1   ham                      Ok lar... Joking wif u oni...\n",
       "2  spam  Free entry in 2 a wkly comp to win FA Cup fina...\n",
       "3   ham  U dun say so early hor... U c already then say...\n",
       "4   ham  Nah I don't think he goes to usf, he lives aro..."
      ]
     },
     "execution_count": 5,
     "metadata": {},
     "output_type": "execute_result"
    }
   ],
   "source": [
    "df.drop(['Unnamed: 2', 'Unnamed: 3', 'Unnamed: 4'], axis=1, inplace=True)\n",
    "df.head()"
   ]
  },
  {
   "cell_type": "code",
   "execution_count": 6,
   "id": "03258320",
   "metadata": {
    "execution": {
     "iopub.execute_input": "2025-01-28T17:51:36.482771Z",
     "iopub.status.busy": "2025-01-28T17:51:36.482400Z",
     "iopub.status.idle": "2025-01-28T17:51:36.492288Z",
     "shell.execute_reply": "2025-01-28T17:51:36.491337Z"
    },
    "papermill": {
     "duration": 0.018756,
     "end_time": "2025-01-28T17:51:36.493682",
     "exception": false,
     "start_time": "2025-01-28T17:51:36.474926",
     "status": "completed"
    },
    "tags": []
   },
   "outputs": [
    {
     "data": {
      "text/html": [
       "<div>\n",
       "<style scoped>\n",
       "    .dataframe tbody tr th:only-of-type {\n",
       "        vertical-align: middle;\n",
       "    }\n",
       "\n",
       "    .dataframe tbody tr th {\n",
       "        vertical-align: top;\n",
       "    }\n",
       "\n",
       "    .dataframe thead th {\n",
       "        text-align: right;\n",
       "    }\n",
       "</style>\n",
       "<table border=\"1\" class=\"dataframe\">\n",
       "  <thead>\n",
       "    <tr style=\"text-align: right;\">\n",
       "      <th></th>\n",
       "      <th>class</th>\n",
       "      <th>msg</th>\n",
       "    </tr>\n",
       "  </thead>\n",
       "  <tbody>\n",
       "    <tr>\n",
       "      <th>0</th>\n",
       "      <td>ham</td>\n",
       "      <td>Go until jurong point, crazy.. Available only ...</td>\n",
       "    </tr>\n",
       "    <tr>\n",
       "      <th>1</th>\n",
       "      <td>ham</td>\n",
       "      <td>Ok lar... Joking wif u oni...</td>\n",
       "    </tr>\n",
       "    <tr>\n",
       "      <th>2</th>\n",
       "      <td>spam</td>\n",
       "      <td>Free entry in 2 a wkly comp to win FA Cup fina...</td>\n",
       "    </tr>\n",
       "    <tr>\n",
       "      <th>3</th>\n",
       "      <td>ham</td>\n",
       "      <td>U dun say so early hor... U c already then say...</td>\n",
       "    </tr>\n",
       "    <tr>\n",
       "      <th>4</th>\n",
       "      <td>ham</td>\n",
       "      <td>Nah I don't think he goes to usf, he lives aro...</td>\n",
       "    </tr>\n",
       "    <tr>\n",
       "      <th>...</th>\n",
       "      <td>...</td>\n",
       "      <td>...</td>\n",
       "    </tr>\n",
       "    <tr>\n",
       "      <th>5567</th>\n",
       "      <td>spam</td>\n",
       "      <td>This is the 2nd time we have tried 2 contact u...</td>\n",
       "    </tr>\n",
       "    <tr>\n",
       "      <th>5568</th>\n",
       "      <td>ham</td>\n",
       "      <td>Will Ì_ b going to esplanade fr home?</td>\n",
       "    </tr>\n",
       "    <tr>\n",
       "      <th>5569</th>\n",
       "      <td>ham</td>\n",
       "      <td>Pity, * was in mood for that. So...any other s...</td>\n",
       "    </tr>\n",
       "    <tr>\n",
       "      <th>5570</th>\n",
       "      <td>ham</td>\n",
       "      <td>The guy did some bitching but I acted like i'd...</td>\n",
       "    </tr>\n",
       "    <tr>\n",
       "      <th>5571</th>\n",
       "      <td>ham</td>\n",
       "      <td>Rofl. Its true to its name</td>\n",
       "    </tr>\n",
       "  </tbody>\n",
       "</table>\n",
       "<p>5572 rows × 2 columns</p>\n",
       "</div>"
      ],
      "text/plain": [
       "     class                                                msg\n",
       "0      ham  Go until jurong point, crazy.. Available only ...\n",
       "1      ham                      Ok lar... Joking wif u oni...\n",
       "2     spam  Free entry in 2 a wkly comp to win FA Cup fina...\n",
       "3      ham  U dun say so early hor... U c already then say...\n",
       "4      ham  Nah I don't think he goes to usf, he lives aro...\n",
       "...    ...                                                ...\n",
       "5567  spam  This is the 2nd time we have tried 2 contact u...\n",
       "5568   ham              Will Ì_ b going to esplanade fr home?\n",
       "5569   ham  Pity, * was in mood for that. So...any other s...\n",
       "5570   ham  The guy did some bitching but I acted like i'd...\n",
       "5571   ham                         Rofl. Its true to its name\n",
       "\n",
       "[5572 rows x 2 columns]"
      ]
     },
     "execution_count": 6,
     "metadata": {},
     "output_type": "execute_result"
    }
   ],
   "source": [
    "df.rename(columns={'v1': 'class', 'v2': 'msg'}, inplace=True)\n",
    "df"
   ]
  },
  {
   "cell_type": "code",
   "execution_count": 7,
   "id": "ac13bdd0",
   "metadata": {
    "execution": {
     "iopub.execute_input": "2025-01-28T17:51:36.509049Z",
     "iopub.status.busy": "2025-01-28T17:51:36.508681Z",
     "iopub.status.idle": "2025-01-28T17:51:36.750578Z",
     "shell.execute_reply": "2025-01-28T17:51:36.749542Z"
    },
    "papermill": {
     "duration": 0.251277,
     "end_time": "2025-01-28T17:51:36.752263",
     "exception": false,
     "start_time": "2025-01-28T17:51:36.500986",
     "status": "completed"
    },
    "tags": []
   },
   "outputs": [
    {
     "data": {
      "image/png": "[encoded data removed]",
      "text/plain": [
       "<Figure size 640x480 with 1 Axes>"
      ]
     },
     "metadata": {},
     "output_type": "display_data"
    }
   ],
   "source": [
    "sns.countplot(x='class', data=df, palette=\"viridis\")\n",
    "plt.title(\"Class Distribution (Spam vs Non-Spam)\")\n",
    "plt.xlabel(\"class\")\n",
    "plt.ylabel(\"Count\")\n",
    "plt.show()\n"
   ]
  },
  {
   "cell_type": "code",
   "execution_count": 8,
   "id": "4d12c0b7",
   "metadata": {
    "execution": {
     "iopub.execute_input": "2025-01-28T17:51:36.768546Z",
     "iopub.status.busy": "2025-01-28T17:51:36.768175Z",
     "iopub.status.idle": "2025-01-28T17:51:36.940377Z",
     "shell.execute_reply": "2025-01-28T17:51:36.939260Z"
    },
    "papermill": {
     "duration": 0.181966,
     "end_time": "2025-01-28T17:51:36.941827",
     "exception": false,
     "start_time": "2025-01-28T17:51:36.759861",
     "status": "completed"
    },
    "tags": []
   },
   "outputs": [
    {
     "name": "stderr",
     "output_type": "stream",
     "text": [
      "<ipython-input-8-f63618104bdb>:1: UserWarning: Ignoring `palette` because no `hue` variable has been assigned.\n",
      "  sns.histplot(x='class', data=df, palette=\"viridis\")\n",
      "/usr/local/lib/python3.10/dist-packages/seaborn/_oldcore.py:1119: FutureWarning: use_inf_as_na option is deprecated and will be removed in a future version. Convert inf values to NaN before operating instead.\n",
      "  with pd.option_context('mode.use_inf_as_na', True):\n"
     ]
    },
    {
     "data": {
      "image/png": "[encoded data removed]",
      "text/plain": [
       "<Figure size 640x480 with 1 Axes>"
      ]
     },
     "metadata": {},
     "output_type": "display_data"
    }
   ],
   "source": [
    "sns.histplot(x='class', data=df, palette=\"viridis\")\n",
    "plt.title(\"Class Distribution (Spam vs Non-Spam)\")\n",
    "plt.xlabel(\"class\")\n",
    "plt.ylabel(\"Count\")\n",
    "plt.show()"
   ]
  },
  {
   "cell_type": "markdown",
   "id": "7d10cc21",
   "metadata": {
    "papermill": {
     "duration": 0.007735,
     "end_time": "2025-01-28T17:51:36.957555",
     "exception": false,
     "start_time": "2025-01-28T17:51:36.949820",
     "status": "completed"
    },
    "tags": []
   },
   "source": [
    "# FEATURE ENGINEERING"
   ]
  },
  {
   "cell_type": "code",
   "execution_count": 9,
   "id": "d758326a",
   "metadata": {
    "execution": {
     "iopub.execute_input": "2025-01-28T17:51:36.974395Z",
     "iopub.status.busy": "2025-01-28T17:51:36.974009Z",
     "iopub.status.idle": "2025-01-28T17:51:37.945163Z",
     "shell.execute_reply": "2025-01-28T17:51:37.943981Z"
    },
    "papermill": {
     "duration": 0.981873,
     "end_time": "2025-01-28T17:51:37.947266",
     "exception": false,
     "start_time": "2025-01-28T17:51:36.965393",
     "status": "completed"
    },
    "tags": []
   },
   "outputs": [],
   "source": [
    "import nltk"
   ]
  },
  {
   "cell_type": "code",
   "execution_count": 10,
   "id": "ad84e6ab",
   "metadata": {
    "execution": {
     "iopub.execute_input": "2025-01-28T17:51:37.965226Z",
     "iopub.status.busy": "2025-01-28T17:51:37.964802Z",
     "iopub.status.idle": "2025-01-28T17:51:38.143466Z",
     "shell.execute_reply": "2025-01-28T17:51:38.142333Z"
    },
    "papermill": {
     "duration": 0.189497,
     "end_time": "2025-01-28T17:51:38.145367",
     "exception": false,
     "start_time": "2025-01-28T17:51:37.955870",
     "status": "completed"
    },
    "tags": []
   },
   "outputs": [
    {
     "name": "stdout",
     "output_type": "stream",
     "text": [
      "[nltk_data] Downloading package stopwords to /usr/share/nltk_data...\n",
      "[nltk_data]   Package stopwords is already up-to-date!\n",
      "[nltk_data] Downloading package punkt to /usr/share/nltk_data...\n",
      "[nltk_data]   Package punkt is already up-to-date!\n"
     ]
    },
    {
     "data": {
      "text/plain": [
       "True"
      ]
     },
     "execution_count": 10,
     "metadata": {},
     "output_type": "execute_result"
    }
   ],
   "source": [
    "nltk.download('stopwords')\n",
    "nltk.download('punkt')"
   ]
  },
  {
   "cell_type": "code",
   "execution_count": 11,
   "id": "a9066799",
   "metadata": {
    "execution": {
     "iopub.execute_input": "2025-01-28T17:51:38.163427Z",
     "iopub.status.busy": "2025-01-28T17:51:38.162970Z",
     "iopub.status.idle": "2025-01-28T17:51:38.175331Z",
     "shell.execute_reply": "2025-01-28T17:51:38.174297Z"
    },
    "papermill": {
     "duration": 0.023183,
     "end_time": "2025-01-28T17:51:38.177100",
     "exception": false,
     "start_time": "2025-01-28T17:51:38.153917",
     "status": "completed"
    },
    "tags": []
   },
   "outputs": [
    {
     "data": {
      "text/html": [
       "<div>\n",
       "<style scoped>\n",
       "    .dataframe tbody tr th:only-of-type {\n",
       "        vertical-align: middle;\n",
       "    }\n",
       "\n",
       "    .dataframe tbody tr th {\n",
       "        vertical-align: top;\n",
       "    }\n",
       "\n",
       "    .dataframe thead th {\n",
       "        text-align: right;\n",
       "    }\n",
       "</style>\n",
       "<table border=\"1\" class=\"dataframe\">\n",
       "  <thead>\n",
       "    <tr style=\"text-align: right;\">\n",
       "      <th></th>\n",
       "      <th>class</th>\n",
       "      <th>msg</th>\n",
       "      <th>num_chars</th>\n",
       "    </tr>\n",
       "  </thead>\n",
       "  <tbody>\n",
       "    <tr>\n",
       "      <th>0</th>\n",
       "      <td>ham</td>\n",
       "      <td>Go until jurong point, crazy.. Available only ...</td>\n",
       "      <td>111</td>\n",
       "    </tr>\n",
       "    <tr>\n",
       "      <th>1</th>\n",
       "      <td>ham</td>\n",
       "      <td>Ok lar... Joking wif u oni...</td>\n",
       "      <td>29</td>\n",
       "    </tr>\n",
       "    <tr>\n",
       "      <th>2</th>\n",
       "      <td>spam</td>\n",
       "      <td>Free entry in 2 a wkly comp to win FA Cup fina...</td>\n",
       "      <td>155</td>\n",
       "    </tr>\n",
       "    <tr>\n",
       "      <th>3</th>\n",
       "      <td>ham</td>\n",
       "      <td>U dun say so early hor... U c already then say...</td>\n",
       "      <td>49</td>\n",
       "    </tr>\n",
       "    <tr>\n",
       "      <th>4</th>\n",
       "      <td>ham</td>\n",
       "      <td>Nah I don't think he goes to usf, he lives aro...</td>\n",
       "      <td>61</td>\n",
       "    </tr>\n",
       "  </tbody>\n",
       "</table>\n",
       "</div>"
      ],
      "text/plain": [
       "  class                                                msg  num_chars\n",
       "0   ham  Go until jurong point, crazy.. Available only ...        111\n",
       "1   ham                      Ok lar... Joking wif u oni...         29\n",
       "2  spam  Free entry in 2 a wkly comp to win FA Cup fina...        155\n",
       "3   ham  U dun say so early hor... U c already then say...         49\n",
       "4   ham  Nah I don't think he goes to usf, he lives aro...         61"
      ]
     },
     "execution_count": 11,
     "metadata": {},
     "output_type": "execute_result"
    }
   ],
   "source": [
    "df['num_chars'] = df['msg'].apply(len)\n",
    "df.head()"
   ]
  },
  {
   "cell_type": "code",
   "execution_count": 12,
   "id": "48e49301",
   "metadata": {
    "execution": {
     "iopub.execute_input": "2025-01-28T17:51:38.195395Z",
     "iopub.status.busy": "2025-01-28T17:51:38.195014Z",
     "iopub.status.idle": "2025-01-28T17:51:39.448463Z",
     "shell.execute_reply": "2025-01-28T17:51:39.447467Z"
    },
    "papermill": {
     "duration": 1.264328,
     "end_time": "2025-01-28T17:51:39.450149",
     "exception": false,
     "start_time": "2025-01-28T17:51:38.185821",
     "status": "completed"
    },
    "tags": []
   },
   "outputs": [
    {
     "data": {
      "text/html": [
       "<div>\n",
       "<style scoped>\n",
       "    .dataframe tbody tr th:only-of-type {\n",
       "        vertical-align: middle;\n",
       "    }\n",
       "\n",
       "    .dataframe tbody tr th {\n",
       "        vertical-align: top;\n",
       "    }\n",
       "\n",
       "    .dataframe thead th {\n",
       "        text-align: right;\n",
       "    }\n",
       "</style>\n",
       "<table border=\"1\" class=\"dataframe\">\n",
       "  <thead>\n",
       "    <tr style=\"text-align: right;\">\n",
       "      <th></th>\n",
       "      <th>class</th>\n",
       "      <th>msg</th>\n",
       "      <th>num_chars</th>\n",
       "      <th>num_words</th>\n",
       "    </tr>\n",
       "  </thead>\n",
       "  <tbody>\n",
       "    <tr>\n",
       "      <th>0</th>\n",
       "      <td>ham</td>\n",
       "      <td>Go until jurong point, crazy.. Available only ...</td>\n",
       "      <td>111</td>\n",
       "      <td>23</td>\n",
       "    </tr>\n",
       "    <tr>\n",
       "      <th>1</th>\n",
       "      <td>ham</td>\n",
       "      <td>Ok lar... Joking wif u oni...</td>\n",
       "      <td>29</td>\n",
       "      <td>8</td>\n",
       "    </tr>\n",
       "    <tr>\n",
       "      <th>2</th>\n",
       "      <td>spam</td>\n",
       "      <td>Free entry in 2 a wkly comp to win FA Cup fina...</td>\n",
       "      <td>155</td>\n",
       "      <td>37</td>\n",
       "    </tr>\n",
       "    <tr>\n",
       "      <th>3</th>\n",
       "      <td>ham</td>\n",
       "      <td>U dun say so early hor... U c already then say...</td>\n",
       "      <td>49</td>\n",
       "      <td>13</td>\n",
       "    </tr>\n",
       "    <tr>\n",
       "      <th>4</th>\n",
       "      <td>ham</td>\n",
       "      <td>Nah I don't think he goes to usf, he lives aro...</td>\n",
       "      <td>61</td>\n",
       "      <td>15</td>\n",
       "    </tr>\n",
       "  </tbody>\n",
       "</table>\n",
       "</div>"
      ],
      "text/plain": [
       "  class                                                msg  num_chars  \\\n",
       "0   ham  Go until jurong point, crazy.. Available only ...        111   \n",
       "1   ham                      Ok lar... Joking wif u oni...         29   \n",
       "2  spam  Free entry in 2 a wkly comp to win FA Cup fina...        155   \n",
       "3   ham  U dun say so early hor... U c already then say...         49   \n",
       "4   ham  Nah I don't think he goes to usf, he lives aro...         61   \n",
       "\n",
       "   num_words  \n",
       "0         23  \n",
       "1          8  \n",
       "2         37  \n",
       "3         13  \n",
       "4         15  "
      ]
     },
     "execution_count": 12,
     "metadata": {},
     "output_type": "execute_result"
    }
   ],
   "source": [
    "df['num_words'] = df['msg'].apply(lambda x: len(nltk.word_tokenize(x)))\n",
    "df.head()"
   ]
  },
  {
   "cell_type": "code",
   "execution_count": 13,
   "id": "308cc18a",
   "metadata": {
    "execution": {
     "iopub.execute_input": "2025-01-28T17:51:39.469210Z",
     "iopub.status.busy": "2025-01-28T17:51:39.468848Z",
     "iopub.status.idle": "2025-01-28T17:51:40.661836Z",
     "shell.execute_reply": "2025-01-28T17:51:40.660786Z"
    },
    "papermill": {
     "duration": 1.204362,
     "end_time": "2025-01-28T17:51:40.663483",
     "exception": false,
     "start_time": "2025-01-28T17:51:39.459121",
     "status": "completed"
    },
    "tags": []
   },
   "outputs": [
    {
     "data": {
      "text/html": [
       "<div>\n",
       "<style scoped>\n",
       "    .dataframe tbody tr th:only-of-type {\n",
       "        vertical-align: middle;\n",
       "    }\n",
       "\n",
       "    .dataframe tbody tr th {\n",
       "        vertical-align: top;\n",
       "    }\n",
       "\n",
       "    .dataframe thead th {\n",
       "        text-align: right;\n",
       "    }\n",
       "</style>\n",
       "<table border=\"1\" class=\"dataframe\">\n",
       "  <thead>\n",
       "    <tr style=\"text-align: right;\">\n",
       "      <th></th>\n",
       "      <th>class</th>\n",
       "      <th>msg</th>\n",
       "      <th>num_chars</th>\n",
       "      <th>num_words</th>\n",
       "      <th>num_sentences</th>\n",
       "    </tr>\n",
       "  </thead>\n",
       "  <tbody>\n",
       "    <tr>\n",
       "      <th>0</th>\n",
       "      <td>ham</td>\n",
       "      <td>Go until jurong point, crazy.. Available only ...</td>\n",
       "      <td>111</td>\n",
       "      <td>23</td>\n",
       "      <td>23</td>\n",
       "    </tr>\n",
       "    <tr>\n",
       "      <th>1</th>\n",
       "      <td>ham</td>\n",
       "      <td>Ok lar... Joking wif u oni...</td>\n",
       "      <td>29</td>\n",
       "      <td>8</td>\n",
       "      <td>8</td>\n",
       "    </tr>\n",
       "    <tr>\n",
       "      <th>2</th>\n",
       "      <td>spam</td>\n",
       "      <td>Free entry in 2 a wkly comp to win FA Cup fina...</td>\n",
       "      <td>155</td>\n",
       "      <td>37</td>\n",
       "      <td>37</td>\n",
       "    </tr>\n",
       "    <tr>\n",
       "      <th>3</th>\n",
       "      <td>ham</td>\n",
       "      <td>U dun say so early hor... U c already then say...</td>\n",
       "      <td>49</td>\n",
       "      <td>13</td>\n",
       "      <td>13</td>\n",
       "    </tr>\n",
       "    <tr>\n",
       "      <th>4</th>\n",
       "      <td>ham</td>\n",
       "      <td>Nah I don't think he goes to usf, he lives aro...</td>\n",
       "      <td>61</td>\n",
       "      <td>15</td>\n",
       "      <td>15</td>\n",
       "    </tr>\n",
       "  </tbody>\n",
       "</table>\n",
       "</div>"
      ],
      "text/plain": [
       "  class                                                msg  num_chars  \\\n",
       "0   ham  Go until jurong point, crazy.. Available only ...        111   \n",
       "1   ham                      Ok lar... Joking wif u oni...         29   \n",
       "2  spam  Free entry in 2 a wkly comp to win FA Cup fina...        155   \n",
       "3   ham  U dun say so early hor... U c already then say...         49   \n",
       "4   ham  Nah I don't think he goes to usf, he lives aro...         61   \n",
       "\n",
       "   num_words  num_sentences  \n",
       "0         23             23  \n",
       "1          8              8  \n",
       "2         37             37  \n",
       "3         13             13  \n",
       "4         15             15  "
      ]
     },
     "execution_count": 13,
     "metadata": {},
     "output_type": "execute_result"
    }
   ],
   "source": [
    "df['num_sentences']=df['msg'].apply(lambda x:len(nltk.word_tokenize(x)))\n",
    "df.head()"
   ]
  },
  {
   "cell_type": "code",
   "execution_count": 14,
   "id": "9409ede5",
   "metadata": {
    "execution": {
     "iopub.execute_input": "2025-01-28T17:51:40.682464Z",
     "iopub.status.busy": "2025-01-28T17:51:40.682099Z",
     "iopub.status.idle": "2025-01-28T17:51:40.693835Z",
     "shell.execute_reply": "2025-01-28T17:51:40.692846Z"
    },
    "papermill": {
     "duration": 0.022823,
     "end_time": "2025-01-28T17:51:40.695357",
     "exception": false,
     "start_time": "2025-01-28T17:51:40.672534",
     "status": "completed"
    },
    "tags": []
   },
   "outputs": [
    {
     "data": {
      "text/html": [
       "<div>\n",
       "<style scoped>\n",
       "    .dataframe tbody tr th:only-of-type {\n",
       "        vertical-align: middle;\n",
       "    }\n",
       "\n",
       "    .dataframe tbody tr th {\n",
       "        vertical-align: top;\n",
       "    }\n",
       "\n",
       "    .dataframe thead th {\n",
       "        text-align: right;\n",
       "    }\n",
       "</style>\n",
       "<table border=\"1\" class=\"dataframe\">\n",
       "  <thead>\n",
       "    <tr style=\"text-align: right;\">\n",
       "      <th></th>\n",
       "      <th>num_chars</th>\n",
       "      <th>num_words</th>\n",
       "      <th>num_sentences</th>\n",
       "    </tr>\n",
       "  </thead>\n",
       "  <tbody>\n",
       "    <tr>\n",
       "      <th>0</th>\n",
       "      <td>111</td>\n",
       "      <td>23</td>\n",
       "      <td>23</td>\n",
       "    </tr>\n",
       "    <tr>\n",
       "      <th>1</th>\n",
       "      <td>29</td>\n",
       "      <td>8</td>\n",
       "      <td>8</td>\n",
       "    </tr>\n",
       "    <tr>\n",
       "      <th>2</th>\n",
       "      <td>155</td>\n",
       "      <td>37</td>\n",
       "      <td>37</td>\n",
       "    </tr>\n",
       "    <tr>\n",
       "      <th>3</th>\n",
       "      <td>49</td>\n",
       "      <td>13</td>\n",
       "      <td>13</td>\n",
       "    </tr>\n",
       "    <tr>\n",
       "      <th>4</th>\n",
       "      <td>61</td>\n",
       "      <td>15</td>\n",
       "      <td>15</td>\n",
       "    </tr>\n",
       "    <tr>\n",
       "      <th>...</th>\n",
       "      <td>...</td>\n",
       "      <td>...</td>\n",
       "      <td>...</td>\n",
       "    </tr>\n",
       "    <tr>\n",
       "      <th>5567</th>\n",
       "      <td>161</td>\n",
       "      <td>35</td>\n",
       "      <td>35</td>\n",
       "    </tr>\n",
       "    <tr>\n",
       "      <th>5568</th>\n",
       "      <td>37</td>\n",
       "      <td>9</td>\n",
       "      <td>9</td>\n",
       "    </tr>\n",
       "    <tr>\n",
       "      <th>5569</th>\n",
       "      <td>57</td>\n",
       "      <td>15</td>\n",
       "      <td>15</td>\n",
       "    </tr>\n",
       "    <tr>\n",
       "      <th>5570</th>\n",
       "      <td>125</td>\n",
       "      <td>27</td>\n",
       "      <td>27</td>\n",
       "    </tr>\n",
       "    <tr>\n",
       "      <th>5571</th>\n",
       "      <td>26</td>\n",
       "      <td>7</td>\n",
       "      <td>7</td>\n",
       "    </tr>\n",
       "  </tbody>\n",
       "</table>\n",
       "<p>5572 rows × 3 columns</p>\n",
       "</div>"
      ],
      "text/plain": [
       "      num_chars  num_words  num_sentences\n",
       "0           111         23             23\n",
       "1            29          8              8\n",
       "2           155         37             37\n",
       "3            49         13             13\n",
       "4            61         15             15\n",
       "...         ...        ...            ...\n",
       "5567        161         35             35\n",
       "5568         37          9              9\n",
       "5569         57         15             15\n",
       "5570        125         27             27\n",
       "5571         26          7              7\n",
       "\n",
       "[5572 rows x 3 columns]"
      ]
     },
     "execution_count": 14,
     "metadata": {},
     "output_type": "execute_result"
    }
   ],
   "source": [
    "numeric_columns=df.select_dtypes(include=[np.number])\n",
    "numeric_columns"
   ]
  },
  {
   "cell_type": "code",
   "execution_count": 15,
   "id": "90b44730",
   "metadata": {
    "execution": {
     "iopub.execute_input": "2025-01-28T17:51:40.714502Z",
     "iopub.status.busy": "2025-01-28T17:51:40.714095Z",
     "iopub.status.idle": "2025-01-28T17:51:40.956644Z",
     "shell.execute_reply": "2025-01-28T17:51:40.955615Z"
    },
    "papermill": {
     "duration": 0.254056,
     "end_time": "2025-01-28T17:51:40.958387",
     "exception": false,
     "start_time": "2025-01-28T17:51:40.704331",
     "status": "completed"
    },
    "tags": []
   },
   "outputs": [
    {
     "data": {
      "text/plain": [
       "<Axes: >"
      ]
     },
     "execution_count": 15,
     "metadata": {},
     "output_type": "execute_result"
    },
    {
     "data": {
      "image/png": "[encoded data removed]",
      "text/plain": [
       "<Figure size 640x480 with 2 Axes>"
      ]
     },
     "metadata": {},
     "output_type": "display_data"
    }
   ],
   "source": [
    "sns.heatmap(numeric_columns.corr(), annot=True, cmap='crest')"
   ]
  },
  {
   "cell_type": "code",
   "execution_count": 16,
   "id": "e74209c2",
   "metadata": {
    "execution": {
     "iopub.execute_input": "2025-01-28T17:51:40.978805Z",
     "iopub.status.busy": "2025-01-28T17:51:40.978447Z",
     "iopub.status.idle": "2025-01-28T17:51:41.078756Z",
     "shell.execute_reply": "2025-01-28T17:51:41.077783Z"
    },
    "papermill": {
     "duration": 0.112303,
     "end_time": "2025-01-28T17:51:41.080310",
     "exception": false,
     "start_time": "2025-01-28T17:51:40.968007",
     "status": "completed"
    },
    "tags": []
   },
   "outputs": [
    {
     "data": {
      "image/png": "[encoded data removed]",
      "text/plain": [
       "<Figure size 640x480 with 1 Axes>"
      ]
     },
     "metadata": {},
     "output_type": "display_data"
    }
   ],
   "source": [
    "plt.pie(df['class'].value_counts(),labels=['Ham','Spam'])\n",
    "plt.show()"
   ]
  },
  {
   "cell_type": "code",
   "execution_count": 17,
   "id": "bc15e149",
   "metadata": {
    "execution": {
     "iopub.execute_input": "2025-01-28T17:51:41.101238Z",
     "iopub.status.busy": "2025-01-28T17:51:41.100872Z",
     "iopub.status.idle": "2025-01-28T17:51:41.346211Z",
     "shell.execute_reply": "2025-01-28T17:51:41.345125Z"
    },
    "papermill": {
     "duration": 0.257657,
     "end_time": "2025-01-28T17:51:41.347998",
     "exception": false,
     "start_time": "2025-01-28T17:51:41.090341",
     "status": "completed"
    },
    "tags": []
   },
   "outputs": [
    {
     "data": {
      "image/png": "[encoded data removed]",
      "text/plain": [
       "<Figure size 640x480 with 1 Axes>"
      ]
     },
     "metadata": {},
     "output_type": "display_data"
    }
   ],
   "source": [
    "from wordcloud import WordCloud\n",
    "text=str(df[df[\"class\"]==1][\"msg\"])\n",
    "wordcloud = WordCloud().generate(text)\n",
    "\n",
    "plt.imshow(wordcloud)\n",
    "plt.axis('off')\n",
    "plt.show()"
   ]
  },
  {
   "cell_type": "code",
   "execution_count": 18,
   "id": "374cc5bd",
   "metadata": {
    "execution": {
     "iopub.execute_input": "2025-01-28T17:51:41.371895Z",
     "iopub.status.busy": "2025-01-28T17:51:41.371399Z",
     "iopub.status.idle": "2025-01-28T17:51:41.375437Z",
     "shell.execute_reply": "2025-01-28T17:51:41.374462Z"
    },
    "papermill": {
     "duration": 0.017656,
     "end_time": "2025-01-28T17:51:41.377000",
     "exception": false,
     "start_time": "2025-01-28T17:51:41.359344",
     "status": "completed"
    },
    "tags": []
   },
   "outputs": [],
   "source": [
    "from nltk.corpus import stopwords"
   ]
  },
  {
   "cell_type": "code",
   "execution_count": 19,
   "id": "6d04086c",
   "metadata": {
    "execution": {
     "iopub.execute_input": "2025-01-28T17:51:41.400797Z",
     "iopub.status.busy": "2025-01-28T17:51:41.400457Z",
     "iopub.status.idle": "2025-01-28T17:51:41.407163Z",
     "shell.execute_reply": "2025-01-28T17:51:41.406269Z"
    },
    "papermill": {
     "duration": 0.020477,
     "end_time": "2025-01-28T17:51:41.408944",
     "exception": false,
     "start_time": "2025-01-28T17:51:41.388467",
     "status": "completed"
    },
    "tags": []
   },
   "outputs": [],
   "source": [
    "sw=stopwords.words('english')\n",
    "import string \n",
    "punc=string.punctuation \n",
    "from nltk.stem.porter import PorterStemmer\n",
    "\n",
    "ps=PorterStemmer()"
   ]
  },
  {
   "cell_type": "code",
   "execution_count": 20,
   "id": "1d278f4a",
   "metadata": {
    "execution": {
     "iopub.execute_input": "2025-01-28T17:51:41.432544Z",
     "iopub.status.busy": "2025-01-28T17:51:41.432153Z",
     "iopub.status.idle": "2025-01-28T17:51:41.437486Z",
     "shell.execute_reply": "2025-01-28T17:51:41.436509Z"
    },
    "papermill": {
     "duration": 0.018767,
     "end_time": "2025-01-28T17:51:41.439087",
     "exception": false,
     "start_time": "2025-01-28T17:51:41.420320",
     "status": "completed"
    },
    "tags": []
   },
   "outputs": [],
   "source": [
    "def transform_text(text):\n",
    "    l=[]\n",
    "    text=text.lower()\n",
    "    text=nltk.word_tokenize(text)\n",
    "    for i in text:\n",
    "        if i.isalnum():\n",
    "            l.append(i)\n",
    "    text=l[:]#clone of list above\n",
    "    l.clear()\n",
    "    for i in text:\n",
    "        if i not in sw and i not in punc:\n",
    "            l.append(ps.stem(i))\n",
    "    return \"\".join(l)"
   ]
  },
  {
   "cell_type": "code",
   "execution_count": 21,
   "id": "0b9f37f2",
   "metadata": {
    "execution": {
     "iopub.execute_input": "2025-01-28T17:51:41.462530Z",
     "iopub.status.busy": "2025-01-28T17:51:41.462142Z",
     "iopub.status.idle": "2025-01-28T17:51:41.468326Z",
     "shell.execute_reply": "2025-01-28T17:51:41.467303Z"
    },
    "papermill": {
     "duration": 0.019531,
     "end_time": "2025-01-28T17:51:41.469937",
     "exception": false,
     "start_time": "2025-01-28T17:51:41.450406",
     "status": "completed"
    },
    "tags": []
   },
   "outputs": [
    {
     "data": {
      "text/plain": [
       "'hinamesahan'"
      ]
     },
     "execution_count": 21,
     "metadata": {},
     "output_type": "execute_result"
    }
   ],
   "source": [
    "transform_text(\"Hi my name is Sahan . How are you doing?\")"
   ]
  },
  {
   "cell_type": "code",
   "execution_count": 22,
   "id": "d9665fa3",
   "metadata": {
    "execution": {
     "iopub.execute_input": "2025-01-28T17:51:41.493554Z",
     "iopub.status.busy": "2025-01-28T17:51:41.493162Z",
     "iopub.status.idle": "2025-01-28T17:51:43.828724Z",
     "shell.execute_reply": "2025-01-28T17:51:43.827618Z"
    },
    "papermill": {
     "duration": 2.349135,
     "end_time": "2025-01-28T17:51:43.830460",
     "exception": false,
     "start_time": "2025-01-28T17:51:41.481325",
     "status": "completed"
    },
    "tags": []
   },
   "outputs": [
    {
     "data": {
      "text/html": [
       "<div>\n",
       "<style scoped>\n",
       "    .dataframe tbody tr th:only-of-type {\n",
       "        vertical-align: middle;\n",
       "    }\n",
       "\n",
       "    .dataframe tbody tr th {\n",
       "        vertical-align: top;\n",
       "    }\n",
       "\n",
       "    .dataframe thead th {\n",
       "        text-align: right;\n",
       "    }\n",
       "</style>\n",
       "<table border=\"1\" class=\"dataframe\">\n",
       "  <thead>\n",
       "    <tr style=\"text-align: right;\">\n",
       "      <th></th>\n",
       "      <th>class</th>\n",
       "      <th>msg</th>\n",
       "      <th>num_chars</th>\n",
       "      <th>num_words</th>\n",
       "      <th>num_sentences</th>\n",
       "      <th>trf_text</th>\n",
       "    </tr>\n",
       "  </thead>\n",
       "  <tbody>\n",
       "    <tr>\n",
       "      <th>0</th>\n",
       "      <td>ham</td>\n",
       "      <td>Go until jurong point, crazy.. Available only ...</td>\n",
       "      <td>111</td>\n",
       "      <td>23</td>\n",
       "      <td>23</td>\n",
       "      <td>gojurongpointavailbugingreatworldlaebuffetcine...</td>\n",
       "    </tr>\n",
       "    <tr>\n",
       "      <th>1</th>\n",
       "      <td>ham</td>\n",
       "      <td>Ok lar... Joking wif u oni...</td>\n",
       "      <td>29</td>\n",
       "      <td>8</td>\n",
       "      <td>8</td>\n",
       "      <td>oklarjokewifuoni</td>\n",
       "    </tr>\n",
       "    <tr>\n",
       "      <th>2</th>\n",
       "      <td>spam</td>\n",
       "      <td>Free entry in 2 a wkly comp to win FA Cup fina...</td>\n",
       "      <td>155</td>\n",
       "      <td>37</td>\n",
       "      <td>37</td>\n",
       "      <td>freeentri2wklicompwinfacupfinaltkt21stmaytextf...</td>\n",
       "    </tr>\n",
       "    <tr>\n",
       "      <th>3</th>\n",
       "      <td>ham</td>\n",
       "      <td>U dun say so early hor... U c already then say...</td>\n",
       "      <td>49</td>\n",
       "      <td>13</td>\n",
       "      <td>13</td>\n",
       "      <td>udunsayearlihorucalreadisay</td>\n",
       "    </tr>\n",
       "    <tr>\n",
       "      <th>4</th>\n",
       "      <td>ham</td>\n",
       "      <td>Nah I don't think he goes to usf, he lives aro...</td>\n",
       "      <td>61</td>\n",
       "      <td>15</td>\n",
       "      <td>15</td>\n",
       "      <td>nahthinkgoeusflivearoundthough</td>\n",
       "    </tr>\n",
       "    <tr>\n",
       "      <th>...</th>\n",
       "      <td>...</td>\n",
       "      <td>...</td>\n",
       "      <td>...</td>\n",
       "      <td>...</td>\n",
       "      <td>...</td>\n",
       "      <td>...</td>\n",
       "    </tr>\n",
       "    <tr>\n",
       "      <th>5567</th>\n",
       "      <td>spam</td>\n",
       "      <td>This is the 2nd time we have tried 2 contact u...</td>\n",
       "      <td>161</td>\n",
       "      <td>35</td>\n",
       "      <td>35</td>\n",
       "      <td>2ndtimetri2contactupoundprize2claimeasicall087...</td>\n",
       "    </tr>\n",
       "    <tr>\n",
       "      <th>5568</th>\n",
       "      <td>ham</td>\n",
       "      <td>Will Ì_ b going to esplanade fr home?</td>\n",
       "      <td>37</td>\n",
       "      <td>9</td>\n",
       "      <td>9</td>\n",
       "      <td>bgoesplanadfrhome</td>\n",
       "    </tr>\n",
       "    <tr>\n",
       "      <th>5569</th>\n",
       "      <td>ham</td>\n",
       "      <td>Pity, * was in mood for that. So...any other s...</td>\n",
       "      <td>57</td>\n",
       "      <td>15</td>\n",
       "      <td>15</td>\n",
       "      <td>pitimoodsuggest</td>\n",
       "    </tr>\n",
       "    <tr>\n",
       "      <th>5570</th>\n",
       "      <td>ham</td>\n",
       "      <td>The guy did some bitching but I acted like i'd...</td>\n",
       "      <td>125</td>\n",
       "      <td>27</td>\n",
       "      <td>27</td>\n",
       "      <td>guybitchactlikeinterestbuysomethelsnextweekgav...</td>\n",
       "    </tr>\n",
       "    <tr>\n",
       "      <th>5571</th>\n",
       "      <td>ham</td>\n",
       "      <td>Rofl. Its true to its name</td>\n",
       "      <td>26</td>\n",
       "      <td>7</td>\n",
       "      <td>7</td>\n",
       "      <td>rofltruename</td>\n",
       "    </tr>\n",
       "  </tbody>\n",
       "</table>\n",
       "<p>5572 rows × 6 columns</p>\n",
       "</div>"
      ],
      "text/plain": [
       "     class                                                msg  num_chars  \\\n",
       "0      ham  Go until jurong point, crazy.. Available only ...        111   \n",
       "1      ham                      Ok lar... Joking wif u oni...         29   \n",
       "2     spam  Free entry in 2 a wkly comp to win FA Cup fina...        155   \n",
       "3      ham  U dun say so early hor... U c already then say...         49   \n",
       "4      ham  Nah I don't think he goes to usf, he lives aro...         61   \n",
       "...    ...                                                ...        ...   \n",
       "5567  spam  This is the 2nd time we have tried 2 contact u...        161   \n",
       "5568   ham              Will Ì_ b going to esplanade fr home?         37   \n",
       "5569   ham  Pity, * was in mood for that. So...any other s...         57   \n",
       "5570   ham  The guy did some bitching but I acted like i'd...        125   \n",
       "5571   ham                         Rofl. Its true to its name         26   \n",
       "\n",
       "      num_words  num_sentences  \\\n",
       "0            23             23   \n",
       "1             8              8   \n",
       "2            37             37   \n",
       "3            13             13   \n",
       "4            15             15   \n",
       "...         ...            ...   \n",
       "5567         35             35   \n",
       "5568          9              9   \n",
       "5569         15             15   \n",
       "5570         27             27   \n",
       "5571          7              7   \n",
       "\n",
       "                                               trf_text  \n",
       "0     gojurongpointavailbugingreatworldlaebuffetcine...  \n",
       "1                                      oklarjokewifuoni  \n",
       "2     freeentri2wklicompwinfacupfinaltkt21stmaytextf...  \n",
       "3                           udunsayearlihorucalreadisay  \n",
       "4                        nahthinkgoeusflivearoundthough  \n",
       "...                                                 ...  \n",
       "5567  2ndtimetri2contactupoundprize2claimeasicall087...  \n",
       "5568                                  bgoesplanadfrhome  \n",
       "5569                                    pitimoodsuggest  \n",
       "5570  guybitchactlikeinterestbuysomethelsnextweekgav...  \n",
       "5571                                       rofltruename  \n",
       "\n",
       "[5572 rows x 6 columns]"
      ]
     },
     "execution_count": 22,
     "metadata": {},
     "output_type": "execute_result"
    }
   ],
   "source": [
    "df['trf_text'] = df['msg'].apply(transform_text)\n",
    "df"
   ]
  },
  {
   "cell_type": "code",
   "execution_count": 23,
   "id": "45e3e156",
   "metadata": {
    "execution": {
     "iopub.execute_input": "2025-01-28T17:51:43.854358Z",
     "iopub.status.busy": "2025-01-28T17:51:43.853991Z",
     "iopub.status.idle": "2025-01-28T17:51:43.858151Z",
     "shell.execute_reply": "2025-01-28T17:51:43.857288Z"
    },
    "papermill": {
     "duration": 0.01765,
     "end_time": "2025-01-28T17:51:43.859658",
     "exception": false,
     "start_time": "2025-01-28T17:51:43.842008",
     "status": "completed"
    },
    "tags": []
   },
   "outputs": [],
   "source": [
    "wc=WordCloud(width=500,background_color='green',height=500,min_font_size=1)"
   ]
  },
  {
   "cell_type": "code",
   "execution_count": 24,
   "id": "e57a853f",
   "metadata": {
    "execution": {
     "iopub.execute_input": "2025-01-28T17:51:43.883119Z",
     "iopub.status.busy": "2025-01-28T17:51:43.882767Z",
     "iopub.status.idle": "2025-01-28T17:51:43.890108Z",
     "shell.execute_reply": "2025-01-28T17:51:43.889071Z"
    },
    "papermill": {
     "duration": 0.020674,
     "end_time": "2025-01-28T17:51:43.891567",
     "exception": false,
     "start_time": "2025-01-28T17:51:43.870893",
     "status": "completed"
    },
    "tags": []
   },
   "outputs": [
    {
     "name": "stdout",
     "output_type": "stream",
     "text": [
      "Spam text length: 0\n",
      "\n"
     ]
    }
   ],
   "source": [
    "spam_text = df[df['class'] == 1]['trf_text'].str.cat(sep=\" \")\n",
    "print(f\"Spam text length: {len(spam_text)}\")\n",
    "print(spam_text)\n"
   ]
  },
  {
   "cell_type": "markdown",
   "id": "9c6d4cf5",
   "metadata": {
    "papermill": {
     "duration": 0.010904,
     "end_time": "2025-01-28T17:51:43.915036",
     "exception": false,
     "start_time": "2025-01-28T17:51:43.904132",
     "status": "completed"
    },
    "tags": []
   },
   "source": [
    "# MODEL SELECTION"
   ]
  },
  {
   "cell_type": "code",
   "execution_count": 25,
   "id": "8b665886",
   "metadata": {
    "execution": {
     "iopub.execute_input": "2025-01-28T17:51:43.938762Z",
     "iopub.status.busy": "2025-01-28T17:51:43.938442Z",
     "iopub.status.idle": "2025-01-28T17:51:43.942085Z",
     "shell.execute_reply": "2025-01-28T17:51:43.941289Z"
    },
    "papermill": {
     "duration": 0.017389,
     "end_time": "2025-01-28T17:51:43.943533",
     "exception": false,
     "start_time": "2025-01-28T17:51:43.926144",
     "status": "completed"
    },
    "tags": []
   },
   "outputs": [],
   "source": [
    "from sklearn.feature_extraction.text import CountVectorizer, TfidfVectorizer\n",
    "    "
   ]
  },
  {
   "cell_type": "code",
   "execution_count": 26,
   "id": "ec7f572f",
   "metadata": {
    "execution": {
     "iopub.execute_input": "2025-01-28T17:51:43.967237Z",
     "iopub.status.busy": "2025-01-28T17:51:43.966884Z",
     "iopub.status.idle": "2025-01-28T17:51:43.970938Z",
     "shell.execute_reply": "2025-01-28T17:51:43.969986Z"
    },
    "papermill": {
     "duration": 0.017663,
     "end_time": "2025-01-28T17:51:43.972441",
     "exception": false,
     "start_time": "2025-01-28T17:51:43.954778",
     "status": "completed"
    },
    "tags": []
   },
   "outputs": [],
   "source": [
    "cv = CountVectorizer()  \n",
    "tfid = TfidfVectorizer(max_features=3000) \n",
    "\n",
    "    "
   ]
  },
  {
   "cell_type": "code",
   "execution_count": 27,
   "id": "dcc36ec8",
   "metadata": {
    "execution": {
     "iopub.execute_input": "2025-01-28T17:51:43.995874Z",
     "iopub.status.busy": "2025-01-28T17:51:43.995567Z",
     "iopub.status.idle": "2025-01-28T17:51:44.062822Z",
     "shell.execute_reply": "2025-01-28T17:51:44.061808Z"
    },
    "papermill": {
     "duration": 0.08087,
     "end_time": "2025-01-28T17:51:44.064714",
     "exception": false,
     "start_time": "2025-01-28T17:51:43.983844",
     "status": "completed"
    },
    "tags": []
   },
   "outputs": [],
   "source": [
    "X = tfid.fit_transform(df['trf_text']).toarray()\n",
    "y=df['class']\n"
   ]
  },
  {
   "cell_type": "code",
   "execution_count": 28,
   "id": "0f712502",
   "metadata": {
    "execution": {
     "iopub.execute_input": "2025-01-28T17:51:44.088555Z",
     "iopub.status.busy": "2025-01-28T17:51:44.088216Z",
     "iopub.status.idle": "2025-01-28T17:51:44.189218Z",
     "shell.execute_reply": "2025-01-28T17:51:44.188244Z"
    },
    "papermill": {
     "duration": 0.115071,
     "end_time": "2025-01-28T17:51:44.191207",
     "exception": false,
     "start_time": "2025-01-28T17:51:44.076136",
     "status": "completed"
    },
    "tags": []
   },
   "outputs": [],
   "source": [
    "from sklearn.model_selection import train_test_split\n",
    "X_train, X_test, y_train, y_test = train_test_split(X, y, test_size=0.20, random_state=2)\n"
   ]
  },
  {
   "cell_type": "code",
   "execution_count": 29,
   "id": "96e802d9",
   "metadata": {
    "execution": {
     "iopub.execute_input": "2025-01-28T17:51:44.215170Z",
     "iopub.status.busy": "2025-01-28T17:51:44.214837Z",
     "iopub.status.idle": "2025-01-28T17:51:44.381138Z",
     "shell.execute_reply": "2025-01-28T17:51:44.380071Z"
    },
    "papermill": {
     "duration": 0.179964,
     "end_time": "2025-01-28T17:51:44.382662",
     "exception": false,
     "start_time": "2025-01-28T17:51:44.202698",
     "status": "completed"
    },
    "tags": []
   },
   "outputs": [
    {
     "data": {
      "text/html": [
       "<style>#sk-container-id-1 {color: black;background-color: white;}#sk-container-id-1 pre{padding: 0;}#sk-container-id-1 div.sk-toggleable {background-color: white;}#sk-container-id-1 label.sk-toggleable__label {cursor: pointer;display: block;width: 100%;margin-bottom: 0;padding: 0.3em;box-sizing: border-box;text-align: center;}#sk-container-id-1 label.sk-toggleable__label-arrow:before {content: \"▸\";float: left;margin-right: 0.25em;color: #696969;}#sk-container-id-1 label.sk-toggleable__label-arrow:hover:before {color: black;}#sk-container-id-1 div.sk-estimator:hover label.sk-toggleable__label-arrow:before {color: black;}#sk-container-id-1 div.sk-toggleable__content {max-height: 0;max-width: 0;overflow: hidden;text-align: left;background-color: #f0f8ff;}#sk-container-id-1 div.sk-toggleable__content pre {margin: 0.2em;color: black;border-radius: 0.25em;background-color: #f0f8ff;}#sk-container-id-1 input.sk-toggleable__control:checked~div.sk-toggleable__content {max-height: 200px;max-width: 100%;overflow: auto;}#sk-container-id-1 input.sk-toggleable__control:checked~label.sk-toggleable__label-arrow:before {content: \"▾\";}#sk-container-id-1 div.sk-estimator input.sk-toggleable__control:checked~label.sk-toggleable__label {background-color: #d4ebff;}#sk-container-id-1 div.sk-label input.sk-toggleable__control:checked~label.sk-toggleable__label {background-color: #d4ebff;}#sk-container-id-1 input.sk-hidden--visually {border: 0;clip: rect(1px 1px 1px 1px);clip: rect(1px, 1px, 1px, 1px);height: 1px;margin: -1px;overflow: hidden;padding: 0;position: absolute;width: 1px;}#sk-container-id-1 div.sk-estimator {font-family: monospace;background-color: #f0f8ff;border: 1px dotted black;border-radius: 0.25em;box-sizing: border-box;margin-bottom: 0.5em;}#sk-container-id-1 div.sk-estimator:hover {background-color: #d4ebff;}#sk-container-id-1 div.sk-parallel-item::after {content: \"\";width: 100%;border-bottom: 1px solid gray;flex-grow: 1;}#sk-container-id-1 div.sk-label:hover label.sk-toggleable__label {background-color: #d4ebff;}#sk-container-id-1 div.sk-serial::before {content: \"\";position: absolute;border-left: 1px solid gray;box-sizing: border-box;top: 0;bottom: 0;left: 50%;z-index: 0;}#sk-container-id-1 div.sk-serial {display: flex;flex-direction: column;align-items: center;background-color: white;padding-right: 0.2em;padding-left: 0.2em;position: relative;}#sk-container-id-1 div.sk-item {position: relative;z-index: 1;}#sk-container-id-1 div.sk-parallel {display: flex;align-items: stretch;justify-content: center;background-color: white;position: relative;}#sk-container-id-1 div.sk-item::before, #sk-container-id-1 div.sk-parallel-item::before {content: \"\";position: absolute;border-left: 1px solid gray;box-sizing: border-box;top: 0;bottom: 0;left: 50%;z-index: -1;}#sk-container-id-1 div.sk-parallel-item {display: flex;flex-direction: column;z-index: 1;position: relative;background-color: white;}#sk-container-id-1 div.sk-parallel-item:first-child::after {align-self: flex-end;width: 50%;}#sk-container-id-1 div.sk-parallel-item:last-child::after {align-self: flex-start;width: 50%;}#sk-container-id-1 div.sk-parallel-item:only-child::after {width: 0;}#sk-container-id-1 div.sk-dashed-wrapped {border: 1px dashed gray;margin: 0 0.4em 0.5em 0.4em;box-sizing: border-box;padding-bottom: 0.4em;background-color: white;}#sk-container-id-1 div.sk-label label {font-family: monospace;font-weight: bold;display: inline-block;line-height: 1.2em;}#sk-container-id-1 div.sk-label-container {text-align: center;}#sk-container-id-1 div.sk-container {/* jupyter's `normalize.less` sets `[hidden] { display: none; }` but bootstrap.min.css set `[hidden] { display: none !important; }` so we also need the `!important` here to be able to override the default hidden behavior on the sphinx rendered scikit-learn.org. See: https://github.com/scikit-learn/scikit-learn/issues/21755 */display: inline-block !important;position: relative;}#sk-container-id-1 div.sk-text-repr-fallback {display: none;}</style><div id=\"sk-container-id-1\" class=\"sk-top-container\"><div class=\"sk-text-repr-fallback\"><pre>BernoulliNB()</pre><b>In a Jupyter environment, please rerun this cell to show the HTML representation or trust the notebook. <br />On GitHub, the HTML representation is unable to render, please try loading this page with nbviewer.org.</b></div><div class=\"sk-container\" hidden><div class=\"sk-item\"><div class=\"sk-estimator sk-toggleable\"><input class=\"sk-toggleable__control sk-hidden--visually\" id=\"sk-estimator-id-1\" type=\"checkbox\" checked><label for=\"sk-estimator-id-1\" class=\"sk-toggleable__label sk-toggleable__label-arrow\">BernoulliNB</label><div class=\"sk-toggleable__content\"><pre>BernoulliNB()</pre></div></div></div></div></div>"
      ],
      "text/plain": [
       "BernoulliNB()"
      ]
     },
     "execution_count": 29,
     "metadata": {},
     "output_type": "execute_result"
    }
   ],
   "source": [
    "from sklearn.metrics import accuracy_score, precision_score, recall_score, f1_score\n",
    "from sklearn.naive_bayes import BernoulliNB\n",
    "bnb_model=BernoulliNB()\n",
    "bnb_model.fit(X_train, y_train)"
   ]
  },
  {
   "cell_type": "code",
   "execution_count": 30,
   "id": "0224ea9c",
   "metadata": {
    "execution": {
     "iopub.execute_input": "2025-01-28T17:51:44.407445Z",
     "iopub.status.busy": "2025-01-28T17:51:44.407063Z",
     "iopub.status.idle": "2025-01-28T17:51:44.477244Z",
     "shell.execute_reply": "2025-01-28T17:51:44.476033Z"
    },
    "papermill": {
     "duration": 0.084382,
     "end_time": "2025-01-28T17:51:44.478958",
     "exception": false,
     "start_time": "2025-01-28T17:51:44.394576",
     "status": "completed"
    },
    "tags": []
   },
   "outputs": [
    {
     "name": "stdout",
     "output_type": "stream",
     "text": [
      "Accuracy: 85.83%\n",
      "Precision: 0.00%\n",
      "Recall: 0.00%\n",
      "F1-Score: 0.00%\n"
     ]
    },
    {
     "name": "stderr",
     "output_type": "stream",
     "text": [
      "/usr/local/lib/python3.10/dist-packages/sklearn/metrics/_classification.py:1344: UndefinedMetricWarning: Precision is ill-defined and being set to 0.0 due to no predicted samples. Use `zero_division` parameter to control this behavior.\n",
      "  _warn_prf(average, modifier, msg_start, len(result))\n"
     ]
    }
   ],
   "source": [
    "from sklearn.metrics import accuracy_score, precision_score, recall_score, f1_score\n",
    "\n",
    "Y_pred = bnb_model.predict(X_test)\n",
    "\n",
    "# Accuracy\n",
    "accuracy = accuracy_score(y_test, Y_pred)\n",
    "\n",
    "# Precision, Recall, F1-Score\n",
    "precision = precision_score(y_test, Y_pred, pos_label=\"spam\")\n",
    "recall = recall_score(y_test, Y_pred, pos_label=\"spam\")\n",
    "f1 = f1_score(y_test, Y_pred, pos_label=\"spam\")\n",
    "\n",
    "print(f\"Accuracy: {accuracy * 100:.2f}%\")\n",
    "print(f\"Precision: {precision * 100:.2f}%\")\n",
    "print(f\"Recall: {recall * 100:.2f}%\")\n",
    "print(f\"F1-Score: {f1 * 100:.2f}%\")\n",
    "\n"
   ]
  },
  {
   "cell_type": "code",
   "execution_count": null,
   "id": "611a499f",
   "metadata": {
    "papermill": {
     "duration": 0.012574,
     "end_time": "2025-01-28T17:51:44.503988",
     "exception": false,
     "start_time": "2025-01-28T17:51:44.491414",
     "status": "completed"
    },
    "tags": []
   },
   "outputs": [],
   "source": []
  }
 ],
 "metadata": {
  "kaggle": {
   "accelerator": "none",
   "dataSources": [
    {
     "datasetId": 483,
     "sourceId": 982,
     "sourceType": "datasetVersion"
    }
   ],
   "dockerImageVersionId": 30839,
   "isGpuEnabled": false,
   "isInternetEnabled": true,
   "language": "python",
   "sourceType": "notebook"
  },
  "kernelspec": {
   "display_name": "Python 3",
   "language": "python",
   "name": "python3"
  },
  "language_info": {
   "codemirror_mode": {
    "name": "ipython",
    "version": 3
   },
   "file_extension": ".py",
   "mimetype": "text/x-python",
   "name": "python",
   "nbconvert_exporter": "python",
   "pygments_lexer": "ipython3",
   "version": "3.10.12"
  },
  "papermill": {
   "default_parameters": {},
   "duration": 14.174851,
   "end_time": "2025-01-28T17:51:45.236124",
   "environment_variables": {},
   "exception": null,
   "input_path": "__notebook__.ipynb",
   "output_path": "__notebook__.ipynb",
   "parameters": {},
   "start_time": "2025-01-28T17:51:31.061273",
   "version": "2.6.0"
  }
 },
 "nbformat": 4,
 "nbformat_minor": 5
}
